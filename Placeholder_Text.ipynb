{
  "nbformat": 4,
  "nbformat_minor": 0,
  "metadata": {
    "colab": {
      "provenance": [],
      "collapsed_sections": []
    },
    "kernelspec": {
      "name": "python3",
      "display_name": "Python 3"
    },
    "language_info": {
      "name": "python"
    }
  },
  "cells": [
    {
      "cell_type": "code",
      "execution_count": 2,
      "metadata": {
        "id": "QK2vT6HNhleP",
        "colab": {
          "base_uri": "https://localhost:8080/",
          "height": 71
        },
        "outputId": "dc8b3dd2-5401-47b4-a3d8-a7e5831fcdfa"
      },
      "outputs": [
        {
          "output_type": "execute_result",
          "data": {
            "text/plain": [
              "'\\nPurpose: Implement Placeholders algorithm from \"Learning Placeholders for Open-Set Recognition\"\\n    and compare its performance to simple confidence thresholding on a logistic regression classifier.\\n\\nFollowing https://builtin.com/data-science/guide-logistic-regression-tensorflow-20\\n'"
            ],
            "application/vnd.google.colaboratory.intrinsic+json": {
              "type": "string"
            }
          },
          "metadata": {},
          "execution_count": 2
        }
      ],
      "source": [
        "\"\"\"\n",
        "\n",
        "Purpose: Implement Placeholders algorithm from \"Learning Placeholders for Open-Set Recognition\"\n",
        "    and compare its performance to simple confidence thresholding on a logistic regression classifier.\n",
        "\n",
        "Following https://builtin.com/data-science/guide-logistic-regression-tensorflow-20\n",
        "\n",
        "--- Following Josh's placeholders_experiments.ipynb to create a version that works with text data\n",
        "\n",
        "\"\"\""
      ]
    },
    {
      "cell_type": "code",
      "source": [
        "import pandas as pd\n",
        "import tensorflow as tf\n",
        "from sklearn.model_selection import train_test_split\n",
        "import matplotlib.pyplot as plt"
      ],
      "metadata": {
        "id": "vG70TKWYkXQx"
      },
      "execution_count": 3,
      "outputs": []
    },
    {
      "cell_type": "code",
      "source": [
        "NUM_CLASSES = 100\n",
        "\n",
        "def load_dataset():\n",
        "    df = pd.read_excel(r'/content/drive/MyDrive/NLP_Fall2022/Group Project/DatasetSplit/train_split.xlsx', usecols=['label','review'])\n",
        "    df_test = pd.read_excel(r'/content/drive/MyDrive/NLP_Fall2022/Group Project/DatasetSplit/test_split.xlsx', usecols=['label','review'])\n",
        "    # tensor = lambda data: tf.convert_to_tensor(data, dtype=tf.object)\n",
        "    # X_train = tf.convert_to_tensor(df['review'])\n",
        "    # y_train = tf.convert_to_tensor(df['label'])\n",
        "    # X_test = tf.convert_to_tensor(df_test['review'])\n",
        "    # y_test = tf.convert_to_tensor(df_test['label'])\n",
        "\n",
        "    X_train = df['review']\n",
        "    y_train = df['label']\n",
        "    X_test = df_test['review']\n",
        "    y_test = df_test['label']\n",
        "    return X_train, y_train, X_test, y_test\n",
        "\n",
        "def validation_split(X, y, val_size=.2):\n",
        "    \"\"\"Input are expected to be tensors.\n",
        "    \"\"\"\n",
        "    # tensor = lambda data: tf.convert_to_tensor(data, dtype=tf.float32)\n",
        "    X_train, X_val, y_train, y_val = train_test_split(X, y)\n",
        "    return X_train, X_val, y_train, y_val"
      ],
      "metadata": {
        "id": "6666_jKbjOkc"
      },
      "execution_count": 40,
      "outputs": []
    },
    {
      "cell_type": "code",
      "source": [
        "X, y, X_test, y_test = load_dataset()"
      ],
      "metadata": {
        "id": "196t1DSTlUmT"
      },
      "execution_count": 41,
      "outputs": []
    },
    {
      "cell_type": "code",
      "source": [
        "def plot_loss(train_losses, val_losses):\n",
        "    iterations = list(range(len(train_losses)))\n",
        "    plt.plot(iterations, train_losses, label='Train')\n",
        "    plt.plot(iterations, val_losses, label='Validation')\n",
        "    plt.xlabel('Iterations')\n",
        "    plt.ylabel('Cross Entropy Loss')\n",
        "    plt.legend()\n",
        "    plt.title('Loss While Training')\n",
        "    plt.show()\n",
        "    \n",
        "def plot_acc(train_accs, val_accs):\n",
        "    iterations = list(range(len(train_accs)))\n",
        "    plt.plot(iterations, train_accs, label='Train')\n",
        "    plt.plot(iterations, val_accs, label='Validation')\n",
        "    plt.xlabel('Iterations')\n",
        "    plt.ylabel('Classification Accuracy')\n",
        "    plt.legend()\n",
        "    plt.title('Accuracy While Training')\n",
        "    plt.show()"
      ],
      "metadata": {
        "id": "5JuIKHj2nCtc"
      },
      "execution_count": 42,
      "outputs": []
    },
    {
      "cell_type": "code",
      "source": [
        "class StandardLogisticRegressionModel(tf.keras.Model):\n",
        "    def __init__(self, pre_dim, post_dim, num_classes):\n",
        "        super().__init__()\n",
        "        self.num_classes = num_classes\n",
        "        self.embed_pre = tf.keras.layers.Dense(pre_dim,  activation='relu', name='embed_pre')\n",
        "        self.embed_post = tf.keras.layers.Dense(post_dim, activation='relu', name='embed_post')\n",
        "        self.logits_layer = tf.keras.layers.Dense(num_classes, activation=None, name='ligits')\n",
        "        self.output_layer = tf.keras.layers.Softmax(name='output')\n",
        "        \n",
        "    # def call(self, inputs):\n",
        "    #     print(\"2nd layer\\n\\n\")\n",
        "    #     print(inputs)\n",
        "    #     x_pre = self.embed_pre(inputs)\n",
        "    #     print(x_pre)\n",
        "    #     x_post = self.embed_post(x_pre)\n",
        "    #     print(x_post)\n",
        "    #     logits = self.logits_layer(x_post)\n",
        "    #     print(logits)\n",
        "    #     return self.output_layer(logits)\n",
        "\n",
        "def ce_loss(y_true, y_pred):\n",
        "    \"\"\" Cross Entropy Loss.\n",
        "    y_true: one-hot encoded class labels\n",
        "    y_pred: class probabilities\n",
        "    \"\"\"\n",
        "    y_pred = tf.clip_by_value(y_pred, 1e-9, 1.)\n",
        "    return tf.reduce_mean(-tf.reduce_sum(y_true * tf.math.log(y_pred), axis=1))\n",
        "\n",
        "def accuracy(y_true, y_pred):\n",
        "    \"\"\"y_true is the true class labels (not one-hot encoded) and y_pred are the predicted\n",
        "    class labels (not class probabilities).\n",
        "    \"\"\"\n",
        "    correct_preds = tf.equal(tf.cast(y_true, tf.int64), y_pred)\n",
        "    return tf.reduce_mean(tf.cast(correct_preds, tf.float32))"
      ],
      "metadata": {
        "id": "eqTJ2EU5nLHN"
      },
      "execution_count": 117,
      "outputs": []
    },
    {
      "cell_type": "code",
      "source": [
        "\n",
        "import keras\n",
        "from keras.models import Sequential\n",
        "from keras.layers import Dense, Dropout\n",
        "from sklearn.feature_extraction.text import TfidfVectorizer\n",
        "from keras.utils import np_utils\n",
        "import numpy as np\n",
        "from sklearn.preprocessing import LabelEncoder\n",
        "from sklearn.model_selection import train_test_split"
      ],
      "metadata": {
        "id": "Uf7KkWFhNKA1"
      },
      "execution_count": 52,
      "outputs": []
    },
    {
      "cell_type": "code",
      "source": [
        "X_train, X_val, y_train, y_val = validation_split(X, y, val_size=.2)"
      ],
      "metadata": {
        "id": "0l72Ci1nRAXJ"
      },
      "execution_count": 53,
      "outputs": []
    },
    {
      "cell_type": "code",
      "source": [
        "\n",
        "epochs = 500\n",
        "batch_size = 64\n",
        "\n",
        "vectorizer = TfidfVectorizer(max_features=250, sublinear_tf=True, ngram_range=(1,2))\n",
        "train_features = vectorizer.fit_transform(X_train).toarray()\n",
        "dev_features = vectorizer.transform(X_val).toarray()\n",
        "# y_train_one_hot = tf.one_hot(tf.cast(y, tf.int64), depth=100)\n",
        "lb = LabelEncoder()\n",
        "ytrain = lb.fit_transform(y_train)\n",
        "dummy_y_train = np_utils.to_categorical(ytrain)\n",
        "\n",
        "yval = lb.fit_transform(y_val)\n",
        "dummy_y_dev = np_utils.to_categorical(yval)"
      ],
      "metadata": {
        "id": "UdFDYPjuYVFo"
      },
      "execution_count": null,
      "outputs": []
    },
    {
      "cell_type": "code",
      "source": [
        "pre_dim = post_dim = 200\n",
        "model = StandardLogisticRegressionModel(\n",
        "    pre_dim=pre_dim, \n",
        "    post_dim=post_dim, \n",
        "    num_classes=NUM_CLASSES\n",
        ")\n",
        "model.compile(\n",
        "    optimizer='adam', \n",
        "    loss=ce_loss, \n",
        "    metrics=[tf.keras.metrics.CategoricalAccuracy(name='acc')]\n",
        ")\n",
        "# y_train_one_hot = tf.one_hot(tf.cast(y, tf.int64), depth=model.num_classes)\n",
        "\n",
        "# history = model.fit(X, y_train_one_hot, epochs=10, validation_split=.2)\n",
        "es_callback = keras.callbacks.EarlyStopping(monitor='val_loss', patience=5)\n",
        "history=model.fit(train_features, dummy_y_train, batch_size=batch_size,\n",
        "                  callbacks=[es_callback],\n",
        "          epochs=epochs, validation_data=(dev_features, dummy_y_dev))\n",
        "# history = model.fit(X, y_train_one_hot, epochs=10, validation_split=.2)"
      ],
      "metadata": {
        "colab": {
          "base_uri": "https://localhost:8080/"
        },
        "id": "tMRM0hWkU_vx",
        "outputId": "b2d3f5d2-e353-4efe-cdeb-2e190919a17c"
      },
      "execution_count": 62,
      "outputs": [
        {
          "output_type": "stream",
          "name": "stdout",
          "text": [
            "Epoch 1/500\n",
            "557/557 [==============================] - 4s 6ms/step - loss: 3.4490 - acc: 0.2171 - val_loss: 2.6419 - val_acc: 0.3649\n",
            "Epoch 2/500\n",
            "557/557 [==============================] - 3s 6ms/step - loss: 2.2845 - acc: 0.4447 - val_loss: 2.1759 - val_acc: 0.4607\n",
            "Epoch 3/500\n",
            "557/557 [==============================] - 3s 6ms/step - loss: 1.9257 - acc: 0.5200 - val_loss: 1.9745 - val_acc: 0.5043\n",
            "Epoch 4/500\n",
            "557/557 [==============================] - 3s 6ms/step - loss: 1.7345 - acc: 0.5644 - val_loss: 1.8410 - val_acc: 0.5346\n",
            "Epoch 5/500\n",
            "557/557 [==============================] - 5s 8ms/step - loss: 1.6012 - acc: 0.5943 - val_loss: 1.7740 - val_acc: 0.5496\n",
            "Epoch 6/500\n",
            "557/557 [==============================] - 3s 5ms/step - loss: 1.5008 - acc: 0.6156 - val_loss: 1.7230 - val_acc: 0.5619\n",
            "Epoch 7/500\n",
            "557/557 [==============================] - 3s 6ms/step - loss: 1.4186 - acc: 0.6350 - val_loss: 1.6957 - val_acc: 0.5679\n",
            "Epoch 8/500\n",
            "557/557 [==============================] - 3s 6ms/step - loss: 1.3500 - acc: 0.6480 - val_loss: 1.6542 - val_acc: 0.5805\n",
            "Epoch 9/500\n",
            "557/557 [==============================] - 3s 6ms/step - loss: 1.2866 - acc: 0.6649 - val_loss: 1.6354 - val_acc: 0.5867\n",
            "Epoch 10/500\n",
            "557/557 [==============================] - 3s 5ms/step - loss: 1.2348 - acc: 0.6749 - val_loss: 1.6100 - val_acc: 0.5928\n",
            "Epoch 11/500\n",
            "557/557 [==============================] - 3s 6ms/step - loss: 1.1873 - acc: 0.6853 - val_loss: 1.6067 - val_acc: 0.5939\n",
            "Epoch 12/500\n",
            "557/557 [==============================] - 5s 8ms/step - loss: 1.1399 - acc: 0.6959 - val_loss: 1.6085 - val_acc: 0.5935\n",
            "Epoch 13/500\n",
            "557/557 [==============================] - 4s 8ms/step - loss: 1.0963 - acc: 0.7091 - val_loss: 1.5930 - val_acc: 0.5989\n",
            "Epoch 14/500\n",
            "557/557 [==============================] - 4s 7ms/step - loss: 1.0622 - acc: 0.7144 - val_loss: 1.5873 - val_acc: 0.5980\n",
            "Epoch 15/500\n",
            "557/557 [==============================] - 3s 6ms/step - loss: 1.0194 - acc: 0.7270 - val_loss: 1.5920 - val_acc: 0.5971\n",
            "Epoch 16/500\n",
            "557/557 [==============================] - 3s 6ms/step - loss: 0.9816 - acc: 0.7371 - val_loss: 1.5841 - val_acc: 0.6017\n",
            "Epoch 17/500\n",
            "557/557 [==============================] - 3s 6ms/step - loss: 0.9444 - acc: 0.7474 - val_loss: 1.5861 - val_acc: 0.6037\n",
            "Epoch 18/500\n",
            "557/557 [==============================] - 3s 5ms/step - loss: 0.9114 - acc: 0.7527 - val_loss: 1.5968 - val_acc: 0.6053\n",
            "Epoch 19/500\n",
            "557/557 [==============================] - 3s 5ms/step - loss: 0.8758 - acc: 0.7606 - val_loss: 1.6079 - val_acc: 0.6036\n",
            "Epoch 20/500\n",
            "557/557 [==============================] - 3s 6ms/step - loss: 0.8441 - acc: 0.7694 - val_loss: 1.6284 - val_acc: 0.6050\n",
            "Epoch 21/500\n",
            "557/557 [==============================] - 3s 6ms/step - loss: 0.8124 - acc: 0.7786 - val_loss: 1.6329 - val_acc: 0.6016\n"
          ]
        }
      ]
    },
    {
      "cell_type": "code",
      "source": [
        "train_loss = history.history['loss']\n",
        "val_loss = history.history['val_loss']\n",
        "plot_loss(train_loss, val_loss)\n",
        "\n",
        "train_acc = history.history['acc']\n",
        "val_acc = history.history['val_acc']\n",
        "plot_acc(train_acc, val_acc)"
      ],
      "metadata": {
        "colab": {
          "base_uri": "https://localhost:8080/",
          "height": 573
        },
        "id": "xo_Z9PA6aBxj",
        "outputId": "3480141b-5f5c-41fb-bd3e-3cd3fb0b33f6"
      },
      "execution_count": 63,
      "outputs": [
        {
          "output_type": "display_data",
          "data": {
            "text/plain": [
              "<Figure size 432x288 with 1 Axes>"
            ],
            "image/png": "[encoded data removed]"
          },
          "metadata": {
            "needs_background": "light"
          }
        },
        {
          "output_type": "display_data",
          "data": {
            "text/plain": [
              "<Figure size 432x288 with 1 Axes>"
            ],
            "image/png": "[encoded data removed]"
          },
          "metadata": {
            "needs_background": "light"
          }
        }
      ]
    },
    {
      "cell_type": "code",
      "source": [
        "\n",
        "# from matplotlib import pyplot\n",
        "# pyplot.plot(history.history['loss'])\n",
        "# pyplot.plot(history.history['val_loss'])\n",
        "# pyplot.title('model train vs validation loss')\n",
        "# pyplot.ylabel('loss')\n",
        "# pyplot.xlabel('epoch')\n",
        "# pyplot.legend(['train', 'validation'], loc='upper left')\n",
        "# pyplot.show()\n",
        "# pyplot.plot(history.history['accuracy'])\n",
        "# pyplot.plot(history.history['val_accuracy'])\n",
        "# pyplot.title('model train vs validation acc')\n",
        "# pyplot.ylabel('acc')\n",
        "# pyplot.xlabel('epoch')\n",
        "# pyplot.legend(['train', 'validation'], loc='upper left')\n",
        "# pyplot.show()\n",
        "# score = model.evaluate(dev_features, dummy_y_dev, batch_size=batch_size, verbose=1)\n",
        "\n",
        "\n",
        "\n",
        "\n",
        "\n",
        "# test_features = vectorizer.fit_transform(X_test).toarray()\n",
        "\n",
        "# y_testval = lb.fit_transform(y_test)\n",
        "# dummy_y_test = np_utils.to_categorical(y_testval)\n",
        "# #Predictions \n",
        "# print (\"Predict\")\n",
        "# y_test1 = model.predict(test_features)\n",
        "\n",
        "# y_pred = lb.inverse_transform(np.argmax(y_test1, axis=1))\n",
        "\n",
        "\n",
        "# score = model.evaluate(test_features, dummy_y_test, batch_size=batch_size, verbose=1)\n",
        "\n",
        "# print('Test accuracy:', score[1])"
      ],
      "metadata": {
        "id": "EC6hDNYRUC_X"
      },
      "execution_count": 66,
      "outputs": []
    },
    {
      "cell_type": "code",
      "source": [
        "\"\"\" \n",
        "Now we attempt open-set classicfication by training a logistic regression model on k \n",
        "classes (digits 0-8 for this dataset) and test on k+1. If all predicted class probabilities\n",
        "are below a threshold, predict the open set.\n",
        "\"\"\"\n",
        "from itertools import compress\n",
        "    \n",
        "def threshold_predict(X, model, threshold):\n",
        "    # print(X)\n",
        "    # y_pred = model.call(X)\n",
        "    y_pred = model.predict(X)\n",
        "    # print(y_pred)\n",
        "    highest_prob = tf.reduce_max(y_pred, axis=1)\n",
        "    return tf.where(highest_prob < threshold, -1, tf.argmax(y_pred, axis=1))\n",
        "\n",
        "def remove_classes_from_dataset(X, y, class_labels):\n",
        "    \"\"\"Removes samples from both X and y that correspond to classes given in class_labels\n",
        "    class_labels: list of class_labels e.g. [3,4,9]\n",
        "    y: tensor containing class labels (not yet one-hot encoded)\n",
        "    \"\"\"\n",
        "    to_remove_mask = [y != label for label in class_labels]\n",
        "    X = np.array(X) \n",
        "    result = X[to_remove_mask] \n",
        "    X=result.tolist()\n",
        "    y = np.array(y) \n",
        "    result = y[to_remove_mask] \n",
        "    y=result.tolist()\n",
        "    return X, y\n",
        "\n",
        "def modify_open_set_labels(y, open_set_class_labels):\n",
        "    \"\"\"Replaces class labels from the open set in y with -1\n",
        "    \"\"\"\n",
        "    open_set_idx = tf.reduce_any([y == label for label in open_set_class_labels], axis=0)\n",
        "    return tf.where(open_set_idx, -1, y)\n",
        "\n",
        "def open_set_accuracy(y_true, y_pred):\n",
        "    \"\"\" fraction of samples in the open set that are classified correctly.\n",
        "    \"\"\"\n",
        "    y_true = tf.cast(y_true, tf.int64)\n",
        "    open_set_idx = y_true == -1\n",
        "    return accuracy(y_true[open_set_idx], y_pred[open_set_idx])\n",
        "\n",
        "def closed_set_accuracy(y_true, y_pred):\n",
        "    \"\"\" fraction of samples in the open set that are classified correctly.\n",
        "    \"\"\"\n",
        "    y_true = tf.cast(y_true, tf.int64)\n",
        "    closed_set_idx = y_true != -1\n",
        "    return accuracy(y_true[closed_set_idx], y_pred[closed_set_idx])\n",
        "    #return tf.reduce_sum(tf.equal(y_true[closed_set_idx], y_pred[closed_set_idx]))\n",
        "\n",
        "def plot_open_closed_accuracy(all_acc, open_acc, closed_acc):\n",
        "    plt.plot(threshold_value, all_acc, label='All class accuracy')\n",
        "    plt.plot(threshold_value, open_acc, label='Open set accuracy')\n",
        "    plt.plot(threshold_value, closed_acc, label='Closed set accuracy')\n",
        "    plt.xlabel('Classification Probability Threshold')\n",
        "    plt.ylabel('Classification Accuracy')\n",
        "    plt.legend()\n",
        "    plt.title('Effect of Threshold on Accuracy')\n",
        "    plt.show()"
      ],
      "metadata": {
        "id": "3ZSl4QohaJJ7"
      },
      "execution_count": 103,
      "outputs": []
    },
    {
      "cell_type": "code",
      "source": [
        "# train for closed set classification on 0-8, 9 is removed before training\n",
        "# from the train set, but is left in the valdation set\n",
        "open_set_class_labels = [99] \n",
        "\n",
        "X_train, X_val, y_train, y_val = validation_split(X, y)\n",
        "X_train_closed, y_train_closed = remove_classes_from_dataset(X_train, y_train, open_set_class_labels)\n",
        "X_val_closed, y_val_closed = remove_classes_from_dataset(X_val, y_val, open_set_class_labels)\n",
        "\n",
        "\n",
        "pre_dim = post_dim = 200\n",
        "model = StandardLogisticRegressionModel(pre_dim, post_dim, NUM_CLASSES - 1)\n",
        "model.compile(optimizer='adam', loss=ce_loss, metrics=[tf.keras.metrics.CategoricalAccuracy(name='acc')])\n",
        "\n",
        "\n",
        "\n",
        "\n",
        "\n",
        "train_features = vectorizer.fit_transform(X_train_closed).toarray()\n",
        "dev_features = vectorizer.transform(X_val_closed).toarray()\n",
        "\n",
        "lb = LabelEncoder()\n",
        "ytrain = lb.fit_transform(y_train_closed)\n",
        "dummy_y_train = np_utils.to_categorical(ytrain)\n",
        "\n",
        "yval = lb.fit_transform(y_val_closed)\n",
        "dummy_y_dev = np_utils.to_categorical(yval)\n",
        "\n",
        "\n",
        "es_callback = keras.callbacks.EarlyStopping(monitor='val_loss', patience=5)\n",
        "history=model.fit(train_features, dummy_y_train, batch_size=batch_size,\n",
        "                  callbacks=[es_callback],\n",
        "          epochs=epochs, validation_data=(dev_features, dummy_y_dev))\n",
        "\n"
      ],
      "metadata": {
        "colab": {
          "base_uri": "https://localhost:8080/"
        },
        "id": "QdBBQoNzaQjI",
        "outputId": "445b21a8-ba57-4e34-fb69-11571d24a68b"
      },
      "execution_count": 89,
      "outputs": [
        {
          "output_type": "stream",
          "name": "stderr",
          "text": [
            "/usr/local/lib/python3.7/dist-packages/ipykernel_launcher.py:22: FutureWarning: Using a non-tuple sequence for multidimensional indexing is deprecated; use `arr[tuple(seq)]` instead of `arr[seq]`. In the future this will be interpreted as an array index, `arr[np.array(seq)]`, which will result either in an error or a different result.\n",
            "/usr/local/lib/python3.7/dist-packages/ipykernel_launcher.py:25: FutureWarning: Using a non-tuple sequence for multidimensional indexing is deprecated; use `arr[tuple(seq)]` instead of `arr[seq]`. In the future this will be interpreted as an array index, `arr[np.array(seq)]`, which will result either in an error or a different result.\n"
          ]
        },
        {
          "output_type": "stream",
          "name": "stdout",
          "text": [
            "Epoch 1/500\n",
            "551/551 [==============================] - 4s 6ms/step - loss: 3.4177 - acc: 0.2272 - val_loss: 2.6180 - val_acc: 0.3693\n",
            "Epoch 2/500\n",
            "551/551 [==============================] - 3s 6ms/step - loss: 2.2901 - acc: 0.4385 - val_loss: 2.1527 - val_acc: 0.4678\n",
            "Epoch 3/500\n",
            "551/551 [==============================] - 3s 6ms/step - loss: 1.9474 - acc: 0.5123 - val_loss: 1.9053 - val_acc: 0.5268\n",
            "Epoch 4/500\n",
            "551/551 [==============================] - 3s 6ms/step - loss: 1.7432 - acc: 0.5607 - val_loss: 1.8082 - val_acc: 0.5458\n",
            "Epoch 5/500\n",
            "551/551 [==============================] - 3s 6ms/step - loss: 1.6101 - acc: 0.5901 - val_loss: 1.7224 - val_acc: 0.5669\n",
            "Epoch 6/500\n",
            "551/551 [==============================] - 3s 6ms/step - loss: 1.5080 - acc: 0.6137 - val_loss: 1.6605 - val_acc: 0.5805\n",
            "Epoch 7/500\n",
            "551/551 [==============================] - 3s 5ms/step - loss: 1.4298 - acc: 0.6296 - val_loss: 1.6423 - val_acc: 0.5838\n",
            "Epoch 8/500\n",
            "551/551 [==============================] - 3s 6ms/step - loss: 1.3607 - acc: 0.6469 - val_loss: 1.6061 - val_acc: 0.5962\n",
            "Epoch 9/500\n",
            "551/551 [==============================] - 3s 6ms/step - loss: 1.2982 - acc: 0.6599 - val_loss: 1.6049 - val_acc: 0.5892\n",
            "Epoch 10/500\n",
            "551/551 [==============================] - 3s 6ms/step - loss: 1.2471 - acc: 0.6721 - val_loss: 1.5829 - val_acc: 0.5968\n",
            "Epoch 11/500\n",
            "551/551 [==============================] - 4s 7ms/step - loss: 1.2010 - acc: 0.6852 - val_loss: 1.5498 - val_acc: 0.6043\n",
            "Epoch 12/500\n",
            "551/551 [==============================] - 3s 6ms/step - loss: 1.1534 - acc: 0.6944 - val_loss: 1.5527 - val_acc: 0.6054\n",
            "Epoch 13/500\n",
            "551/551 [==============================] - 3s 5ms/step - loss: 1.1113 - acc: 0.7048 - val_loss: 1.5470 - val_acc: 0.6055\n",
            "Epoch 14/500\n",
            "551/551 [==============================] - 3s 6ms/step - loss: 1.0702 - acc: 0.7155 - val_loss: 1.5495 - val_acc: 0.6103\n",
            "Epoch 15/500\n",
            "551/551 [==============================] - 3s 6ms/step - loss: 1.0355 - acc: 0.7243 - val_loss: 1.5573 - val_acc: 0.6085\n",
            "Epoch 16/500\n",
            "551/551 [==============================] - 3s 6ms/step - loss: 0.9962 - acc: 0.7316 - val_loss: 1.5458 - val_acc: 0.6153\n",
            "Epoch 17/500\n",
            "551/551 [==============================] - 3s 6ms/step - loss: 0.9639 - acc: 0.7406 - val_loss: 1.5652 - val_acc: 0.6101\n",
            "Epoch 18/500\n",
            "551/551 [==============================] - 3s 6ms/step - loss: 0.9282 - acc: 0.7493 - val_loss: 1.5617 - val_acc: 0.6157\n",
            "Epoch 19/500\n",
            "551/551 [==============================] - 4s 7ms/step - loss: 0.8948 - acc: 0.7572 - val_loss: 1.5618 - val_acc: 0.6189\n",
            "Epoch 20/500\n",
            "551/551 [==============================] - 4s 8ms/step - loss: 0.8631 - acc: 0.7663 - val_loss: 1.6059 - val_acc: 0.6073\n",
            "Epoch 21/500\n",
            "551/551 [==============================] - 3s 6ms/step - loss: 0.8328 - acc: 0.7741 - val_loss: 1.6062 - val_acc: 0.6128\n"
          ]
        }
      ]
    },
    {
      "cell_type": "code",
      "source": [
        "train_loss = history.history['loss']\n",
        "val_loss = history.history['val_loss']\n",
        "plot_loss(train_loss, val_loss)\n",
        "\n",
        "train_acc = history.history['acc']\n",
        "val_acc = history.history['val_acc']\n",
        "plot_acc(train_acc, val_acc)"
      ],
      "metadata": {
        "colab": {
          "base_uri": "https://localhost:8080/",
          "height": 573
        },
        "id": "OLZPCRckbdZC",
        "outputId": "da4b7b27-f495-46d7-fc5f-1a6f37ef04f9"
      },
      "execution_count": 90,
      "outputs": [
        {
          "output_type": "display_data",
          "data": {
            "text/plain": [
              "<Figure size 432x288 with 1 Axes>"
            ],
            "image/png": "[encoded data removed]"
          },
          "metadata": {
            "needs_background": "light"
          }
        },
        {
          "output_type": "display_data",
          "data": {
            "text/plain": [
              "<Figure size 432x288 with 1 Axes>"
            ],
            "image/png": "[encoded data removed]"
          },
          "metadata": {
            "needs_background": "light"
          }
        }
      ]
    },
    {
      "cell_type": "code",
      "source": [
        "\n",
        "# convert instances of class labels in the open set to -1\n",
        "y_test_open = modify_open_set_labels(y_test, open_set_class_labels)\n",
        "\n",
        "\n",
        "# See how the threshold value affects open-set accuracy\n",
        "threshold_value = np.linspace(0, 1, 100)\n",
        "\n",
        "total_acc = []\n",
        "open_set_acc = []\n",
        "closed_set_acc = []\n",
        "\n",
        "max_total_acc = 0\n",
        "best_threshold = 0\n",
        "\n",
        "for threshold in threshold_value:\n",
        "    test_features = vectorizer.fit_transform(X_test).toarray()\n",
        "    y_pred = threshold_predict(test_features, model, threshold)\n",
        "    total_acc.append(accuracy(y_test_open, y_pred))\n",
        "    open_set_acc.append(open_set_accuracy(y_test_open, y_pred))\n",
        "    closed_set_acc.append(closed_set_accuracy(y_test_open, y_pred))\n",
        "    \n",
        "plot_open_closed_accuracy(total_acc, open_set_acc, closed_set_acc)\n",
        "\n",
        "best_total_acc_idx = np.argmax(total_acc)\n",
        "print('total accuracy:      {:.4f}'.format(float(total_acc[best_total_acc_idx])))\n",
        "print('open-set accuracy:   {:.4f}'.format(float(open_set_acc[best_total_acc_idx])))\n",
        "print('closed-set accuracy: {:.4f}'.format(float(closed_set_acc[best_total_acc_idx])))\n",
        "print('optimal threshold:   {:.4f}'.format(float(threshold_value[best_total_acc_idx])))"
      ],
      "metadata": {
        "colab": {
          "base_uri": "https://localhost:8080/",
          "height": 1000
        },
        "id": "u5R-Ah1njfhp",
        "outputId": "94604eaa-b177-4fda-cac2-0da6ef461144"
      },
      "execution_count": 104,
      "outputs": [
        {
          "output_type": "stream",
          "name": "stdout",
          "text": [
            "79/79 [==============================] - 0s 2ms/step\n",
            "79/79 [==============================] - 0s 2ms/step\n",
            "79/79 [==============================] - 0s 2ms/step\n",
            "79/79 [==============================] - 0s 2ms/step\n",
            "79/79 [==============================] - 0s 2ms/step\n",
            "79/79 [==============================] - 0s 2ms/step\n",
            "79/79 [==============================] - 0s 2ms/step\n",
            "79/79 [==============================] - 0s 2ms/step\n",
            "79/79 [==============================] - 0s 4ms/step\n",
            "79/79 [==============================] - 0s 2ms/step\n",
            "79/79 [==============================] - 0s 2ms/step\n",
            "79/79 [==============================] - 0s 2ms/step\n",
            "79/79 [==============================] - 0s 2ms/step\n",
            "79/79 [==============================] - 0s 2ms/step\n",
            "79/79 [==============================] - 0s 2ms/step\n",
            "79/79 [==============================] - 0s 2ms/step\n",
            "79/79 [==============================] - 0s 2ms/step\n",
            "79/79 [==============================] - 0s 2ms/step\n",
            "79/79 [==============================] - 0s 3ms/step\n",
            "79/79 [==============================] - 0s 2ms/step\n",
            "79/79 [==============================] - 0s 2ms/step\n",
            "79/79 [==============================] - 0s 2ms/step\n",
            "79/79 [==============================] - 0s 2ms/step\n",
            "79/79 [==============================] - 0s 2ms/step\n",
            "79/79 [==============================] - 0s 2ms/step\n",
            "79/79 [==============================] - 0s 2ms/step\n",
            "79/79 [==============================] - 0s 2ms/step\n",
            "79/79 [==============================] - 0s 2ms/step\n",
            "79/79 [==============================] - 0s 3ms/step\n",
            "79/79 [==============================] - 0s 4ms/step\n",
            "79/79 [==============================] - 0s 2ms/step\n",
            "79/79 [==============================] - 0s 2ms/step\n",
            "79/79 [==============================] - 0s 2ms/step\n",
            "79/79 [==============================] - 0s 2ms/step\n",
            "79/79 [==============================] - 0s 2ms/step\n",
            "79/79 [==============================] - 0s 2ms/step\n",
            "79/79 [==============================] - 0s 2ms/step\n",
            "79/79 [==============================] - 0s 2ms/step\n",
            "79/79 [==============================] - 0s 2ms/step\n",
            "79/79 [==============================] - 0s 2ms/step\n",
            "79/79 [==============================] - 0s 2ms/step\n",
            "79/79 [==============================] - 0s 2ms/step\n",
            "79/79 [==============================] - 0s 2ms/step\n",
            "79/79 [==============================] - 0s 2ms/step\n",
            "79/79 [==============================] - 0s 2ms/step\n",
            "79/79 [==============================] - 0s 2ms/step\n",
            "79/79 [==============================] - 0s 2ms/step\n",
            "79/79 [==============================] - 0s 3ms/step\n",
            "79/79 [==============================] - 0s 2ms/step\n",
            "79/79 [==============================] - 0s 2ms/step\n",
            "79/79 [==============================] - 0s 2ms/step\n",
            "79/79 [==============================] - 0s 2ms/step\n",
            "79/79 [==============================] - 0s 2ms/step\n",
            "79/79 [==============================] - 0s 2ms/step\n",
            "79/79 [==============================] - 0s 2ms/step\n",
            "79/79 [==============================] - 0s 2ms/step\n",
            "79/79 [==============================] - 0s 4ms/step\n",
            "79/79 [==============================] - 0s 2ms/step\n",
            "79/79 [==============================] - 0s 2ms/step\n",
            "79/79 [==============================] - 0s 2ms/step\n",
            "79/79 [==============================] - 0s 2ms/step\n",
            "79/79 [==============================] - 0s 2ms/step\n",
            "79/79 [==============================] - 0s 2ms/step\n",
            "79/79 [==============================] - 0s 2ms/step\n",
            "79/79 [==============================] - 0s 2ms/step\n",
            "79/79 [==============================] - 0s 2ms/step\n",
            "79/79 [==============================] - 0s 2ms/step\n",
            "79/79 [==============================] - 0s 2ms/step\n",
            "79/79 [==============================] - 0s 2ms/step\n",
            "79/79 [==============================] - 0s 2ms/step\n",
            "79/79 [==============================] - 0s 2ms/step\n",
            "79/79 [==============================] - 0s 2ms/step\n",
            "79/79 [==============================] - 0s 2ms/step\n",
            "79/79 [==============================] - 0s 2ms/step\n",
            "79/79 [==============================] - 0s 2ms/step\n",
            "79/79 [==============================] - 0s 2ms/step\n",
            "79/79 [==============================] - 0s 2ms/step\n",
            "79/79 [==============================] - 0s 4ms/step\n",
            "79/79 [==============================] - 0s 2ms/step\n",
            "79/79 [==============================] - 0s 2ms/step\n",
            "79/79 [==============================] - 0s 2ms/step\n",
            "79/79 [==============================] - 0s 2ms/step\n",
            "79/79 [==============================] - 0s 2ms/step\n",
            "79/79 [==============================] - 0s 2ms/step\n",
            "79/79 [==============================] - 0s 2ms/step\n",
            "79/79 [==============================] - 0s 2ms/step\n",
            "79/79 [==============================] - 0s 3ms/step\n",
            "79/79 [==============================] - 0s 2ms/step\n",
            "79/79 [==============================] - 0s 2ms/step\n",
            "79/79 [==============================] - 0s 2ms/step\n",
            "79/79 [==============================] - 0s 2ms/step\n",
            "79/79 [==============================] - 0s 2ms/step\n",
            "79/79 [==============================] - 0s 2ms/step\n",
            "79/79 [==============================] - 0s 2ms/step\n",
            "79/79 [==============================] - 0s 2ms/step\n",
            "79/79 [==============================] - 0s 2ms/step\n",
            "79/79 [==============================] - 0s 2ms/step\n",
            "79/79 [==============================] - 0s 2ms/step\n",
            "79/79 [==============================] - 0s 2ms/step\n",
            "79/79 [==============================] - 0s 2ms/step\n"
          ]
        },
        {
          "output_type": "display_data",
          "data": {
            "text/plain": [
              "<Figure size 432x288 with 1 Axes>"
            ],
            "image/png": "[encoded data removed]"
          },
          "metadata": {
            "needs_background": "light"
          }
        },
        {
          "output_type": "stream",
          "name": "stdout",
          "text": [
            "total accuracy:      0.1724\n",
            "open-set accuracy:   0.0000\n",
            "closed-set accuracy: 0.1740\n",
            "optimal threshold:   0.0000\n"
          ]
        }
      ]
    },
    {
      "cell_type": "code",
      "execution_count": 124,
      "metadata": {
        "id": "4a335ef6"
      },
      "outputs": [],
      "source": [
        "\"\"\" Now that we have a baseline, we will implement the placeholders algorithm.\n",
        "\"\"\"\n",
        "\n",
        "class OpenSetPlaceholdersLRM(StandardLogisticRegressionModel):\n",
        "    def __init__(self, num_placeholders, *args, **kwargs):\n",
        "        super().__init__(*args, **kwargs)\n",
        "        self.num_placeholders = num_placeholders\n",
        "        self.dummy_logits_layer = tf.keras.layers.Dense(num_placeholders, activation=None, name='dummy_logits')\n",
        "\n",
        "    def call(self, inputs):\n",
        "        x_pre = self.embed_pre(inputs)\n",
        "        x_post = self.embed_post(x_pre)\n",
        "        closed_set_logits = self.logits_layer(x_post)\n",
        "        dummy_logits = self.dummy_logits_layer(x_post)\n",
        "        max_dummy_logit = tf.reduce_max(dummy_logits, axis=1)\n",
        "        all_logits = tf.concat([closed_set_logits, tf.expand_dims(max_dummy_logit, 1)], axis=1)\n",
        "        return self.output_layer(all_logits)\n",
        "        \n",
        "    def predict(self, x):\n",
        "        \"\"\" Returns the predicted class label. If predicted class is dummy class, return -1\n",
        "        indicating prediction falls within the open set.\n",
        "        \"\"\"\n",
        "        y_pred = self.__call__(x)\n",
        "        y_pred_labels = tf.argmax(y_pred, axis=1)\n",
        "        return tf.where(y_pred_labels == self.num_classes, -1, y_pred_labels)\n",
        "    \n",
        "def ce_loss_for_placeholders(y_true, y_pred, beta):\n",
        "    loss = ce_loss(y_true, y_pred)\n",
        "    # set each sample's predicted probability for the true class to zero\n",
        "    y_pred_without_true_prob = tf.where(y_true == 1, 0., y_pred)\n",
        "    # create a new y_true where the true label is the dummy class\n",
        "    rows, cols = y_true.shape\n",
        "    rows = rows or 1\n",
        "    y_true_dummy = tf.concat([tf.zeros([rows, cols - 1]), tf.ones([rows, 1])], axis=1)\n",
        "    loss += beta * ce_loss(y_true_dummy, y_pred_without_true_prob)\n",
        "    return loss"
      ]
    },
    {
      "cell_type": "code",
      "execution_count": 106,
      "metadata": {
        "id": "a915e23f",
        "outputId": "3e3bec4a-f66d-4dce-8fce-3e56d1963cc4",
        "colab": {
          "base_uri": "https://localhost:8080/",
          "height": 1000
        }
      },
      "outputs": [
        {
          "output_type": "stream",
          "name": "stderr",
          "text": [
            "/usr/local/lib/python3.7/dist-packages/ipykernel_launcher.py:23: FutureWarning: Using a non-tuple sequence for multidimensional indexing is deprecated; use `arr[tuple(seq)]` instead of `arr[seq]`. In the future this will be interpreted as an array index, `arr[np.array(seq)]`, which will result either in an error or a different result.\n",
            "/usr/local/lib/python3.7/dist-packages/ipykernel_launcher.py:26: FutureWarning: Using a non-tuple sequence for multidimensional indexing is deprecated; use `arr[tuple(seq)]` instead of `arr[seq]`. In the future this will be interpreted as an array index, `arr[np.array(seq)]`, which will result either in an error or a different result.\n"
          ]
        },
        {
          "output_type": "stream",
          "name": "stdout",
          "text": [
            "Epoch 1/500\n",
            "551/551 [==============================] - 6s 9ms/step - loss: 5.1409 - acc: 0.0078 - val_loss: 4.2088 - val_acc: 0.0301\n",
            "Epoch 2/500\n",
            "551/551 [==============================] - 4s 8ms/step - loss: 3.7985 - acc: 0.0931 - val_loss: 3.6048 - val_acc: 0.1280\n",
            "Epoch 3/500\n",
            "551/551 [==============================] - 5s 8ms/step - loss: 3.3659 - acc: 0.1737 - val_loss: 3.3505 - val_acc: 0.1923\n",
            "Epoch 4/500\n",
            "551/551 [==============================] - 4s 8ms/step - loss: 3.1593 - acc: 0.2150 - val_loss: 3.2433 - val_acc: 0.2429\n",
            "Epoch 5/500\n",
            "551/551 [==============================] - 4s 8ms/step - loss: 3.0228 - acc: 0.2442 - val_loss: 3.1537 - val_acc: 0.2162\n",
            "Epoch 6/500\n",
            "551/551 [==============================] - 4s 8ms/step - loss: 2.9236 - acc: 0.2640 - val_loss: 3.0973 - val_acc: 0.2480\n",
            "Epoch 7/500\n",
            "551/551 [==============================] - 4s 8ms/step - loss: 2.8427 - acc: 0.2808 - val_loss: 3.0525 - val_acc: 0.2556\n",
            "Epoch 8/500\n",
            "551/551 [==============================] - 5s 9ms/step - loss: 2.7750 - acc: 0.2934 - val_loss: 3.0230 - val_acc: 0.2630\n",
            "Epoch 9/500\n",
            "551/551 [==============================] - 10s 19ms/step - loss: 2.7186 - acc: 0.3078 - val_loss: 3.0017 - val_acc: 0.2869\n",
            "Epoch 10/500\n",
            "551/551 [==============================] - 8s 15ms/step - loss: 2.6629 - acc: 0.3181 - val_loss: 2.9748 - val_acc: 0.3064\n",
            "Epoch 11/500\n",
            "551/551 [==============================] - 4s 8ms/step - loss: 2.6170 - acc: 0.3269 - val_loss: 2.9677 - val_acc: 0.2841\n",
            "Epoch 12/500\n",
            "551/551 [==============================] - 4s 8ms/step - loss: 2.5722 - acc: 0.3365 - val_loss: 2.9564 - val_acc: 0.2888\n",
            "Epoch 13/500\n",
            "551/551 [==============================] - 4s 8ms/step - loss: 2.5334 - acc: 0.3444 - val_loss: 2.9524 - val_acc: 0.2975\n",
            "Epoch 14/500\n",
            "551/551 [==============================] - 5s 10ms/step - loss: 2.4933 - acc: 0.3525 - val_loss: 2.9440 - val_acc: 0.2871\n",
            "Epoch 15/500\n",
            "551/551 [==============================] - 10s 18ms/step - loss: 2.4600 - acc: 0.3559 - val_loss: 2.9399 - val_acc: 0.3082\n",
            "Epoch 16/500\n",
            "551/551 [==============================] - 10s 19ms/step - loss: 2.4262 - acc: 0.3643 - val_loss: 2.9437 - val_acc: 0.3114\n",
            "Epoch 17/500\n",
            "551/551 [==============================] - 10s 18ms/step - loss: 2.3915 - acc: 0.3729 - val_loss: 2.9666 - val_acc: 0.2676\n",
            "Epoch 18/500\n",
            "551/551 [==============================] - 10s 18ms/step - loss: 2.3615 - acc: 0.3767 - val_loss: 2.9531 - val_acc: 0.2931\n",
            "Epoch 19/500\n",
            "551/551 [==============================] - 10s 18ms/step - loss: 2.3285 - acc: 0.3830 - val_loss: 2.9678 - val_acc: 0.3070\n",
            "Epoch 20/500\n",
            "551/551 [==============================] - 9s 16ms/step - loss: 2.3002 - acc: 0.3903 - val_loss: 2.9713 - val_acc: 0.2968\n"
          ]
        },
        {
          "output_type": "display_data",
          "data": {
            "text/plain": [
              "<Figure size 432x288 with 1 Axes>"
            ],
            "image/png": "[encoded data removed]"
          },
          "metadata": {
            "needs_background": "light"
          }
        },
        {
          "output_type": "display_data",
          "data": {
            "text/plain": [
              "<Figure size 432x288 with 1 Axes>"
            ],
            "image/png": "[encoded data removed]"
          },
          "metadata": {
            "needs_background": "light"
          }
        }
      ],
      "source": [
        "# train for closed set classification on 0-8, 9 is removed before training\n",
        "# from the train set, but is left in the valdation set\n",
        "open_set_class_labels = [99] \n",
        "\n",
        "X_train, X_val, y_train, y_val = validation_split(X, y)\n",
        "X_train_closed, y_train_closed = remove_classes_from_dataset(X_train, y_train, open_set_class_labels)\n",
        "X_val_closed, y_val_closed = remove_classes_from_dataset(X_val, y_val, open_set_class_labels)\n",
        "\n",
        "\n",
        "num_placeholders = 120\n",
        "pre_dim = post_dim = 200\n",
        "model = OpenSetPlaceholdersLRM(\n",
        "    pre_dim=pre_dim, \n",
        "    post_dim=post_dim, \n",
        "    num_classes=NUM_CLASSES - 1,\n",
        "    num_placeholders=num_placeholders\n",
        ")\n",
        "beta = .75\n",
        "loss = lambda *x: ce_loss_for_placeholders(*x, beta)\n",
        "model.compile(\n",
        "    optimizer='adam', \n",
        "    loss=loss, \n",
        "    metrics=[tf.keras.metrics.CategoricalAccuracy(name='acc')]\n",
        ")\n",
        "\n",
        "\n",
        "# The \"+ 1\"s below add an additional column of zeros to the one-hot encodings for\n",
        "# the dummy class\n",
        "train_features = vectorizer.fit_transform(X_train_closed).toarray()\n",
        "dev_features = vectorizer.transform(X_val_closed).toarray()\n",
        "\n",
        "\n",
        "y_train_one_hot = tf.one_hot(y_train_closed, depth=model.num_classes + 1)\n",
        "y_val_one_hot = tf.one_hot(y_val_closed, depth=model.num_classes + 1)\n",
        "\n",
        "\n",
        "es_callback = keras.callbacks.EarlyStopping(monitor='val_loss', patience=5)\n",
        "history=model.fit(train_features, y_train_one_hot, batch_size=batch_size,\n",
        "                  callbacks=[es_callback],\n",
        "          epochs=epochs, validation_data=(dev_features, y_val_one_hot))\n",
        "\n",
        "\n",
        "# y_train_one_hot = tf.one_hot(tf.cast(y_train_closed, tf.int64), depth=model.num_classes + 1)\n",
        "# history = model.fit(X_train_closed, y_train_one_hot, epochs=20, validation_split=.2, batch_size=32)\n",
        "\n",
        "train_loss = history.history['loss']\n",
        "val_loss = history.history['val_loss']\n",
        "plot_loss(train_loss, val_loss)\n",
        "\n",
        "train_acc = history.history['acc']\n",
        "val_acc = history.history['val_acc']\n",
        "plot_acc(train_acc, val_acc)"
      ]
    },
    {
      "cell_type": "markdown",
      "source": [
        "Under progress from here onwards"
      ],
      "metadata": {
        "id": "vmtZvHMh22In"
      }
    },
    {
      "cell_type": "code",
      "execution_count": 126,
      "metadata": {
        "id": "372cacb7",
        "outputId": "b83a53e6-5f4b-464a-8511-2cfffed205f8",
        "colab": {
          "base_uri": "https://localhost:8080/",
          "height": 675
        }
      },
      "outputs": [
        {
          "output_type": "error",
          "ename": "AttributeError",
          "evalue": "ignored",
          "traceback": [
            "\u001b[0;31m---------------------------------------------------------------------------\u001b[0m",
            "\u001b[0;31mAttributeError\u001b[0m                            Traceback (most recent call last)",
            "\u001b[0;32m<ipython-input-126-f199485600cf>\u001b[0m in \u001b[0;36m<module>\u001b[0;34m\u001b[0m\n\u001b[1;32m      3\u001b[0m \u001b[0mclosed_set_acc\u001b[0m \u001b[0;34m=\u001b[0m \u001b[0;34m[\u001b[0m\u001b[0;34m]\u001b[0m\u001b[0;34m\u001b[0m\u001b[0;34m\u001b[0m\u001b[0m\n\u001b[1;32m      4\u001b[0m \u001b[0;34m\u001b[0m\u001b[0m\n\u001b[0;32m----> 5\u001b[0;31m \u001b[0my_pred\u001b[0m \u001b[0;34m=\u001b[0m \u001b[0mmodel\u001b[0m\u001b[0;34m.\u001b[0m\u001b[0mpredict\u001b[0m\u001b[0;34m(\u001b[0m\u001b[0mX_val\u001b[0m\u001b[0;34m)\u001b[0m\u001b[0;34m\u001b[0m\u001b[0;34m\u001b[0m\u001b[0m\n\u001b[0m\u001b[1;32m      6\u001b[0m \u001b[0;34m\u001b[0m\u001b[0m\n\u001b[1;32m      7\u001b[0m \u001b[0mprint\u001b[0m\u001b[0;34m(\u001b[0m\u001b[0;34m'total accuracy:      {:.4f}'\u001b[0m\u001b[0;34m.\u001b[0m\u001b[0mformat\u001b[0m\u001b[0;34m(\u001b[0m\u001b[0maccuracy\u001b[0m\u001b[0;34m(\u001b[0m\u001b[0my_val_open\u001b[0m\u001b[0;34m,\u001b[0m \u001b[0my_pred\u001b[0m\u001b[0;34m)\u001b[0m\u001b[0;34m)\u001b[0m\u001b[0;34m)\u001b[0m\u001b[0;34m\u001b[0m\u001b[0;34m\u001b[0m\u001b[0m\n",
            "\u001b[0;32m<ipython-input-105-8a7e4f1cd225>\u001b[0m in \u001b[0;36mpredict\u001b[0;34m(self, x)\u001b[0m\n\u001b[1;32m     21\u001b[0m         \u001b[0mindicating\u001b[0m \u001b[0mprediction\u001b[0m \u001b[0mfalls\u001b[0m \u001b[0mwithin\u001b[0m \u001b[0mthe\u001b[0m \u001b[0mopen\u001b[0m \u001b[0mset\u001b[0m\u001b[0;34m.\u001b[0m\u001b[0;34m\u001b[0m\u001b[0;34m\u001b[0m\u001b[0m\n\u001b[1;32m     22\u001b[0m         \"\"\"\n\u001b[0;32m---> 23\u001b[0;31m         \u001b[0my_pred\u001b[0m \u001b[0;34m=\u001b[0m \u001b[0mself\u001b[0m\u001b[0;34m.\u001b[0m\u001b[0m__call__\u001b[0m\u001b[0;34m(\u001b[0m\u001b[0mx\u001b[0m\u001b[0;34m)\u001b[0m\u001b[0;34m\u001b[0m\u001b[0;34m\u001b[0m\u001b[0m\n\u001b[0m\u001b[1;32m     24\u001b[0m         \u001b[0my_pred_labels\u001b[0m \u001b[0;34m=\u001b[0m \u001b[0mtf\u001b[0m\u001b[0;34m.\u001b[0m\u001b[0margmax\u001b[0m\u001b[0;34m(\u001b[0m\u001b[0my_pred\u001b[0m\u001b[0;34m,\u001b[0m \u001b[0maxis\u001b[0m\u001b[0;34m=\u001b[0m\u001b[0;36m1\u001b[0m\u001b[0;34m)\u001b[0m\u001b[0;34m\u001b[0m\u001b[0;34m\u001b[0m\u001b[0m\n\u001b[1;32m     25\u001b[0m         \u001b[0;32mreturn\u001b[0m \u001b[0mtf\u001b[0m\u001b[0;34m.\u001b[0m\u001b[0mwhere\u001b[0m\u001b[0;34m(\u001b[0m\u001b[0my_pred_labels\u001b[0m \u001b[0;34m==\u001b[0m \u001b[0mself\u001b[0m\u001b[0;34m.\u001b[0m\u001b[0mnum_classes\u001b[0m\u001b[0;34m,\u001b[0m \u001b[0;34m-\u001b[0m\u001b[0;36m1\u001b[0m\u001b[0;34m,\u001b[0m \u001b[0my_pred_labels\u001b[0m\u001b[0;34m)\u001b[0m\u001b[0;34m\u001b[0m\u001b[0;34m\u001b[0m\u001b[0m\n",
            "\u001b[0;32m/usr/local/lib/python3.7/dist-packages/keras/utils/traceback_utils.py\u001b[0m in \u001b[0;36merror_handler\u001b[0;34m(*args, **kwargs)\u001b[0m\n\u001b[1;32m     65\u001b[0m     \u001b[0;32mexcept\u001b[0m \u001b[0mException\u001b[0m \u001b[0;32mas\u001b[0m \u001b[0me\u001b[0m\u001b[0;34m:\u001b[0m  \u001b[0;31m# pylint: disable=broad-except\u001b[0m\u001b[0;34m\u001b[0m\u001b[0;34m\u001b[0m\u001b[0m\n\u001b[1;32m     66\u001b[0m       \u001b[0mfiltered_tb\u001b[0m \u001b[0;34m=\u001b[0m \u001b[0m_process_traceback_frames\u001b[0m\u001b[0;34m(\u001b[0m\u001b[0me\u001b[0m\u001b[0;34m.\u001b[0m\u001b[0m__traceback__\u001b[0m\u001b[0;34m)\u001b[0m\u001b[0;34m\u001b[0m\u001b[0;34m\u001b[0m\u001b[0m\n\u001b[0;32m---> 67\u001b[0;31m       \u001b[0;32mraise\u001b[0m \u001b[0me\u001b[0m\u001b[0;34m.\u001b[0m\u001b[0mwith_traceback\u001b[0m\u001b[0;34m(\u001b[0m\u001b[0mfiltered_tb\u001b[0m\u001b[0;34m)\u001b[0m \u001b[0;32mfrom\u001b[0m \u001b[0;32mNone\u001b[0m\u001b[0;34m\u001b[0m\u001b[0;34m\u001b[0m\u001b[0m\n\u001b[0m\u001b[1;32m     68\u001b[0m     \u001b[0;32mfinally\u001b[0m\u001b[0;34m:\u001b[0m\u001b[0;34m\u001b[0m\u001b[0;34m\u001b[0m\u001b[0m\n\u001b[1;32m     69\u001b[0m       \u001b[0;32mdel\u001b[0m \u001b[0mfiltered_tb\u001b[0m\u001b[0;34m\u001b[0m\u001b[0;34m\u001b[0m\u001b[0m\n",
            "\u001b[0;32m<ipython-input-105-8a7e4f1cd225>\u001b[0m in \u001b[0;36mcall\u001b[0;34m(self, inputs)\u001b[0m\n\u001b[1;32m      9\u001b[0m \u001b[0;34m\u001b[0m\u001b[0m\n\u001b[1;32m     10\u001b[0m     \u001b[0;32mdef\u001b[0m \u001b[0mcall\u001b[0m\u001b[0;34m(\u001b[0m\u001b[0mself\u001b[0m\u001b[0;34m,\u001b[0m \u001b[0minputs\u001b[0m\u001b[0;34m)\u001b[0m\u001b[0;34m:\u001b[0m\u001b[0;34m\u001b[0m\u001b[0;34m\u001b[0m\u001b[0m\n\u001b[0;32m---> 11\u001b[0;31m         \u001b[0mx_pre\u001b[0m \u001b[0;34m=\u001b[0m \u001b[0mself\u001b[0m\u001b[0;34m.\u001b[0m\u001b[0membed_pre\u001b[0m\u001b[0;34m(\u001b[0m\u001b[0minputs\u001b[0m\u001b[0;34m)\u001b[0m\u001b[0;34m\u001b[0m\u001b[0;34m\u001b[0m\u001b[0m\n\u001b[0m\u001b[1;32m     12\u001b[0m         \u001b[0mx_post\u001b[0m \u001b[0;34m=\u001b[0m \u001b[0mself\u001b[0m\u001b[0;34m.\u001b[0m\u001b[0membed_post\u001b[0m\u001b[0;34m(\u001b[0m\u001b[0mx_pre\u001b[0m\u001b[0;34m)\u001b[0m\u001b[0;34m\u001b[0m\u001b[0;34m\u001b[0m\u001b[0m\n\u001b[1;32m     13\u001b[0m         \u001b[0mclosed_set_logits\u001b[0m \u001b[0;34m=\u001b[0m \u001b[0mself\u001b[0m\u001b[0;34m.\u001b[0m\u001b[0mlogits_layer\u001b[0m\u001b[0;34m(\u001b[0m\u001b[0mx_post\u001b[0m\u001b[0;34m)\u001b[0m\u001b[0;34m\u001b[0m\u001b[0;34m\u001b[0m\u001b[0m\n",
            "\u001b[0;31mAttributeError\u001b[0m: Exception encountered when calling layer \"open_set_placeholders_lrm\" (type OpenSetPlaceholdersLRM).\n\n'tuple' object has no attribute 'rank'\n\nCall arguments received by layer \"open_set_placeholders_lrm\" (type OpenSetPlaceholdersLRM):\n  • inputs=15907    WESTLAKE's edition of HONOR THY FATHER is stor...\n19750    CHRISTMAS IN GERMANY (T 10095) is a late-1950s...\n26377    Now that the Left Behind series has finished, ...\n5612     Young children whose older siblings are 4Hers,...\n28304    Until I recently discovered this CD, I was nev...\n                               ...                        \n11407    This potholder is big on looks. The cherry ext...\n22965    America's Test Kitchen is similar to Consumer ...\n5551     Canadian born author Ivanka Di Felice is a wri...\n18663    Highly enjoyable and entertaining. Sophomore A...\n14606    I've been wondering what I might do during the...\nName: review, Length: 11875, dtype: object"
          ]
        }
      ],
      "source": [
        "total_acc = []\n",
        "open_set_acc = []\n",
        "closed_set_acc = []\n",
        "\n",
        "y_pred = model.predict(X_val)\n",
        "\n",
        "print('total accuracy:      {:.4f}'.format(accuracy(y_val_open, y_pred)))\n",
        "print('open-set accuracy:   {:.4f}'.format(open_set_accuracy(y_val_open, y_pred)))\n",
        "print('closed-set accuracy: {:.4f}'.format(closed_set_accuracy(y_val_open, y_pred)))"
      ]
    }
  ]
}
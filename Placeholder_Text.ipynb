{
  "nbformat": 4,
  "nbformat_minor": 0,
  "metadata": {
    "colab": {
      "provenance": [],
      "collapsed_sections": []
    },
    "kernelspec": {
      "name": "python3",
      "display_name": "Python 3"
    },
    "language_info": {
      "name": "python"
    }
  },
  "cells": [
    {
      "cell_type": "code",
      "execution_count": 1,
      "metadata": {
        "id": "QK2vT6HNhleP",
        "colab": {
          "base_uri": "https://localhost:8080/",
          "height": 89
        },
        "outputId": "ec093b58-bfda-4cbe-f1cb-110a3a24463c"
      },
      "outputs": [
        {
          "output_type": "execute_result",
          "data": {
            "text/plain": [
              "'\\n\\nPurpose: Implement Placeholders algorithm from \"Learning Placeholders for Open-Set Recognition\"\\n    and compare its performance to simple confidence thresholding on a logistic regression classifier.\\n\\nFollowing https://builtin.com/data-science/guide-logistic-regression-tensorflow-20\\n\\n--- Following Josh\\'s placeholders_experiments.ipynb to create a version that works with text data\\n\\n'"
            ],
            "application/vnd.google.colaboratory.intrinsic+json": {
              "type": "string"
            }
          },
          "metadata": {},
          "execution_count": 1
        }
      ],
      "source": [
        "\"\"\"\n",
        "\n",
        "Purpose: Implement Placeholders algorithm from \"Learning Placeholders for Open-Set Recognition\"\n",
        "    and compare its performance to simple confidence thresholding on a logistic regression classifier.\n",
        "\n",
        "Following https://builtin.com/data-science/guide-logistic-regression-tensorflow-20\n",
        "\n",
        "--- Following Josh's placeholders_experiments.ipynb to create a version that works with text data\n",
        "\n",
        "\"\"\""
      ]
    },
    {
      "cell_type": "code",
      "source": [
        "import pandas as pd\n",
        "import tensorflow as tf\n",
        "from sklearn.model_selection import train_test_split\n",
        "import matplotlib.pyplot as plt"
      ],
      "metadata": {
        "id": "vG70TKWYkXQx"
      },
      "execution_count": 2,
      "outputs": []
    },
    {
      "cell_type": "code",
      "source": [
        "NUM_CLASSES = 100\n",
        "\n",
        "def load_dataset():\n",
        "    df = pd.read_excel(r'/content/drive/MyDrive/NLP_Fall2022/Group Project/DatasetSplit/train_split.xlsx', usecols=['label','review'])\n",
        "    df_test = pd.read_excel(r'/content/drive/MyDrive/NLP_Fall2022/Group Project/DatasetSplit/test_split.xlsx', usecols=['label','review'])\n",
        "    # tensor = lambda data: tf.convert_to_tensor(data, dtype=tf.object)\n",
        "    # X_train = tf.convert_to_tensor(df['review'])\n",
        "    # y_train = tf.convert_to_tensor(df['label'])\n",
        "    # X_test = tf.convert_to_tensor(df_test['review'])\n",
        "    # y_test = tf.convert_to_tensor(df_test['label'])\n",
        "\n",
        "    X_train = df['review']\n",
        "    y_train = df['label']\n",
        "    X_test = df_test['review']\n",
        "    y_test = df_test['label']\n",
        "    return X_train, y_train, X_test, y_test\n",
        "\n",
        "def validation_split(X, y, val_size=.2):\n",
        "    \"\"\"Input are expected to be tensors.\n",
        "    \"\"\"\n",
        "    # tensor = lambda data: tf.convert_to_tensor(data, dtype=tf.float32)\n",
        "    X_train, X_val, y_train, y_val = train_test_split(X, y)\n",
        "    return X_train, X_val, y_train, y_val"
      ],
      "metadata": {
        "id": "6666_jKbjOkc"
      },
      "execution_count": 3,
      "outputs": []
    },
    {
      "cell_type": "code",
      "source": [
        "X, y, X_test, y_test = load_dataset()"
      ],
      "metadata": {
        "id": "196t1DSTlUmT"
      },
      "execution_count": 4,
      "outputs": []
    },
    {
      "cell_type": "code",
      "source": [
        "def plot_loss(train_losses, val_losses):\n",
        "    iterations = list(range(len(train_losses)))\n",
        "    plt.plot(iterations, train_losses, label='Train')\n",
        "    plt.plot(iterations, val_losses, label='Validation')\n",
        "    plt.xlabel('Iterations')\n",
        "    plt.ylabel('Cross Entropy Loss')\n",
        "    plt.legend()\n",
        "    plt.title('Loss While Training')\n",
        "    plt.show()\n",
        "    \n",
        "def plot_acc(train_accs, val_accs):\n",
        "    iterations = list(range(len(train_accs)))\n",
        "    plt.plot(iterations, train_accs, label='Train')\n",
        "    plt.plot(iterations, val_accs, label='Validation')\n",
        "    plt.xlabel('Iterations')\n",
        "    plt.ylabel('Classification Accuracy')\n",
        "    plt.legend()\n",
        "    plt.title('Accuracy While Training')\n",
        "    plt.show()"
      ],
      "metadata": {
        "id": "5JuIKHj2nCtc"
      },
      "execution_count": 5,
      "outputs": []
    },
    {
      "cell_type": "code",
      "source": [
        "class StandardLogisticRegressionModel(tf.keras.Model):\n",
        "    def __init__(self, pre_dim, post_dim, num_classes):\n",
        "        super().__init__()\n",
        "        self.num_classes = num_classes\n",
        "        self.embed_pre = tf.keras.layers.Dense(pre_dim,  activation='relu', name='embed_pre')\n",
        "        self.embed_post = tf.keras.layers.Dense(post_dim, activation='relu', name='embed_post')\n",
        "        self.logits_layer = tf.keras.layers.Dense(num_classes, activation=None, name='ligits')\n",
        "        self.output_layer = tf.keras.layers.Softmax(name='output')\n",
        "        \n",
        "    def call(self, inputs):\n",
        "        # print(\"2nd layer\\n\\n\")\n",
        "        # print(inputs)\n",
        "        x_pre = self.embed_pre(inputs)\n",
        "        # print(x_pre)\n",
        "        x_post = self.embed_post(x_pre)\n",
        "        # print(x_post)\n",
        "        logits = self.logits_layer(x_post)\n",
        "        # print(logits)\n",
        "        return self.output_layer(logits)\n",
        "\n",
        "def ce_loss(y_true, y_pred):\n",
        "    \"\"\" Cross Entropy Loss.\n",
        "    y_true: one-hot encoded class labels\n",
        "    y_pred: class probabilities\n",
        "    \"\"\"\n",
        "    y_pred = tf.clip_by_value(y_pred, 1e-9, 1.)\n",
        "    return tf.reduce_mean(-tf.reduce_sum(y_true * tf.math.log(y_pred), axis=1))\n",
        "\n",
        "def accuracy(y_true, y_pred):\n",
        "    \"\"\"y_true is the true class labels (not one-hot encoded) and y_pred are the predicted\n",
        "    class labels (not class probabilities).\n",
        "    \"\"\"\n",
        "    correct_preds = tf.equal(tf.cast(y_true, tf.int64), y_pred)\n",
        "    return tf.reduce_mean(tf.cast(correct_preds, tf.float32))"
      ],
      "metadata": {
        "id": "eqTJ2EU5nLHN"
      },
      "execution_count": 6,
      "outputs": []
    },
    {
      "cell_type": "code",
      "source": [
        "\n",
        "import keras\n",
        "from keras.models import Sequential\n",
        "from keras.layers import Dense, Dropout\n",
        "from sklearn.feature_extraction.text import TfidfVectorizer\n",
        "from keras.utils import np_utils\n",
        "import numpy as np\n",
        "from sklearn.preprocessing import LabelEncoder\n",
        "from sklearn.model_selection import train_test_split"
      ],
      "metadata": {
        "id": "Uf7KkWFhNKA1"
      },
      "execution_count": 7,
      "outputs": []
    },
    {
      "cell_type": "code",
      "source": [
        "X_train, X_val, y_train, y_val = validation_split(X, y, val_size=.2)"
      ],
      "metadata": {
        "id": "0l72Ci1nRAXJ"
      },
      "execution_count": 8,
      "outputs": []
    },
    {
      "cell_type": "code",
      "source": [
        "\n",
        "epochs = 500\n",
        "batch_size = 64\n",
        "\n",
        "vectorizer = TfidfVectorizer(max_features=250, sublinear_tf=True, ngram_range=(1,2))\n",
        "train_features = vectorizer.fit_transform(X_train).toarray()\n",
        "dev_features = vectorizer.transform(X_val).toarray()\n",
        "# y_train_one_hot = tf.one_hot(tf.cast(y, tf.int64), depth=100)\n",
        "lb = LabelEncoder()\n",
        "ytrain = lb.fit_transform(y_train)\n",
        "dummy_y_train = np_utils.to_categorical(ytrain)\n",
        "\n",
        "yval = lb.fit_transform(y_val)\n",
        "dummy_y_dev = np_utils.to_categorical(yval)"
      ],
      "metadata": {
        "id": "UdFDYPjuYVFo"
      },
      "execution_count": 9,
      "outputs": []
    },
    {
      "cell_type": "code",
      "source": [
        "pre_dim = post_dim = 200\n",
        "model = StandardLogisticRegressionModel(\n",
        "    pre_dim=pre_dim, \n",
        "    post_dim=post_dim, \n",
        "    num_classes=NUM_CLASSES\n",
        ")\n",
        "model.compile(\n",
        "    optimizer='adam', \n",
        "    loss=ce_loss, \n",
        "    metrics=[tf.keras.metrics.CategoricalAccuracy(name='acc')]\n",
        ")\n",
        "# y_train_one_hot = tf.one_hot(tf.cast(y, tf.int64), depth=model.num_classes)\n",
        "\n",
        "# history = model.fit(X, y_train_one_hot, epochs=10, validation_split=.2)\n",
        "es_callback = keras.callbacks.EarlyStopping(monitor='val_loss', patience=5)\n",
        "history=model.fit(train_features, dummy_y_train, batch_size=batch_size,\n",
        "                  callbacks=[es_callback],\n",
        "          epochs=epochs, validation_data=(dev_features, dummy_y_dev))\n",
        "# history = model.fit(X, y_train_one_hot, epochs=10, validation_split=.2)"
      ],
      "metadata": {
        "colab": {
          "base_uri": "https://localhost:8080/"
        },
        "id": "tMRM0hWkU_vx",
        "outputId": "4435d8ed-eb06-4326-a073-a5ffb56032b9"
      },
      "execution_count": 10,
      "outputs": [
        {
          "output_type": "stream",
          "name": "stdout",
          "text": [
            "Epoch 1/500\n",
            "557/557 [==============================] - 5s 6ms/step - loss: 3.4419 - acc: 0.2200 - val_loss: 2.5906 - val_acc: 0.3711\n",
            "Epoch 2/500\n",
            "557/557 [==============================] - 3s 6ms/step - loss: 2.2765 - acc: 0.4418 - val_loss: 2.1200 - val_acc: 0.4792\n",
            "Epoch 3/500\n",
            "557/557 [==============================] - 4s 6ms/step - loss: 1.9325 - acc: 0.5206 - val_loss: 1.9361 - val_acc: 0.5139\n",
            "Epoch 4/500\n",
            "557/557 [==============================] - 4s 7ms/step - loss: 1.7376 - acc: 0.5616 - val_loss: 1.8038 - val_acc: 0.5479\n",
            "Epoch 5/500\n",
            "557/557 [==============================] - 4s 6ms/step - loss: 1.6091 - acc: 0.5908 - val_loss: 1.7272 - val_acc: 0.5643\n",
            "Epoch 6/500\n",
            "557/557 [==============================] - 3s 6ms/step - loss: 1.5057 - acc: 0.6165 - val_loss: 1.6831 - val_acc: 0.5752\n",
            "Epoch 7/500\n",
            "557/557 [==============================] - 4s 6ms/step - loss: 1.4255 - acc: 0.6317 - val_loss: 1.6445 - val_acc: 0.5824\n",
            "Epoch 8/500\n",
            "557/557 [==============================] - 3s 6ms/step - loss: 1.3588 - acc: 0.6486 - val_loss: 1.6268 - val_acc: 0.5851\n",
            "Epoch 9/500\n",
            "557/557 [==============================] - 4s 6ms/step - loss: 1.2988 - acc: 0.6588 - val_loss: 1.5982 - val_acc: 0.5944\n",
            "Epoch 10/500\n",
            "557/557 [==============================] - 3s 6ms/step - loss: 1.2465 - acc: 0.6706 - val_loss: 1.5912 - val_acc: 0.5935\n",
            "Epoch 11/500\n",
            "557/557 [==============================] - 6s 11ms/step - loss: 1.1975 - acc: 0.6815 - val_loss: 1.5660 - val_acc: 0.6040\n",
            "Epoch 12/500\n",
            "557/557 [==============================] - 6s 11ms/step - loss: 1.1538 - acc: 0.6937 - val_loss: 1.5583 - val_acc: 0.6055\n",
            "Epoch 13/500\n",
            "557/557 [==============================] - 9s 16ms/step - loss: 1.1097 - acc: 0.7026 - val_loss: 1.5611 - val_acc: 0.6046\n",
            "Epoch 14/500\n",
            "557/557 [==============================] - 6s 10ms/step - loss: 1.0694 - acc: 0.7144 - val_loss: 1.5600 - val_acc: 0.6045\n",
            "Epoch 15/500\n",
            "557/557 [==============================] - 6s 11ms/step - loss: 1.0287 - acc: 0.7234 - val_loss: 1.5562 - val_acc: 0.6045\n",
            "Epoch 16/500\n",
            "557/557 [==============================] - 8s 14ms/step - loss: 0.9952 - acc: 0.7310 - val_loss: 1.5615 - val_acc: 0.6059\n",
            "Epoch 17/500\n",
            "557/557 [==============================] - 7s 12ms/step - loss: 0.9572 - acc: 0.7424 - val_loss: 1.5872 - val_acc: 0.6050\n",
            "Epoch 18/500\n",
            "557/557 [==============================] - 6s 11ms/step - loss: 0.9222 - acc: 0.7510 - val_loss: 1.5870 - val_acc: 0.6056\n",
            "Epoch 19/500\n",
            "557/557 [==============================] - 6s 11ms/step - loss: 0.8901 - acc: 0.7578 - val_loss: 1.6145 - val_acc: 0.6028\n",
            "Epoch 20/500\n",
            "557/557 [==============================] - 6s 11ms/step - loss: 0.8585 - acc: 0.7672 - val_loss: 1.5768 - val_acc: 0.6096\n"
          ]
        }
      ]
    },
    {
      "cell_type": "code",
      "source": [
        "train_loss = history.history['loss']\n",
        "val_loss = history.history['val_loss']\n",
        "plot_loss(train_loss, val_loss)\n",
        "\n",
        "train_acc = history.history['acc']\n",
        "val_acc = history.history['val_acc']\n",
        "plot_acc(train_acc, val_acc)"
      ],
      "metadata": {
        "colab": {
          "base_uri": "https://localhost:8080/",
          "height": 573
        },
        "id": "xo_Z9PA6aBxj",
        "outputId": "d28d8d35-655e-40cb-d570-502b6d2a567a"
      },
      "execution_count": 11,
      "outputs": [
        {
          "output_type": "display_data",
          "data": {
            "text/plain": [
              "<Figure size 432x288 with 1 Axes>"
            ],
            "image/png": "[encoded data removed]"
          },
          "metadata": {
            "needs_background": "light"
          }
        },
        {
          "output_type": "display_data",
          "data": {
            "text/plain": [
              "<Figure size 432x288 with 1 Axes>"
            ],
            "image/png": "[encoded data removed]"
          },
          "metadata": {
            "needs_background": "light"
          }
        }
      ]
    },
    {
      "cell_type": "code",
      "source": [
        "\n",
        "# from matplotlib import pyplot\n",
        "# pyplot.plot(history.history['loss'])\n",
        "# pyplot.plot(history.history['val_loss'])\n",
        "# pyplot.title('model train vs validation loss')\n",
        "# pyplot.ylabel('loss')\n",
        "# pyplot.xlabel('epoch')\n",
        "# pyplot.legend(['train', 'validation'], loc='upper left')\n",
        "# pyplot.show()\n",
        "# pyplot.plot(history.history['accuracy'])\n",
        "# pyplot.plot(history.history['val_accuracy'])\n",
        "# pyplot.title('model train vs validation acc')\n",
        "# pyplot.ylabel('acc')\n",
        "# pyplot.xlabel('epoch')\n",
        "# pyplot.legend(['train', 'validation'], loc='upper left')\n",
        "# pyplot.show()\n",
        "# score = model.evaluate(dev_features, dummy_y_dev, batch_size=batch_size, verbose=1)\n",
        "\n",
        "\n",
        "\n",
        "\n",
        "\n",
        "# test_features = vectorizer.fit_transform(X_test).toarray()\n",
        "\n",
        "# y_testval = lb.fit_transform(y_test)\n",
        "# dummy_y_test = np_utils.to_categorical(y_testval)\n",
        "# #Predictions \n",
        "# print (\"Predict\")\n",
        "# y_test1 = model.predict(test_features)\n",
        "\n",
        "# y_pred = lb.inverse_transform(np.argmax(y_test1, axis=1))\n",
        "\n",
        "\n",
        "# score = model.evaluate(test_features, dummy_y_test, batch_size=batch_size, verbose=1)\n",
        "\n",
        "# print('Test accuracy:', score[1])"
      ],
      "metadata": {
        "id": "EC6hDNYRUC_X"
      },
      "execution_count": 12,
      "outputs": []
    },
    {
      "cell_type": "code",
      "source": [
        "\"\"\" \n",
        "Now we attempt open-set classicfication by training a logistic regression model on k \n",
        "classes (digits 0-8 for this dataset) and test on k+1. If all predicted class probabilities\n",
        "are below a threshold, predict the open set.\n",
        "\"\"\"\n",
        "from itertools import compress\n",
        "    \n",
        "def threshold_predict(X, model, threshold):\n",
        "    # print(X)\n",
        "    # y_pred = model.call(X)\n",
        "    y_pred = model.predict(X)\n",
        "    # print(y_pred)\n",
        "    highest_prob = tf.reduce_max(y_pred, axis=1)\n",
        "    return tf.where(highest_prob < threshold, -1, tf.argmax(y_pred, axis=1))\n",
        "\n",
        "def remove_classes_from_dataset(X, y, class_labels):\n",
        "    \"\"\"Removes samples from both X and y that correspond to classes given in class_labels\n",
        "    class_labels: list of class_labels e.g. [3,4,9]\n",
        "    y: tensor containing class labels (not yet one-hot encoded)\n",
        "    \"\"\"\n",
        "    to_remove_mask = [y != label for label in class_labels]\n",
        "    X = np.array(X) \n",
        "    result = X[to_remove_mask] \n",
        "    X=result.tolist()\n",
        "    y = np.array(y) \n",
        "    result = y[to_remove_mask] \n",
        "    y=result.tolist()\n",
        "    return X, y\n",
        "\n",
        "def modify_open_set_labels(y, open_set_class_labels):\n",
        "    \"\"\"Replaces class labels from the open set in y with -1\n",
        "    \"\"\"\n",
        "    open_set_idx = tf.reduce_any([y == label for label in open_set_class_labels], axis=0)\n",
        "    return tf.where(open_set_idx, -1, y)\n",
        "\n",
        "def open_set_accuracy(y_true, y_pred):\n",
        "    \"\"\" fraction of samples in the open set that are classified correctly.\n",
        "    \"\"\"\n",
        "    y_true = tf.cast(y_true, tf.int64)\n",
        "    open_set_idx = y_true == -1\n",
        "    return accuracy(y_true[open_set_idx], y_pred[open_set_idx])\n",
        "\n",
        "def closed_set_accuracy(y_true, y_pred):\n",
        "    \"\"\" fraction of samples in the open set that are classified correctly.\n",
        "    \"\"\"\n",
        "    y_true = tf.cast(y_true, tf.int64)\n",
        "    closed_set_idx = y_true != -1\n",
        "    return accuracy(y_true[closed_set_idx], y_pred[closed_set_idx])\n",
        "    #return tf.reduce_sum(tf.equal(y_true[closed_set_idx], y_pred[closed_set_idx]))\n",
        "\n",
        "def plot_open_closed_accuracy(all_acc, open_acc, closed_acc):\n",
        "    plt.plot(threshold_value, all_acc, label='All class accuracy')\n",
        "    plt.plot(threshold_value, open_acc, label='Open set accuracy')\n",
        "    plt.plot(threshold_value, closed_acc, label='Closed set accuracy')\n",
        "    plt.xlabel('Classification Probability Threshold')\n",
        "    plt.ylabel('Classification Accuracy')\n",
        "    plt.legend()\n",
        "    plt.title('Effect of Threshold on Accuracy')\n",
        "    plt.show()"
      ],
      "metadata": {
        "id": "3ZSl4QohaJJ7"
      },
      "execution_count": 13,
      "outputs": []
    },
    {
      "cell_type": "code",
      "source": [
        "# train for closed set classification on 0-8, 9 is removed before training\n",
        "# from the train set, but is left in the valdation set\n",
        "open_set_class_labels = [99] \n",
        "\n",
        "X_train, X_val, y_train, y_val = validation_split(X, y)\n",
        "X_train_closed, y_train_closed = remove_classes_from_dataset(X_train, y_train, open_set_class_labels)\n",
        "X_val_closed, y_val_closed = remove_classes_from_dataset(X_val, y_val, open_set_class_labels)\n",
        "\n",
        "\n",
        "pre_dim = post_dim = 200\n",
        "model = StandardLogisticRegressionModel(pre_dim, post_dim, NUM_CLASSES - 1)\n",
        "model.compile(optimizer='adam', loss=ce_loss, metrics=[tf.keras.metrics.CategoricalAccuracy(name='acc')])\n",
        "\n",
        "\n",
        "\n",
        "\n",
        "\n",
        "train_features = vectorizer.fit_transform(X_train_closed).toarray()\n",
        "dev_features = vectorizer.transform(X_val_closed).toarray()\n",
        "\n",
        "lb = LabelEncoder()\n",
        "ytrain = lb.fit_transform(y_train_closed)\n",
        "dummy_y_train = np_utils.to_categorical(ytrain)\n",
        "\n",
        "yval = lb.fit_transform(y_val_closed)\n",
        "dummy_y_dev = np_utils.to_categorical(yval)\n",
        "\n",
        "\n",
        "es_callback = keras.callbacks.EarlyStopping(monitor='val_loss', patience=5)\n",
        "history=model.fit(train_features, dummy_y_train, batch_size=batch_size,\n",
        "                  callbacks=[es_callback],\n",
        "          epochs=epochs, validation_data=(dev_features, dummy_y_dev))\n",
        "\n"
      ],
      "metadata": {
        "colab": {
          "base_uri": "https://localhost:8080/"
        },
        "id": "QdBBQoNzaQjI",
        "outputId": "bfb5ff72-0f90-4db8-a38d-7bd19beb8706"
      },
      "execution_count": 14,
      "outputs": [
        {
          "output_type": "stream",
          "name": "stderr",
          "text": [
            "/usr/local/lib/python3.7/dist-packages/ipykernel_launcher.py:23: FutureWarning: Using a non-tuple sequence for multidimensional indexing is deprecated; use `arr[tuple(seq)]` instead of `arr[seq]`. In the future this will be interpreted as an array index, `arr[np.array(seq)]`, which will result either in an error or a different result.\n",
            "/usr/local/lib/python3.7/dist-packages/ipykernel_launcher.py:26: FutureWarning: Using a non-tuple sequence for multidimensional indexing is deprecated; use `arr[tuple(seq)]` instead of `arr[seq]`. In the future this will be interpreted as an array index, `arr[np.array(seq)]`, which will result either in an error or a different result.\n"
          ]
        },
        {
          "output_type": "stream",
          "name": "stdout",
          "text": [
            "Epoch 1/500\n",
            "551/551 [==============================] - 4s 7ms/step - loss: 3.4367 - acc: 0.2221 - val_loss: 2.6032 - val_acc: 0.3792\n",
            "Epoch 2/500\n",
            "551/551 [==============================] - 4s 6ms/step - loss: 2.2875 - acc: 0.4419 - val_loss: 2.1747 - val_acc: 0.4631\n",
            "Epoch 3/500\n",
            "551/551 [==============================] - 3s 6ms/step - loss: 1.9354 - acc: 0.5199 - val_loss: 1.9585 - val_acc: 0.5113\n",
            "Epoch 4/500\n",
            "551/551 [==============================] - 4s 7ms/step - loss: 1.7363 - acc: 0.5650 - val_loss: 1.8690 - val_acc: 0.5333\n",
            "Epoch 5/500\n",
            "551/551 [==============================] - 4s 7ms/step - loss: 1.6002 - acc: 0.5924 - val_loss: 1.7942 - val_acc: 0.5448\n",
            "Epoch 6/500\n",
            "551/551 [==============================] - 3s 6ms/step - loss: 1.4980 - acc: 0.6180 - val_loss: 1.7270 - val_acc: 0.5635\n",
            "Epoch 7/500\n",
            "551/551 [==============================] - 3s 6ms/step - loss: 1.4177 - acc: 0.6373 - val_loss: 1.6946 - val_acc: 0.5692\n",
            "Epoch 8/500\n",
            "551/551 [==============================] - 4s 6ms/step - loss: 1.3497 - acc: 0.6506 - val_loss: 1.6497 - val_acc: 0.5784\n",
            "Epoch 9/500\n",
            "551/551 [==============================] - 4s 7ms/step - loss: 1.2934 - acc: 0.6623 - val_loss: 1.6306 - val_acc: 0.5842\n",
            "Epoch 10/500\n",
            "551/551 [==============================] - 4s 6ms/step - loss: 1.2402 - acc: 0.6753 - val_loss: 1.6203 - val_acc: 0.5866\n",
            "Epoch 11/500\n",
            "551/551 [==============================] - 4s 7ms/step - loss: 1.1909 - acc: 0.6872 - val_loss: 1.5900 - val_acc: 0.5913\n",
            "Epoch 12/500\n",
            "551/551 [==============================] - 3s 6ms/step - loss: 1.1463 - acc: 0.6968 - val_loss: 1.6090 - val_acc: 0.5898\n",
            "Epoch 13/500\n",
            "551/551 [==============================] - 3s 6ms/step - loss: 1.1044 - acc: 0.7071 - val_loss: 1.5892 - val_acc: 0.5996\n",
            "Epoch 14/500\n",
            "551/551 [==============================] - 5s 8ms/step - loss: 1.0661 - acc: 0.7152 - val_loss: 1.5844 - val_acc: 0.5993\n",
            "Epoch 15/500\n",
            "551/551 [==============================] - 4s 7ms/step - loss: 1.0284 - acc: 0.7241 - val_loss: 1.5988 - val_acc: 0.5947\n",
            "Epoch 16/500\n",
            "551/551 [==============================] - 3s 6ms/step - loss: 0.9943 - acc: 0.7328 - val_loss: 1.5878 - val_acc: 0.5986\n",
            "Epoch 17/500\n",
            "551/551 [==============================] - 3s 6ms/step - loss: 0.9600 - acc: 0.7410 - val_loss: 1.5945 - val_acc: 0.5987\n",
            "Epoch 18/500\n",
            "551/551 [==============================] - 4s 7ms/step - loss: 0.9258 - acc: 0.7513 - val_loss: 1.5944 - val_acc: 0.6007\n",
            "Epoch 19/500\n",
            "551/551 [==============================] - 4s 6ms/step - loss: 0.8896 - acc: 0.7575 - val_loss: 1.6121 - val_acc: 0.6010\n"
          ]
        }
      ]
    },
    {
      "cell_type": "code",
      "source": [
        "train_loss = history.history['loss']\n",
        "val_loss = history.history['val_loss']\n",
        "plot_loss(train_loss, val_loss)\n",
        "\n",
        "train_acc = history.history['acc']\n",
        "val_acc = history.history['val_acc']\n",
        "plot_acc(train_acc, val_acc)"
      ],
      "metadata": {
        "colab": {
          "base_uri": "https://localhost:8080/",
          "height": 573
        },
        "id": "OLZPCRckbdZC",
        "outputId": "03d438af-2a58-41ff-a190-4630089c2af7"
      },
      "execution_count": 15,
      "outputs": [
        {
          "output_type": "display_data",
          "data": {
            "text/plain": [
              "<Figure size 432x288 with 1 Axes>"
            ],
            "image/png": "[encoded data removed]"
          },
          "metadata": {
            "needs_background": "light"
          }
        },
        {
          "output_type": "display_data",
          "data": {
            "text/plain": [
              "<Figure size 432x288 with 1 Axes>"
            ],
            "image/png": "[encoded data removed]"
          },
          "metadata": {
            "needs_background": "light"
          }
        }
      ]
    },
    {
      "cell_type": "code",
      "source": [
        "\n",
        "# convert instances of class labels in the open set to -1\n",
        "y_test_open = modify_open_set_labels(y_test, open_set_class_labels)\n",
        "\n",
        "\n",
        "# See how the threshold value affects open-set accuracy\n",
        "threshold_value = np.linspace(0, 1, 100)\n",
        "\n",
        "total_acc = []\n",
        "open_set_acc = []\n",
        "closed_set_acc = []\n",
        "\n",
        "max_total_acc = 0\n",
        "best_threshold = 0\n",
        "\n",
        "for threshold in threshold_value:\n",
        "    test_features = vectorizer.fit_transform(X_test).toarray()\n",
        "    y_pred = threshold_predict(test_features, model, threshold)\n",
        "    total_acc.append(accuracy(y_test_open, y_pred))\n",
        "    open_set_acc.append(open_set_accuracy(y_test_open, y_pred))\n",
        "    closed_set_acc.append(closed_set_accuracy(y_test_open, y_pred))\n",
        "    \n",
        "plot_open_closed_accuracy(total_acc, open_set_acc, closed_set_acc)\n",
        "\n",
        "best_total_acc_idx = np.argmax(total_acc)\n",
        "print('total accuracy:      {:.4f}'.format(float(total_acc[best_total_acc_idx])))\n",
        "print('open-set accuracy:   {:.4f}'.format(float(open_set_acc[best_total_acc_idx])))\n",
        "print('closed-set accuracy: {:.4f}'.format(float(closed_set_acc[best_total_acc_idx])))\n",
        "print('optimal threshold:   {:.4f}'.format(float(threshold_value[best_total_acc_idx])))"
      ],
      "metadata": {
        "colab": {
          "base_uri": "https://localhost:8080/",
          "height": 1000
        },
        "id": "u5R-Ah1njfhp",
        "outputId": "e002de83-b5e5-4351-fc8e-2c55f95bf57b"
      },
      "execution_count": 16,
      "outputs": [
        {
          "output_type": "stream",
          "name": "stdout",
          "text": [
            "79/79 [==============================] - 0s 2ms/step\n",
            "79/79 [==============================] - 0s 2ms/step\n",
            "79/79 [==============================] - 0s 2ms/step\n",
            "79/79 [==============================] - 0s 2ms/step\n",
            "79/79 [==============================] - 0s 2ms/step\n",
            "79/79 [==============================] - 0s 2ms/step\n",
            "79/79 [==============================] - 0s 2ms/step\n",
            "79/79 [==============================] - 0s 2ms/step\n",
            "79/79 [==============================] - 0s 2ms/step\n",
            "79/79 [==============================] - 0s 2ms/step\n",
            "79/79 [==============================] - 0s 2ms/step\n",
            "79/79 [==============================] - 0s 2ms/step\n",
            "79/79 [==============================] - 0s 2ms/step\n",
            "79/79 [==============================] - 0s 2ms/step\n",
            "79/79 [==============================] - 0s 2ms/step\n",
            "79/79 [==============================] - 0s 2ms/step\n",
            "79/79 [==============================] - 0s 2ms/step\n",
            "79/79 [==============================] - 0s 2ms/step\n",
            "79/79 [==============================] - 0s 2ms/step\n",
            "79/79 [==============================] - 0s 2ms/step\n",
            "79/79 [==============================] - 0s 2ms/step\n",
            "79/79 [==============================] - 0s 2ms/step\n",
            "79/79 [==============================] - 0s 2ms/step\n",
            "79/79 [==============================] - 0s 2ms/step\n",
            "79/79 [==============================] - 0s 2ms/step\n",
            "79/79 [==============================] - 0s 2ms/step\n",
            "79/79 [==============================] - 0s 2ms/step\n",
            "79/79 [==============================] - 0s 2ms/step\n",
            "79/79 [==============================] - 0s 2ms/step\n",
            "79/79 [==============================] - 0s 2ms/step\n",
            "79/79 [==============================] - 0s 2ms/step\n",
            "79/79 [==============================] - 0s 2ms/step\n",
            "79/79 [==============================] - 0s 2ms/step\n",
            "79/79 [==============================] - 0s 2ms/step\n",
            "79/79 [==============================] - 0s 2ms/step\n",
            "79/79 [==============================] - 0s 2ms/step\n",
            "79/79 [==============================] - 0s 2ms/step\n",
            "79/79 [==============================] - 0s 2ms/step\n",
            "79/79 [==============================] - 0s 2ms/step\n",
            "79/79 [==============================] - 0s 2ms/step\n",
            "79/79 [==============================] - 0s 2ms/step\n",
            "79/79 [==============================] - 0s 2ms/step\n",
            "79/79 [==============================] - 0s 2ms/step\n",
            "79/79 [==============================] - 0s 2ms/step\n",
            "79/79 [==============================] - 0s 2ms/step\n",
            "79/79 [==============================] - 0s 2ms/step\n",
            "79/79 [==============================] - 0s 2ms/step\n",
            "79/79 [==============================] - 0s 2ms/step\n",
            "79/79 [==============================] - 0s 2ms/step\n",
            "79/79 [==============================] - 0s 2ms/step\n",
            "79/79 [==============================] - 0s 2ms/step\n",
            "79/79 [==============================] - 0s 2ms/step\n",
            "79/79 [==============================] - 0s 2ms/step\n",
            "79/79 [==============================] - 0s 2ms/step\n",
            "79/79 [==============================] - 0s 2ms/step\n",
            "79/79 [==============================] - 0s 2ms/step\n",
            "79/79 [==============================] - 0s 2ms/step\n",
            "79/79 [==============================] - 0s 2ms/step\n",
            "79/79 [==============================] - 0s 2ms/step\n",
            "79/79 [==============================] - 0s 2ms/step\n",
            "79/79 [==============================] - 0s 2ms/step\n",
            "79/79 [==============================] - 0s 2ms/step\n",
            "79/79 [==============================] - 0s 2ms/step\n",
            "79/79 [==============================] - 0s 2ms/step\n",
            "79/79 [==============================] - 0s 2ms/step\n",
            "79/79 [==============================] - 0s 2ms/step\n",
            "79/79 [==============================] - 0s 3ms/step\n",
            "79/79 [==============================] - 0s 3ms/step\n",
            "79/79 [==============================] - 0s 2ms/step\n",
            "79/79 [==============================] - 0s 2ms/step\n",
            "79/79 [==============================] - 0s 2ms/step\n",
            "79/79 [==============================] - 0s 2ms/step\n",
            "79/79 [==============================] - 0s 2ms/step\n",
            "79/79 [==============================] - 0s 2ms/step\n",
            "79/79 [==============================] - 0s 2ms/step\n",
            "79/79 [==============================] - 0s 2ms/step\n",
            "79/79 [==============================] - 0s 2ms/step\n",
            "79/79 [==============================] - 0s 2ms/step\n",
            "79/79 [==============================] - 0s 2ms/step\n",
            "79/79 [==============================] - 0s 2ms/step\n",
            "79/79 [==============================] - 0s 2ms/step\n",
            "79/79 [==============================] - 0s 2ms/step\n",
            "79/79 [==============================] - 0s 2ms/step\n",
            "79/79 [==============================] - 0s 2ms/step\n",
            "79/79 [==============================] - 0s 2ms/step\n",
            "79/79 [==============================] - 0s 2ms/step\n",
            "79/79 [==============================] - 0s 2ms/step\n",
            "79/79 [==============================] - 0s 2ms/step\n",
            "79/79 [==============================] - 0s 2ms/step\n",
            "79/79 [==============================] - 0s 2ms/step\n",
            "79/79 [==============================] - 0s 2ms/step\n",
            "79/79 [==============================] - 0s 2ms/step\n",
            "79/79 [==============================] - 0s 2ms/step\n",
            "79/79 [==============================] - 0s 2ms/step\n",
            "79/79 [==============================] - 0s 2ms/step\n",
            "79/79 [==============================] - 0s 2ms/step\n",
            "79/79 [==============================] - 0s 2ms/step\n",
            "79/79 [==============================] - 0s 2ms/step\n",
            "79/79 [==============================] - 0s 2ms/step\n",
            "79/79 [==============================] - 0s 2ms/step\n"
          ]
        },
        {
          "output_type": "display_data",
          "data": {
            "text/plain": [
              "<Figure size 432x288 with 1 Axes>"
            ],
            "image/png": "[encoded data removed]"
          },
          "metadata": {
            "needs_background": "light"
          }
        },
        {
          "output_type": "stream",
          "name": "stdout",
          "text": [
            "total accuracy:      0.0680\n",
            "open-set accuracy:   0.0000\n",
            "closed-set accuracy: 0.0686\n",
            "optimal threshold:   0.0000\n"
          ]
        }
      ]
    },
    {
      "cell_type": "code",
      "execution_count": 17,
      "metadata": {
        "id": "4a335ef6"
      },
      "outputs": [],
      "source": [
        "\"\"\" Now that we have a baseline, we will implement the placeholders algorithm.\n",
        "\"\"\"\n",
        "\n",
        "class OpenSetPlaceholdersLRM(StandardLogisticRegressionModel):\n",
        "    def __init__(self, num_placeholders, *args, **kwargs):\n",
        "        super().__init__(*args, **kwargs)\n",
        "        self.num_placeholders = num_placeholders\n",
        "        self.dummy_logits_layer = tf.keras.layers.Dense(num_placeholders, activation=None, name='dummy_logits')\n",
        "        self.bias = 0 # used to calibrate dummy logit to have same magnitude as rest of logits\n",
        "\n",
        "    def _pre(self, inputs):\n",
        "        return self.embed_pre(inputs)\n",
        "    \n",
        "    def _rest(self, inputs):\n",
        "        x_post = self.embed_post(inputs)\n",
        "        closed_set_logits = self.logits_layer(x_post)\n",
        "        dummy_logits = self.dummy_logits_layer(x_post)\n",
        "        max_dummy_logit = tf.reduce_max(dummy_logits, axis=1)\n",
        "        all_logits = tf.concat([closed_set_logits, tf.expand_dims(max_dummy_logit, 1) + self.bias], axis=1)\n",
        "        return self.output_layer(all_logits)\n",
        "        \n",
        "    def call(self, inputs):\n",
        "        x_pre = self._pre(inputs)\n",
        "        return self._rest(x_pre)\n",
        "        \n",
        "    # def predict(self, x):\n",
        "    #     \"\"\" Returns the predicted class label. If predicted class is dummy class, return -1\n",
        "    #     indicating prediction falls within the open set.\n",
        "    #     \"\"\"\n",
        "    #     y_pred = self.__call__(x)\n",
        "    #     y_pred_labels = tf.argmax(y_pred, axis=1)\n",
        "    #     return tf.where(y_pred_labels == self.num_classes, -1, y_pred_labels)\n",
        "    \n",
        "def ce_loss_for_placeholders(y_true, y_pred, beta):\n",
        "    loss = ce_loss(y_true, y_pred)\n",
        "    # set each sample's predicted probability for the true class to zero\n",
        "    y_pred_without_true_prob = tf.where(y_true == 1, 0., y_pred)\n",
        "    # create a new y_true where the true label is the dummy class\n",
        "    rows, cols = y_true.shape\n",
        "    rows = rows or 1\n",
        "    y_true_dummy = tf.concat([tf.zeros([rows, cols - 1]), tf.ones([rows, 1])], axis=1)\n",
        "    loss += beta * ce_loss(y_true_dummy, y_pred_without_true_prob)\n",
        "    return loss"
      ]
    },
    {
      "cell_type": "code",
      "execution_count": 18,
      "metadata": {
        "id": "a915e23f",
        "outputId": "f480908d-71af-418a-dc72-8ddd503288a6",
        "colab": {
          "base_uri": "https://localhost:8080/",
          "height": 1000
        }
      },
      "outputs": [
        {
          "output_type": "stream",
          "name": "stderr",
          "text": [
            "/usr/local/lib/python3.7/dist-packages/ipykernel_launcher.py:23: FutureWarning: Using a non-tuple sequence for multidimensional indexing is deprecated; use `arr[tuple(seq)]` instead of `arr[seq]`. In the future this will be interpreted as an array index, `arr[np.array(seq)]`, which will result either in an error or a different result.\n",
            "/usr/local/lib/python3.7/dist-packages/ipykernel_launcher.py:26: FutureWarning: Using a non-tuple sequence for multidimensional indexing is deprecated; use `arr[tuple(seq)]` instead of `arr[seq]`. In the future this will be interpreted as an array index, `arr[np.array(seq)]`, which will result either in an error or a different result.\n"
          ]
        },
        {
          "output_type": "stream",
          "name": "stdout",
          "text": [
            "Epoch 1/500\n",
            "551/551 [==============================] - 6s 9ms/step - loss: 5.1311 - acc: 0.0096 - val_loss: 4.1147 - val_acc: 0.0497\n",
            "Epoch 2/500\n",
            "551/551 [==============================] - 4s 8ms/step - loss: 3.7574 - acc: 0.1013 - val_loss: 3.5155 - val_acc: 0.1471\n",
            "Epoch 3/500\n",
            "551/551 [==============================] - 4s 7ms/step - loss: 3.3470 - acc: 0.1762 - val_loss: 3.3016 - val_acc: 0.1961\n",
            "Epoch 4/500\n",
            "551/551 [==============================] - 4s 8ms/step - loss: 3.1377 - acc: 0.2173 - val_loss: 3.1960 - val_acc: 0.1862\n",
            "Epoch 5/500\n",
            "551/551 [==============================] - 4s 7ms/step - loss: 3.0044 - acc: 0.2472 - val_loss: 3.1077 - val_acc: 0.2462\n",
            "Epoch 6/500\n",
            "551/551 [==============================] - 4s 7ms/step - loss: 2.9025 - acc: 0.2682 - val_loss: 3.0583 - val_acc: 0.2570\n",
            "Epoch 7/500\n",
            "551/551 [==============================] - 4s 8ms/step - loss: 2.8253 - acc: 0.2834 - val_loss: 3.0171 - val_acc: 0.2422\n",
            "Epoch 8/500\n",
            "551/551 [==============================] - 5s 9ms/step - loss: 2.7598 - acc: 0.2976 - val_loss: 2.9866 - val_acc: 0.2643\n",
            "Epoch 9/500\n",
            "551/551 [==============================] - 5s 9ms/step - loss: 2.7030 - acc: 0.3097 - val_loss: 2.9620 - val_acc: 0.2831\n",
            "Epoch 10/500\n",
            "551/551 [==============================] - 4s 8ms/step - loss: 2.6526 - acc: 0.3195 - val_loss: 2.9401 - val_acc: 0.2899\n",
            "Epoch 11/500\n",
            "551/551 [==============================] - 4s 7ms/step - loss: 2.6043 - acc: 0.3294 - val_loss: 2.9351 - val_acc: 0.2964\n",
            "Epoch 12/500\n",
            "551/551 [==============================] - 5s 8ms/step - loss: 2.5611 - acc: 0.3393 - val_loss: 2.9219 - val_acc: 0.3017\n",
            "Epoch 13/500\n",
            "551/551 [==============================] - 4s 8ms/step - loss: 2.5231 - acc: 0.3461 - val_loss: 2.9131 - val_acc: 0.2984\n",
            "Epoch 14/500\n",
            "551/551 [==============================] - 4s 7ms/step - loss: 2.4826 - acc: 0.3531 - val_loss: 2.9054 - val_acc: 0.2988\n",
            "Epoch 15/500\n",
            "551/551 [==============================] - 4s 8ms/step - loss: 2.4459 - acc: 0.3617 - val_loss: 2.9008 - val_acc: 0.3243\n",
            "Epoch 16/500\n",
            "551/551 [==============================] - 4s 7ms/step - loss: 2.4113 - acc: 0.3695 - val_loss: 2.9254 - val_acc: 0.3007\n",
            "Epoch 17/500\n",
            "551/551 [==============================] - 4s 8ms/step - loss: 2.3782 - acc: 0.3747 - val_loss: 2.9023 - val_acc: 0.2962\n",
            "Epoch 18/500\n",
            "551/551 [==============================] - 4s 7ms/step - loss: 2.3455 - acc: 0.3806 - val_loss: 2.9252 - val_acc: 0.2863\n",
            "Epoch 19/500\n",
            "551/551 [==============================] - 4s 7ms/step - loss: 2.3153 - acc: 0.3888 - val_loss: 2.9142 - val_acc: 0.3137\n",
            "Epoch 20/500\n",
            "551/551 [==============================] - 4s 7ms/step - loss: 2.2821 - acc: 0.3936 - val_loss: 2.9163 - val_acc: 0.3478\n"
          ]
        },
        {
          "output_type": "display_data",
          "data": {
            "text/plain": [
              "<Figure size 432x288 with 1 Axes>"
            ],
            "image/png": "[encoded data removed]"
          },
          "metadata": {
            "needs_background": "light"
          }
        },
        {
          "output_type": "display_data",
          "data": {
            "text/plain": [
              "<Figure size 432x288 with 1 Axes>"
            ],
            "image/png": "[encoded data removed]"
          },
          "metadata": {
            "needs_background": "light"
          }
        }
      ],
      "source": [
        "# train for closed set classification on 0-8, 9 is removed before training\n",
        "# from the train set, but is left in the valdation set\n",
        "open_set_class_labels = [99] \n",
        "\n",
        "X_train, X_val, y_train, y_val = validation_split(X, y)\n",
        "X_train_closed, y_train_closed = remove_classes_from_dataset(X_train, y_train, open_set_class_labels)\n",
        "X_val_closed, y_val_closed = remove_classes_from_dataset(X_val, y_val, open_set_class_labels)\n",
        "\n",
        "\n",
        "num_placeholders = 120\n",
        "pre_dim = post_dim = 200\n",
        "model = OpenSetPlaceholdersLRM(\n",
        "    pre_dim=pre_dim, \n",
        "    post_dim=post_dim, \n",
        "    num_classes=NUM_CLASSES - 1,\n",
        "    num_placeholders=num_placeholders\n",
        ")\n",
        "beta = .75\n",
        "loss = lambda *x: ce_loss_for_placeholders(*x, beta)\n",
        "model.compile(\n",
        "    optimizer='adam', \n",
        "    loss=loss, \n",
        "    metrics=[tf.keras.metrics.CategoricalAccuracy(name='acc')]\n",
        ")\n",
        "\n",
        "\n",
        "# The \"+ 1\"s below add an additional column of zeros to the one-hot encodings for\n",
        "# the dummy class\n",
        "train_features = vectorizer.fit_transform(X_train_closed).toarray()\n",
        "dev_features = vectorizer.transform(X_val_closed).toarray()\n",
        "\n",
        "\n",
        "y_train_one_hot = tf.one_hot(y_train_closed, depth=model.num_classes + 1)\n",
        "y_val_one_hot = tf.one_hot(y_val_closed, depth=model.num_classes + 1)\n",
        "\n",
        "\n",
        "es_callback = keras.callbacks.EarlyStopping(monitor='val_loss', patience=5)\n",
        "history=model.fit(train_features, y_train_one_hot, batch_size=batch_size,\n",
        "                  callbacks=[es_callback],\n",
        "          epochs=epochs, validation_data=(dev_features, y_val_one_hot))\n",
        "\n",
        "\n",
        "# y_train_one_hot = tf.one_hot(tf.cast(y_train_closed, tf.int64), depth=model.num_classes + 1)\n",
        "# history = model.fit(X_train_closed, y_train_one_hot, epochs=20, validation_split=.2, batch_size=32)\n",
        "\n",
        "train_loss = history.history['loss']\n",
        "val_loss = history.history['val_loss']\n",
        "plot_loss(train_loss, val_loss)\n",
        "\n",
        "train_acc = history.history['acc']\n",
        "val_acc = history.history['val_acc']\n",
        "plot_acc(train_acc, val_acc)"
      ]
    },
    {
      "cell_type": "code",
      "execution_count": 19,
      "metadata": {
        "id": "372cacb7",
        "outputId": "b4bf6205-7831-4fcb-92fe-b68e0131b689",
        "colab": {
          "base_uri": "https://localhost:8080/"
        }
      },
      "outputs": [
        {
          "output_type": "stream",
          "name": "stdout",
          "text": [
            "79/79 [==============================] - 0s 2ms/step\n",
            "total accuracy:      0.3740\n",
            "open-set accuracy:   0.9565\n",
            "closed-set accuracy: 0.3686\n"
          ]
        }
      ],
      "source": [
        "total_acc = []\n",
        "open_set_acc = []\n",
        "closed_set_acc = []\n",
        "\n",
        "\n",
        "test_features = vectorizer.transform(X_test).toarray()\n",
        "y_test_open = modify_open_set_labels(y_test, open_set_class_labels)\n",
        "y_pred = model.predict(test_features)\n",
        "\n",
        "y_pred_labels = tf.argmax(y_pred, axis=1)\n",
        "y_pred_labels1 = tf.where(y_pred_labels == 99, -1, y_pred_labels)\n",
        "\n",
        "# y_val_one_hot = tf.one_hot(y_val_closed, depth=model.num_classes + 1)\n",
        "\n",
        "print('total accuracy:      {:.4f}'.format(accuracy(y_test_open, y_pred_labels1)))\n",
        "print('open-set accuracy:   {:.4f}'.format(open_set_accuracy(y_test_open, y_pred_labels1)))\n",
        "print('closed-set accuracy: {:.4f}'.format(closed_set_accuracy(y_test_open, y_pred_labels1)))"
      ]
    },
    {
      "cell_type": "markdown",
      "source": [
        "###Under progress from here onwards"
      ],
      "metadata": {
        "id": "vmtZvHMh22In"
      }
    },
    {
      "cell_type": "code",
      "source": [
        "!pip install tensorflow-addons"
      ],
      "metadata": {
        "colab": {
          "base_uri": "https://localhost:8080/"
        },
        "id": "oZjCJlpvbby-",
        "outputId": "448854ce-17e9-487a-e78f-26a94c4b5e3a"
      },
      "execution_count": 28,
      "outputs": [
        {
          "output_type": "stream",
          "name": "stdout",
          "text": [
            "Looking in indexes: https://pypi.org/simple, https://us-python.pkg.dev/colab-wheels/public/simple/\n",
            "Collecting tensorflow-addons\n",
            "  Downloading tensorflow_addons-0.18.0-cp37-cp37m-manylinux_2_17_x86_64.manylinux2014_x86_64.whl (1.1 MB)\n",
            "\u001b[K     |████████████████████████████████| 1.1 MB 5.3 MB/s \n",
            "\u001b[?25hRequirement already satisfied: typeguard>=2.7 in /usr/local/lib/python3.7/dist-packages (from tensorflow-addons) (2.7.1)\n",
            "Requirement already satisfied: packaging in /usr/local/lib/python3.7/dist-packages (from tensorflow-addons) (21.3)\n",
            "Requirement already satisfied: pyparsing!=3.0.5,>=2.0.2 in /usr/local/lib/python3.7/dist-packages (from packaging->tensorflow-addons) (3.0.9)\n",
            "Installing collected packages: tensorflow-addons\n",
            "Successfully installed tensorflow-addons-0.18.0\n"
          ]
        }
      ]
    },
    {
      "cell_type": "code",
      "source": [
        "import matplotlib.pyplot as plt\n",
        "from sklearn.model_selection import train_test_split\n",
        "from sklearn.metrics import f1_score\n",
        "import tensorflow as tf\n",
        "import tensorflow_addons as tfa\n",
        "import tensorflow_probability as tfp\n",
        "from tqdm import tqdm"
      ],
      "metadata": {
        "id": "bJ4rq7TSbTiC"
      },
      "execution_count": 29,
      "outputs": []
    },
    {
      "cell_type": "code",
      "source": [],
      "metadata": {
        "id": "qzCqb0wAfxi-"
      },
      "execution_count": null,
      "outputs": []
    },
    {
      "cell_type": "code",
      "execution_count": 30,
      "metadata": {
        "id": "9f537d48"
      },
      "outputs": [],
      "source": [
        "def plot_training_metric(train_values, val_values, metric_name):\n",
        "    iterations = list(range(len(train_values)))\n",
        "    plt.plot(iterations, train_values, label='Train')\n",
        "    plt.plot(iterations, val_values, label='Validation')\n",
        "    plt.xlabel('Iterations')\n",
        "    plt.ylabel(metric_name)\n",
        "    plt.legend()\n",
        "    plt.title('{} While Training'.format(metric_name))\n",
        "    plt.show()"
      ]
    },
    {
      "cell_type": "code",
      "execution_count": 35,
      "metadata": {
        "id": "cf382329"
      },
      "outputs": [],
      "source": [
        "class StandardLogisticRegressionModel(tf.keras.Model):\n",
        "    def __init__(self, num_classes, pre_dim=200, post_dim=200, *args, **kwargs):\n",
        "        super().__init__(*args, **kwargs)\n",
        "        lrelu = lambda x: tf.keras.activations.relu(x, alpha=0.1)\n",
        "        self.num_classes = num_classes\n",
        "        self.embed_pre = tf.keras.layers.Dense(pre_dim, activation=lrelu, name='embed_pre')\n",
        "        self.embed_post = tf.keras.layers.Dense(post_dim, activation=lrelu, name='embed_post')\n",
        "        self.logits_layer = tf.keras.layers.Dense(num_classes, activation=None, name='ligits')\n",
        "        self.output_layer = tf.keras.layers.Softmax(name='output')\n",
        "        \n",
        "    def call(self, inputs):\n",
        "        x_pre = self.embed_pre(inputs)\n",
        "        x_post = self.embed_post(x_pre)\n",
        "        logits = self.logits_layer(x_post)\n",
        "        return self.output_layer(logits)\n",
        "\n",
        "def ce_loss(y_true, y_pred):\n",
        "    \"\"\" Cross Entropy Loss.\n",
        "    y_true: one-hot encoded class labels\n",
        "    y_pred: class probabilities\n",
        "    \"\"\"\n",
        "    y_pred = tf.clip_by_value(y_pred, 1e-9, 1.)\n",
        "    return tf.reduce_mean(-tf.reduce_sum(y_true * tf.math.log(y_pred), axis=1))\n",
        "\n",
        "def accuracy(y_true, y_pred):\n",
        "    \"\"\"y_true is the true class labels (not one-hot encoded) and y_pred are the predicted\n",
        "    class labels (not class probabilities).\n",
        "    \"\"\"\n",
        "    correct_preds = tf.equal(tf.cast(y_true, tf.int64), y_pred)\n",
        "    return tf.reduce_mean(tf.cast(correct_preds, tf.float32))\n",
        "\n",
        "def train_SLRM(X, y, num_classes, epochs=25, plot=True, **kwargs):\n",
        "    batch_size = 64\n",
        "    vectorizer = TfidfVectorizer(max_features=250, sublinear_tf=True, ngram_range=(1,2))\n",
        "    train_features = vectorizer.fit_transform(X_train).toarray()\n",
        "    dev_features = vectorizer.transform(X_val).toarray()\n",
        "    # y_train_one_hot = tf.one_hot(tf.cast(y, tf.int64), depth=100)\n",
        "    lb = LabelEncoder()\n",
        "    ytrain = lb.fit_transform(y_train)\n",
        "    dummy_y_train = np_utils.to_categorical(ytrain)\n",
        "\n",
        "    yval = lb.fit_transform(y_val)\n",
        "    dummy_y_dev = np_utils.to_categorical(yval)\n",
        "\n",
        "    model = StandardLogisticRegressionModel( \n",
        "        num_classes=num_classes,\n",
        "        **kwargs\n",
        "    )\n",
        "    model.compile(\n",
        "        optimizer='adam', \n",
        "        loss=ce_loss, \n",
        "        metrics=[tfa.metrics.F1Score(name='f1', num_classes=num_classes, average='macro')]\n",
        "    )\n",
        "    y_train_one_hot = tf.one_hot(tf.cast(y, tf.int64), depth=model.num_classes)\n",
        "    checkpoint_filepath = './tmp/checkpoint'\n",
        "    model_checkpoint_callback = tf.keras.callbacks.ModelCheckpoint(\n",
        "        filepath=checkpoint_filepath,\n",
        "        save_weights_only=True,\n",
        "        monitor='val_f1',\n",
        "        mode='max',\n",
        "        save_best_only=True\n",
        "    )\n",
        "    history = model.fit(\n",
        "        train_features, dummy_y_train, epochs=epochs, \n",
        "        callbacks=[model_checkpoint_callback], validation_data=(dev_features, dummy_y_dev)\n",
        "    )\n",
        "    model.load_weights(checkpoint_filepath)\n",
        "    if plot:\n",
        "        history = history.history\n",
        "        plot_training_metric(history['loss'], history['val_loss'], 'Loss')\n",
        "        plot_training_metric(history['f1'], history['val_f1'], 'F1 Score')\n",
        "    return model"
      ]
    },
    {
      "cell_type": "code",
      "execution_count": 36,
      "metadata": {
        "id": "c4d6bf03",
        "outputId": "2b715479-9120-4dc0-8ef1-26e671642cc9",
        "colab": {
          "base_uri": "https://localhost:8080/",
          "height": 1000
        }
      },
      "outputs": [
        {
          "output_type": "stream",
          "name": "stdout",
          "text": [
            "Epoch 1/15\n",
            "1114/1114 [==============================] - 5s 4ms/step - loss: 3.7727 - f1: 0.1300 - val_loss: 3.1090 - val_f1: 0.2197\n",
            "Epoch 2/15\n",
            "1114/1114 [==============================] - 4s 4ms/step - loss: 2.8575 - f1: 0.2815 - val_loss: 2.7055 - val_f1: 0.3145\n",
            "Epoch 3/15\n",
            "1114/1114 [==============================] - 4s 3ms/step - loss: 2.5508 - f1: 0.3495 - val_loss: 2.5012 - val_f1: 0.3668\n",
            "Epoch 4/15\n",
            "1114/1114 [==============================] - 5s 4ms/step - loss: 2.3636 - f1: 0.3954 - val_loss: 2.3566 - val_f1: 0.3923\n",
            "Epoch 5/15\n",
            "1114/1114 [==============================] - 8s 7ms/step - loss: 2.2235 - f1: 0.4301 - val_loss: 2.2572 - val_f1: 0.4220\n",
            "Epoch 6/15\n",
            "1114/1114 [==============================] - 4s 3ms/step - loss: 2.1089 - f1: 0.4587 - val_loss: 2.1723 - val_f1: 0.4481\n",
            "Epoch 7/15\n",
            "1114/1114 [==============================] - 5s 4ms/step - loss: 2.0185 - f1: 0.4820 - val_loss: 2.1008 - val_f1: 0.4628\n",
            "Epoch 8/15\n",
            "1114/1114 [==============================] - 6s 5ms/step - loss: 1.9427 - f1: 0.5023 - val_loss: 2.0455 - val_f1: 0.4764\n",
            "Epoch 9/15\n",
            "1114/1114 [==============================] - 4s 3ms/step - loss: 1.8819 - f1: 0.5172 - val_loss: 2.0044 - val_f1: 0.4868\n",
            "Epoch 10/15\n",
            "1114/1114 [==============================] - 5s 4ms/step - loss: 1.8317 - f1: 0.5270 - val_loss: 1.9885 - val_f1: 0.4902\n",
            "Epoch 11/15\n",
            "1114/1114 [==============================] - 8s 7ms/step - loss: 1.7893 - f1: 0.5375 - val_loss: 1.9471 - val_f1: 0.4980\n",
            "Epoch 12/15\n",
            "1114/1114 [==============================] - 4s 3ms/step - loss: 1.7534 - f1: 0.5455 - val_loss: 1.9397 - val_f1: 0.5061\n",
            "Epoch 13/15\n",
            "1114/1114 [==============================] - 3s 3ms/step - loss: 1.7199 - f1: 0.5556 - val_loss: 1.9217 - val_f1: 0.5118\n",
            "Epoch 14/15\n",
            "1114/1114 [==============================] - 4s 3ms/step - loss: 1.6944 - f1: 0.5617 - val_loss: 1.8852 - val_f1: 0.5156\n",
            "Epoch 15/15\n",
            "1114/1114 [==============================] - 4s 3ms/step - loss: 1.6671 - f1: 0.5681 - val_loss: 1.8682 - val_f1: 0.5228\n"
          ]
        },
        {
          "output_type": "display_data",
          "data": {
            "text/plain": [
              "<Figure size 432x288 with 1 Axes>"
            ],
            "image/png": "[encoded data removed]"
          },
          "metadata": {
            "needs_background": "light"
          }
        },
        {
          "output_type": "display_data",
          "data": {
            "text/plain": [
              "<Figure size 432x288 with 1 Axes>"
            ],
            "image/png": "[encoded data removed]"
          },
          "metadata": {
            "needs_background": "light"
          }
        }
      ],
      "source": [
        "model = train_SLRM(X, y, num_classes=NUM_CLASSES, epochs=15, plot=True, pre_dim=50, post_dim=50)"
      ]
    },
    {
      "cell_type": "code",
      "execution_count": 44,
      "metadata": {
        "id": "dc842420"
      },
      "outputs": [],
      "source": [
        "\"\"\" \n",
        "Now we attempt open-set classicfication by training a logistic regression model on k \n",
        "classes (digits 0-8 for this dataset) and test on k+1. If all predicted class probabilities\n",
        "are below a threshold, predict the open set.\n",
        "\"\"\"\n",
        "from itertools import compress\n",
        "    \n",
        "def threshold_predict(X, model, threshold):\n",
        "    # print(X)\n",
        "    # y_pred = model.call(X)\n",
        "    y_pred = model.predict(X)\n",
        "    # print(y_pred)\n",
        "    highest_prob = tf.reduce_max(y_pred, axis=1)\n",
        "    return tf.where(highest_prob < threshold, -1, tf.argmax(y_pred, axis=1))\n",
        "\n",
        "def remove_classes_from_dataset(X, y, class_labels):\n",
        "    \"\"\"Removes samples from both X and y that correspond to classes given in class_labels\n",
        "    class_labels: list of class_labels e.g. [3,4,9]\n",
        "    y: tensor containing class labels (not yet one-hot encoded)\n",
        "    \"\"\"\n",
        "    to_remove_mask = [y != label for label in class_labels]\n",
        "    X = np.array(X) \n",
        "    result = X[to_remove_mask] \n",
        "    X=result.tolist()\n",
        "    y = np.array(y) \n",
        "    result = y[to_remove_mask] \n",
        "    y=result.tolist()\n",
        "    return X, y\n",
        "\n",
        "def modify_open_set_labels(y, open_set_class_labels):\n",
        "    \"\"\"Replaces class labels from the open set in y with -1\n",
        "    \"\"\"\n",
        "    open_set_idx = tf.reduce_any([y == label for label in open_set_class_labels], axis=0)\n",
        "    return tf.where(open_set_idx, -1, y)\n",
        "\n",
        "def open_set_accuracy(y_true, y_pred):\n",
        "    \"\"\" fraction of samples in the open set that are classified correctly.\n",
        "    \"\"\"\n",
        "    y_true = tf.cast(y_true, tf.int64)\n",
        "    open_set_idx = y_true == -1\n",
        "    return accuracy(y_true[open_set_idx], y_pred[open_set_idx])\n",
        "\n",
        "def closed_set_accuracy(y_true, y_pred):\n",
        "    \"\"\" fraction of samples in the open set that are classified correctly.\n",
        "    \"\"\"\n",
        "    y_true = tf.cast(y_true, tf.int64)\n",
        "    closed_set_idx = y_true != -1\n",
        "    return accuracy(y_true[closed_set_idx], y_pred[closed_set_idx])\n",
        "    #return tf.reduce_sum(tf.equal(y_true[closed_set_idx], y_pred[closed_set_idx]))\n",
        "def open_set_accuracy(y_true, y_pred):\n",
        "    \"\"\" fraction of samples in the open set that are classified correctly.\n",
        "    \"\"\"\n",
        "    y_true = tf.cast(y_true, tf.int64)\n",
        "    open_set_idx = y_true == -1\n",
        "    return accuracy(y_true[open_set_idx], y_pred[open_set_idx])\n",
        "\n",
        "def open_set_f1_score(y_true, y_pred):\n",
        "    y_true = tf.cast(y_true, tf.int64)\n",
        "    y_true = tf.where(y_true == -1, 1, 0)\n",
        "    y_pred = tf.where(y_pred == -1, 1, 0)\n",
        "    return f1_score(y_true, y_pred)\n",
        "    \n",
        "def known_fraction(y_pred):\n",
        "    \"\"\"Fraction of predicted class labels != -1\"\"\"\n",
        "    return tf.reduce_sum(tf.cast(y_pred != -1, tf.int64)) / y_pred.shape"
      ]
    },
    {
      "cell_type": "code",
      "source": [
        "# train for closed set classification on 0-8, 9 is removed before training\n",
        "# from the train set, but is left in the valdation set\n",
        "X, y, X_test, y_test = load_dataset()\n",
        "open_set_class_labels = [99] \n",
        "\n",
        "X_train, X_val, y_train, y_val = validation_split(X, y)\n",
        "X_train_closed, y_train_closed = remove_classes_from_dataset(X_train, y_train, open_set_class_labels)\n",
        "X_val_closed, y_val_closed = remove_classes_from_dataset(X_val, y_val, open_set_class_labels)\n",
        "\n",
        "\n",
        "\n",
        "pre_dim = post_dim = 200\n",
        "model = StandardLogisticRegressionModel(pre_dim, post_dim, NUM_CLASSES - 1)\n",
        "model.compile(optimizer='adam', loss=ce_loss, metrics=[tf.keras.metrics.CategoricalAccuracy(name='acc')])\n",
        "\n",
        "\n",
        "\n",
        "\n",
        "\n",
        "vectorizer = TfidfVectorizer(max_features=250, sublinear_tf=True, ngram_range=(1,2))\n",
        "train_features = vectorizer.fit_transform(X_train_closed).toarray()\n",
        "dev_features = vectorizer.transform(X_val_closed).toarray()\n",
        "\n",
        "lb = LabelEncoder()\n",
        "ytrain = lb.fit_transform(y_train_closed)\n",
        "dummy_y_train = np_utils.to_categorical(ytrain)\n",
        "\n",
        "yval = lb.fit_transform(y_val_closed)\n",
        "dummy_y_dev = np_utils.to_categorical(yval)"
      ],
      "metadata": {
        "colab": {
          "base_uri": "https://localhost:8080/"
        },
        "id": "7Vh7w_KLjyw1",
        "outputId": "c6e4bf83-b4e1-4469-fcba-08e77cc42e8e"
      },
      "execution_count": 47,
      "outputs": [
        {
          "output_type": "stream",
          "name": "stderr",
          "text": [
            "/usr/local/lib/python3.7/dist-packages/ipykernel_launcher.py:23: FutureWarning: Using a non-tuple sequence for multidimensional indexing is deprecated; use `arr[tuple(seq)]` instead of `arr[seq]`. In the future this will be interpreted as an array index, `arr[np.array(seq)]`, which will result either in an error or a different result.\n",
            "/usr/local/lib/python3.7/dist-packages/ipykernel_launcher.py:26: FutureWarning: Using a non-tuple sequence for multidimensional indexing is deprecated; use `arr[tuple(seq)]` instead of `arr[seq]`. In the future this will be interpreted as an array index, `arr[np.array(seq)]`, which will result either in an error or a different result.\n"
          ]
        }
      ]
    },
    {
      "cell_type": "code",
      "execution_count": 58,
      "metadata": {
        "id": "348cde35",
        "outputId": "058f577e-7bcc-477f-b27a-0ff40b2d7cd7",
        "colab": {
          "base_uri": "https://localhost:8080/",
          "height": 1000
        }
      },
      "outputs": [
        {
          "output_type": "stream",
          "name": "stdout",
          "text": [
            "Epoch 1/25\n",
            "1103/1103 [==============================] - 8s 6ms/step - loss: 3.1082 - f1: 0.2639 - val_loss: 2.3292 - val_f1: 0.4151\n",
            "Epoch 2/25\n",
            "1103/1103 [==============================] - 5s 5ms/step - loss: 2.0282 - f1: 0.4838 - val_loss: 1.9288 - val_f1: 0.4988\n",
            "Epoch 3/25\n",
            "1103/1103 [==============================] - 5s 4ms/step - loss: 1.7253 - f1: 0.5577 - val_loss: 1.7770 - val_f1: 0.5419\n",
            "Epoch 4/25\n",
            "1103/1103 [==============================] - 6s 5ms/step - loss: 1.5626 - f1: 0.5945 - val_loss: 1.6895 - val_f1: 0.5633\n",
            "Epoch 5/25\n",
            "1103/1103 [==============================] - 5s 5ms/step - loss: 1.4442 - f1: 0.6221 - val_loss: 1.6369 - val_f1: 0.5773\n",
            "Epoch 6/25\n",
            "1103/1103 [==============================] - 5s 4ms/step - loss: 1.3519 - f1: 0.6441 - val_loss: 1.5898 - val_f1: 0.5895\n",
            "Epoch 7/25\n",
            "1103/1103 [==============================] - 5s 4ms/step - loss: 1.2723 - f1: 0.6625 - val_loss: 1.5883 - val_f1: 0.5864\n",
            "Epoch 8/25\n",
            "1103/1103 [==============================] - 5s 5ms/step - loss: 1.2008 - f1: 0.6794 - val_loss: 1.5582 - val_f1: 0.5980\n",
            "Epoch 9/25\n",
            "1103/1103 [==============================] - 5s 5ms/step - loss: 1.1370 - f1: 0.6967 - val_loss: 1.5614 - val_f1: 0.6007\n",
            "Epoch 10/25\n",
            "1103/1103 [==============================] - 5s 5ms/step - loss: 1.0774 - f1: 0.7089 - val_loss: 1.5332 - val_f1: 0.6058\n",
            "Epoch 11/25\n",
            "1103/1103 [==============================] - 5s 4ms/step - loss: 1.0207 - f1: 0.7248 - val_loss: 1.5431 - val_f1: 0.6121\n",
            "Epoch 12/25\n",
            "1103/1103 [==============================] - 5s 5ms/step - loss: 0.9690 - f1: 0.7390 - val_loss: 1.5472 - val_f1: 0.6115\n",
            "Epoch 13/25\n",
            "1103/1103 [==============================] - 5s 5ms/step - loss: 0.9203 - f1: 0.7501 - val_loss: 1.5688 - val_f1: 0.6123\n",
            "Epoch 14/25\n",
            "1103/1103 [==============================] - 6s 6ms/step - loss: 0.8749 - f1: 0.7595 - val_loss: 1.5698 - val_f1: 0.6143\n",
            "Epoch 15/25\n",
            "1103/1103 [==============================] - 6s 5ms/step - loss: 0.8283 - f1: 0.7719 - val_loss: 1.5847 - val_f1: 0.6109\n",
            "Epoch 16/25\n",
            "1103/1103 [==============================] - 5s 5ms/step - loss: 0.7857 - f1: 0.7842 - val_loss: 1.6389 - val_f1: 0.6127\n",
            "Epoch 17/25\n",
            "1103/1103 [==============================] - 5s 5ms/step - loss: 0.7392 - f1: 0.7953 - val_loss: 1.6499 - val_f1: 0.6043\n",
            "Epoch 18/25\n",
            "1103/1103 [==============================] - 7s 6ms/step - loss: 0.6977 - f1: 0.8067 - val_loss: 1.6616 - val_f1: 0.6095\n",
            "Epoch 19/25\n",
            "1103/1103 [==============================] - 7s 6ms/step - loss: 0.6561 - f1: 0.8194 - val_loss: 1.6833 - val_f1: 0.6119\n",
            "Epoch 20/25\n",
            "1103/1103 [==============================] - 5s 5ms/step - loss: 0.6168 - f1: 0.8294 - val_loss: 1.7376 - val_f1: 0.6032\n",
            "Epoch 21/25\n",
            "1103/1103 [==============================] - 5s 5ms/step - loss: 0.5785 - f1: 0.8381 - val_loss: 1.7616 - val_f1: 0.6064\n",
            "Epoch 22/25\n",
            "1103/1103 [==============================] - 5s 5ms/step - loss: 0.5393 - f1: 0.8485 - val_loss: 1.8146 - val_f1: 0.6068\n",
            "Epoch 23/25\n",
            "1103/1103 [==============================] - 5s 5ms/step - loss: 0.5010 - f1: 0.8602 - val_loss: 1.8919 - val_f1: 0.5911\n",
            "Epoch 24/25\n",
            "1103/1103 [==============================] - 5s 5ms/step - loss: 0.4690 - f1: 0.8691 - val_loss: 1.9053 - val_f1: 0.5984\n",
            "Epoch 25/25\n",
            "1103/1103 [==============================] - 6s 5ms/step - loss: 0.4327 - f1: 0.8817 - val_loss: 1.9485 - val_f1: 0.5956\n"
          ]
        },
        {
          "output_type": "display_data",
          "data": {
            "text/plain": [
              "<Figure size 432x288 with 1 Axes>"
            ],
            "image/png": "[encoded data removed]"
          },
          "metadata": {
            "needs_background": "light"
          }
        },
        {
          "output_type": "display_data",
          "data": {
            "text/plain": [
              "<Figure size 432x288 with 1 Axes>"
            ],
            "image/png": "[encoded data removed]"
          },
          "metadata": {
            "needs_background": "light"
          }
        }
      ],
      "source": [
        "model = StandardLogisticRegressionModel( \n",
        "        num_classes=NUM_CLASSES-1,\n",
        "        pre_dim=200, post_dim=200\n",
        ")\n",
        "model.compile(\n",
        "  optimizer='adam', \n",
        "  loss=ce_loss, \n",
        "  metrics=[tfa.metrics.F1Score(name='f1', num_classes=NUM_CLASSES-1, average='macro')]\n",
        ")\n",
        "\n",
        "checkpoint_filepath = './tmp/checkpoint'\n",
        "model_checkpoint_callback = tf.keras.callbacks.ModelCheckpoint(\n",
        "    filepath=checkpoint_filepath,\n",
        "    save_weights_only=True,\n",
        "    monitor='val_f1',\n",
        "    mode='max',\n",
        "    save_best_only=True\n",
        ")\n",
        "history = model.fit(\n",
        "        train_features, dummy_y_train, epochs=25, \n",
        "        callbacks=[model_checkpoint_callback], validation_data=(dev_features, dummy_y_dev)\n",
        ")\n",
        "model.load_weights(checkpoint_filepath)\n",
        "# if plot:\n",
        "history = history.history\n",
        "plot_training_metric(history['loss'], history['val_loss'], 'Loss')\n",
        "plot_training_metric(history['f1'], history['val_f1'], 'F1 Score')"
      ]
    },
    {
      "cell_type": "code",
      "execution_count": 59,
      "metadata": {
        "id": "85372826"
      },
      "outputs": [],
      "source": [
        "def tune_model_param(model, val_closed, val_open, param_values, param_name, predict_func,\n",
        "                     objective_func, target_value, objective_name, metrics, plot=True):\n",
        "    # convert instances of class labels in the open set to -1\n",
        "    y_val_open = modify_open_set_labels(y_val, open_set_class_labels)\n",
        "    best_objective_error = float('inf')\n",
        "    best_param_value = 0\n",
        "    objective_values = []\n",
        "    metric_values = {metric: [] for metric in metrics}\n",
        "    for param_value in param_values:\n",
        "        y_pred_closed = predict_func(val_closed['X'], model, param_value)\n",
        "        y_pred_open = predict_func(val_open['X'], model, param_value)\n",
        "        objective_values.append(objective_func(y_pred_closed))\n",
        "        objective_error = float(abs(objective_values[-1] - target_value))\n",
        "        if objective_error < best_objective_error:\n",
        "            best_objective_error = objective_error\n",
        "            best_param_value = param_value\n",
        "        for metric in metrics:\n",
        "            metric_values[metric].append(metrics[metric](val_open['y'], y_pred_open))\n",
        "    if plot:\n",
        "        for metric in metrics:\n",
        "            plt.plot(param_values, metric_values[metric], label=metric)\n",
        "        plt.plot(param_values, objective_values, label=objective_name)\n",
        "        plt.xlabel(param_name)\n",
        "        plt.legend()\n",
        "        plt.title('Calibrating {}'.format(param_name))\n",
        "        plt.show()\n",
        "    return best_param_value"
      ]
    },
    {
      "cell_type": "code",
      "execution_count": 60,
      "metadata": {
        "id": "bbaf5830"
      },
      "outputs": [],
      "source": [
        "# See how the threshold value affects accuracy and find the threshold\n",
        "# such that 95% of validation data is recognized as known\n",
        "\n",
        "tuning_metrics = {\n",
        "    'All Class F1': lambda *x: f1_score(*x, average='macro'),\n",
        "    'Open-Set F1': open_set_f1_score,\n",
        "    'All Class Accuracy': accuracy,\n",
        "    'Open-Set Accuracy': open_set_accuracy,    \n",
        "}\n",
        "\n",
        "def tune_TSLR_threshold(model, X_val, y_val, open_set_class_labels, plot=True):\n",
        "    \"\"\"Tunes a Thresholded-Standard-Logistic-Regression model's threshold so\n",
        "    that 95% of a closed-set validation set's samples are predicted to be\n",
        "    from one of the known classes.\n",
        "    \"\"\"\n",
        "    threshold_values = np.linspace(0, 1, 100)\n",
        "    target_known_fraction = .95\n",
        "    # split validation set into an open validation set and a closed validation set\n",
        "    X_val_open, X_val_closed, y_val_open, y_val_closed = validation_split(X_val, y_val, val_size=.5)\n",
        "    # convert instances of class labels in the open set to -1\n",
        "    y_val_open = modify_open_set_labels(y_val_open, open_set_class_labels)\n",
        "    # remove open-set samples from the closed-set validation data\n",
        "    X_val_closed, y_val_closed = remove_classes_from_dataset(X_val_closed, y_val_closed, open_set_class_labels)\n",
        "    val_closed = {'X': X_val_closed, 'y': y_val_closed}\n",
        "    val_open = {'X': X_val_open, 'y': y_val_open}\n",
        "    param_name = 'Classification Probability Threshold'\n",
        "    objective_name = 'Known Fraction'\n",
        "    threshold = tune_model_param(\n",
        "        model, val_closed, val_open, threshold_values, param_name, threshold_predict,\n",
        "        known_fraction, target_known_fraction, objective_name, tuning_metrics, plot=plot\n",
        "    )\n",
        "    return threshold"
      ]
    },
    {
      "cell_type": "code",
      "execution_count": 61,
      "metadata": {
        "id": "bff634a2",
        "outputId": "c5b07998-0818-465d-ff25-01c5f0c7e34f",
        "colab": {
          "base_uri": "https://localhost:8080/",
          "height": 1000
        }
      },
      "outputs": [
        {
          "output_type": "stream",
          "name": "stderr",
          "text": [
            "/usr/local/lib/python3.7/dist-packages/ipykernel_launcher.py:23: FutureWarning: Using a non-tuple sequence for multidimensional indexing is deprecated; use `arr[tuple(seq)]` instead of `arr[seq]`. In the future this will be interpreted as an array index, `arr[np.array(seq)]`, which will result either in an error or a different result.\n",
            "/usr/local/lib/python3.7/dist-packages/ipykernel_launcher.py:26: FutureWarning: Using a non-tuple sequence for multidimensional indexing is deprecated; use `arr[tuple(seq)]` instead of `arr[seq]`. In the future this will be interpreted as an array index, `arr[np.array(seq)]`, which will result either in an error or a different result.\n"
          ]
        },
        {
          "output_type": "error",
          "ename": "ValueError",
          "evalue": "ignored",
          "traceback": [
            "\u001b[0;31m---------------------------------------------------------------------------\u001b[0m",
            "\u001b[0;31mValueError\u001b[0m                                Traceback (most recent call last)",
            "\u001b[0;32m<ipython-input-61-26c62f190614>\u001b[0m in \u001b[0;36m<module>\u001b[0;34m\u001b[0m\n\u001b[0;32m----> 1\u001b[0;31m \u001b[0mthreshold\u001b[0m \u001b[0;34m=\u001b[0m \u001b[0mtune_TSLR_threshold\u001b[0m\u001b[0;34m(\u001b[0m\u001b[0mmodel\u001b[0m\u001b[0;34m,\u001b[0m \u001b[0mX_val\u001b[0m\u001b[0;34m,\u001b[0m \u001b[0my_val\u001b[0m\u001b[0;34m,\u001b[0m \u001b[0mopen_set_class_labels\u001b[0m\u001b[0;34m)\u001b[0m\u001b[0;34m\u001b[0m\u001b[0;34m\u001b[0m\u001b[0m\n\u001b[0m\u001b[1;32m      2\u001b[0m \u001b[0;34m\u001b[0m\u001b[0m\n\u001b[1;32m      3\u001b[0m \u001b[0;31m# Evaluate on test set\u001b[0m\u001b[0;34m\u001b[0m\u001b[0;34m\u001b[0m\u001b[0;34m\u001b[0m\u001b[0m\n\u001b[1;32m      4\u001b[0m \u001b[0;34m\u001b[0m\u001b[0m\n\u001b[1;32m      5\u001b[0m \u001b[0;31m# convert instances of class labels in the open set to -1\u001b[0m\u001b[0;34m\u001b[0m\u001b[0;34m\u001b[0m\u001b[0;34m\u001b[0m\u001b[0m\n",
            "\u001b[0;32m<ipython-input-60-daa1fffac2ac>\u001b[0m in \u001b[0;36mtune_TSLR_threshold\u001b[0;34m(model, X_val, y_val, open_set_class_labels, plot)\u001b[0m\n\u001b[1;32m     28\u001b[0m     threshold = tune_model_param(\n\u001b[1;32m     29\u001b[0m         \u001b[0mmodel\u001b[0m\u001b[0;34m,\u001b[0m \u001b[0mval_closed\u001b[0m\u001b[0;34m,\u001b[0m \u001b[0mval_open\u001b[0m\u001b[0;34m,\u001b[0m \u001b[0mthreshold_values\u001b[0m\u001b[0;34m,\u001b[0m \u001b[0mparam_name\u001b[0m\u001b[0;34m,\u001b[0m \u001b[0mthreshold_predict\u001b[0m\u001b[0;34m,\u001b[0m\u001b[0;34m\u001b[0m\u001b[0;34m\u001b[0m\u001b[0m\n\u001b[0;32m---> 30\u001b[0;31m         \u001b[0mknown_fraction\u001b[0m\u001b[0;34m,\u001b[0m \u001b[0mtarget_known_fraction\u001b[0m\u001b[0;34m,\u001b[0m \u001b[0mobjective_name\u001b[0m\u001b[0;34m,\u001b[0m \u001b[0mtuning_metrics\u001b[0m\u001b[0;34m,\u001b[0m \u001b[0mplot\u001b[0m\u001b[0;34m=\u001b[0m\u001b[0mplot\u001b[0m\u001b[0;34m\u001b[0m\u001b[0;34m\u001b[0m\u001b[0m\n\u001b[0m\u001b[1;32m     31\u001b[0m     )\n\u001b[1;32m     32\u001b[0m     \u001b[0;32mreturn\u001b[0m \u001b[0mthreshold\u001b[0m\u001b[0;34m\u001b[0m\u001b[0;34m\u001b[0m\u001b[0m\n",
            "\u001b[0;32m<ipython-input-59-1351a2ea17ec>\u001b[0m in \u001b[0;36mtune_model_param\u001b[0;34m(model, val_closed, val_open, param_values, param_name, predict_func, objective_func, target_value, objective_name, metrics, plot)\u001b[0m\n\u001b[1;32m      8\u001b[0m     \u001b[0mmetric_values\u001b[0m \u001b[0;34m=\u001b[0m \u001b[0;34m{\u001b[0m\u001b[0mmetric\u001b[0m\u001b[0;34m:\u001b[0m \u001b[0;34m[\u001b[0m\u001b[0;34m]\u001b[0m \u001b[0;32mfor\u001b[0m \u001b[0mmetric\u001b[0m \u001b[0;32min\u001b[0m \u001b[0mmetrics\u001b[0m\u001b[0;34m}\u001b[0m\u001b[0;34m\u001b[0m\u001b[0;34m\u001b[0m\u001b[0m\n\u001b[1;32m      9\u001b[0m     \u001b[0;32mfor\u001b[0m \u001b[0mparam_value\u001b[0m \u001b[0;32min\u001b[0m \u001b[0mparam_values\u001b[0m\u001b[0;34m:\u001b[0m\u001b[0;34m\u001b[0m\u001b[0;34m\u001b[0m\u001b[0m\n\u001b[0;32m---> 10\u001b[0;31m         \u001b[0my_pred_closed\u001b[0m \u001b[0;34m=\u001b[0m \u001b[0mpredict_func\u001b[0m\u001b[0;34m(\u001b[0m\u001b[0mval_closed\u001b[0m\u001b[0;34m[\u001b[0m\u001b[0;34m'X'\u001b[0m\u001b[0;34m]\u001b[0m\u001b[0;34m,\u001b[0m \u001b[0mmodel\u001b[0m\u001b[0;34m,\u001b[0m \u001b[0mparam_value\u001b[0m\u001b[0;34m)\u001b[0m\u001b[0;34m\u001b[0m\u001b[0;34m\u001b[0m\u001b[0m\n\u001b[0m\u001b[1;32m     11\u001b[0m         \u001b[0my_pred_open\u001b[0m \u001b[0;34m=\u001b[0m \u001b[0mpredict_func\u001b[0m\u001b[0;34m(\u001b[0m\u001b[0mval_open\u001b[0m\u001b[0;34m[\u001b[0m\u001b[0;34m'X'\u001b[0m\u001b[0;34m]\u001b[0m\u001b[0;34m,\u001b[0m \u001b[0mmodel\u001b[0m\u001b[0;34m,\u001b[0m \u001b[0mparam_value\u001b[0m\u001b[0;34m)\u001b[0m\u001b[0;34m\u001b[0m\u001b[0;34m\u001b[0m\u001b[0m\n\u001b[1;32m     12\u001b[0m         \u001b[0mobjective_values\u001b[0m\u001b[0;34m.\u001b[0m\u001b[0mappend\u001b[0m\u001b[0;34m(\u001b[0m\u001b[0mobjective_func\u001b[0m\u001b[0;34m(\u001b[0m\u001b[0my_pred_closed\u001b[0m\u001b[0;34m)\u001b[0m\u001b[0;34m)\u001b[0m\u001b[0;34m\u001b[0m\u001b[0;34m\u001b[0m\u001b[0m\n",
            "\u001b[0;32m<ipython-input-44-70e85289f9bf>\u001b[0m in \u001b[0;36mthreshold_predict\u001b[0;34m(X, model, threshold)\u001b[0m\n\u001b[1;32m      9\u001b[0m     \u001b[0;31m# print(X)\u001b[0m\u001b[0;34m\u001b[0m\u001b[0;34m\u001b[0m\u001b[0;34m\u001b[0m\u001b[0m\n\u001b[1;32m     10\u001b[0m     \u001b[0;31m# y_pred = model.call(X)\u001b[0m\u001b[0;34m\u001b[0m\u001b[0;34m\u001b[0m\u001b[0;34m\u001b[0m\u001b[0m\n\u001b[0;32m---> 11\u001b[0;31m     \u001b[0my_pred\u001b[0m \u001b[0;34m=\u001b[0m \u001b[0mmodel\u001b[0m\u001b[0;34m.\u001b[0m\u001b[0mpredict\u001b[0m\u001b[0;34m(\u001b[0m\u001b[0mX\u001b[0m\u001b[0;34m)\u001b[0m\u001b[0;34m\u001b[0m\u001b[0;34m\u001b[0m\u001b[0m\n\u001b[0m\u001b[1;32m     12\u001b[0m     \u001b[0;31m# print(y_pred)\u001b[0m\u001b[0;34m\u001b[0m\u001b[0;34m\u001b[0m\u001b[0;34m\u001b[0m\u001b[0m\n\u001b[1;32m     13\u001b[0m     \u001b[0mhighest_prob\u001b[0m \u001b[0;34m=\u001b[0m \u001b[0mtf\u001b[0m\u001b[0;34m.\u001b[0m\u001b[0mreduce_max\u001b[0m\u001b[0;34m(\u001b[0m\u001b[0my_pred\u001b[0m\u001b[0;34m,\u001b[0m \u001b[0maxis\u001b[0m\u001b[0;34m=\u001b[0m\u001b[0;36m1\u001b[0m\u001b[0;34m)\u001b[0m\u001b[0;34m\u001b[0m\u001b[0;34m\u001b[0m\u001b[0m\n",
            "\u001b[0;32m/usr/local/lib/python3.7/dist-packages/keras/utils/traceback_utils.py\u001b[0m in \u001b[0;36merror_handler\u001b[0;34m(*args, **kwargs)\u001b[0m\n\u001b[1;32m     65\u001b[0m     \u001b[0;32mexcept\u001b[0m \u001b[0mException\u001b[0m \u001b[0;32mas\u001b[0m \u001b[0me\u001b[0m\u001b[0;34m:\u001b[0m  \u001b[0;31m# pylint: disable=broad-except\u001b[0m\u001b[0;34m\u001b[0m\u001b[0;34m\u001b[0m\u001b[0m\n\u001b[1;32m     66\u001b[0m       \u001b[0mfiltered_tb\u001b[0m \u001b[0;34m=\u001b[0m \u001b[0m_process_traceback_frames\u001b[0m\u001b[0;34m(\u001b[0m\u001b[0me\u001b[0m\u001b[0;34m.\u001b[0m\u001b[0m__traceback__\u001b[0m\u001b[0;34m)\u001b[0m\u001b[0;34m\u001b[0m\u001b[0;34m\u001b[0m\u001b[0m\n\u001b[0;32m---> 67\u001b[0;31m       \u001b[0;32mraise\u001b[0m \u001b[0me\u001b[0m\u001b[0;34m.\u001b[0m\u001b[0mwith_traceback\u001b[0m\u001b[0;34m(\u001b[0m\u001b[0mfiltered_tb\u001b[0m\u001b[0;34m)\u001b[0m \u001b[0;32mfrom\u001b[0m \u001b[0;32mNone\u001b[0m\u001b[0;34m\u001b[0m\u001b[0;34m\u001b[0m\u001b[0m\n\u001b[0m\u001b[1;32m     68\u001b[0m     \u001b[0;32mfinally\u001b[0m\u001b[0;34m:\u001b[0m\u001b[0;34m\u001b[0m\u001b[0;34m\u001b[0m\u001b[0m\n\u001b[1;32m     69\u001b[0m       \u001b[0;32mdel\u001b[0m \u001b[0mfiltered_tb\u001b[0m\u001b[0;34m\u001b[0m\u001b[0;34m\u001b[0m\u001b[0m\n",
            "\u001b[0;32m/usr/local/lib/python3.7/dist-packages/keras/engine/training.py\u001b[0m in \u001b[0;36mtf__predict_function\u001b[0;34m(iterator)\u001b[0m\n\u001b[1;32m     13\u001b[0m                 \u001b[0;32mtry\u001b[0m\u001b[0;34m:\u001b[0m\u001b[0;34m\u001b[0m\u001b[0;34m\u001b[0m\u001b[0m\n\u001b[1;32m     14\u001b[0m                     \u001b[0mdo_return\u001b[0m \u001b[0;34m=\u001b[0m \u001b[0;32mTrue\u001b[0m\u001b[0;34m\u001b[0m\u001b[0;34m\u001b[0m\u001b[0m\n\u001b[0;32m---> 15\u001b[0;31m                     \u001b[0mretval_\u001b[0m \u001b[0;34m=\u001b[0m \u001b[0mag__\u001b[0m\u001b[0;34m.\u001b[0m\u001b[0mconverted_call\u001b[0m\u001b[0;34m(\u001b[0m\u001b[0mag__\u001b[0m\u001b[0;34m.\u001b[0m\u001b[0mld\u001b[0m\u001b[0;34m(\u001b[0m\u001b[0mstep_function\u001b[0m\u001b[0;34m)\u001b[0m\u001b[0;34m,\u001b[0m \u001b[0;34m(\u001b[0m\u001b[0mag__\u001b[0m\u001b[0;34m.\u001b[0m\u001b[0mld\u001b[0m\u001b[0;34m(\u001b[0m\u001b[0mself\u001b[0m\u001b[0;34m)\u001b[0m\u001b[0;34m,\u001b[0m \u001b[0mag__\u001b[0m\u001b[0;34m.\u001b[0m\u001b[0mld\u001b[0m\u001b[0;34m(\u001b[0m\u001b[0miterator\u001b[0m\u001b[0;34m)\u001b[0m\u001b[0;34m)\u001b[0m\u001b[0;34m,\u001b[0m \u001b[0;32mNone\u001b[0m\u001b[0;34m,\u001b[0m \u001b[0mfscope\u001b[0m\u001b[0;34m)\u001b[0m\u001b[0;34m\u001b[0m\u001b[0;34m\u001b[0m\u001b[0m\n\u001b[0m\u001b[1;32m     16\u001b[0m                 \u001b[0;32mexcept\u001b[0m\u001b[0;34m:\u001b[0m\u001b[0;34m\u001b[0m\u001b[0;34m\u001b[0m\u001b[0m\n\u001b[1;32m     17\u001b[0m                     \u001b[0mdo_return\u001b[0m \u001b[0;34m=\u001b[0m \u001b[0;32mFalse\u001b[0m\u001b[0;34m\u001b[0m\u001b[0;34m\u001b[0m\u001b[0m\n",
            "\u001b[0;32m/tmp/__autograph_generated_filecp1u16rv.py\u001b[0m in \u001b[0;36mtf__call\u001b[0;34m(self, inputs)\u001b[0m\n\u001b[1;32m      8\u001b[0m                 \u001b[0mdo_return\u001b[0m \u001b[0;34m=\u001b[0m \u001b[0;32mFalse\u001b[0m\u001b[0;34m\u001b[0m\u001b[0;34m\u001b[0m\u001b[0m\n\u001b[1;32m      9\u001b[0m                 \u001b[0mretval_\u001b[0m \u001b[0;34m=\u001b[0m \u001b[0mag__\u001b[0m\u001b[0;34m.\u001b[0m\u001b[0mUndefinedReturnValue\u001b[0m\u001b[0;34m(\u001b[0m\u001b[0;34m)\u001b[0m\u001b[0;34m\u001b[0m\u001b[0;34m\u001b[0m\u001b[0m\n\u001b[0;32m---> 10\u001b[0;31m                 \u001b[0mx_pre\u001b[0m \u001b[0;34m=\u001b[0m \u001b[0mag__\u001b[0m\u001b[0;34m.\u001b[0m\u001b[0mconverted_call\u001b[0m\u001b[0;34m(\u001b[0m\u001b[0mag__\u001b[0m\u001b[0;34m.\u001b[0m\u001b[0mld\u001b[0m\u001b[0;34m(\u001b[0m\u001b[0mself\u001b[0m\u001b[0;34m)\u001b[0m\u001b[0;34m.\u001b[0m\u001b[0membed_pre\u001b[0m\u001b[0;34m,\u001b[0m \u001b[0;34m(\u001b[0m\u001b[0mag__\u001b[0m\u001b[0;34m.\u001b[0m\u001b[0mld\u001b[0m\u001b[0;34m(\u001b[0m\u001b[0minputs\u001b[0m\u001b[0;34m)\u001b[0m\u001b[0;34m,\u001b[0m\u001b[0;34m)\u001b[0m\u001b[0;34m,\u001b[0m \u001b[0;32mNone\u001b[0m\u001b[0;34m,\u001b[0m \u001b[0mfscope\u001b[0m\u001b[0;34m)\u001b[0m\u001b[0;34m\u001b[0m\u001b[0;34m\u001b[0m\u001b[0m\n\u001b[0m\u001b[1;32m     11\u001b[0m                 \u001b[0mx_post\u001b[0m \u001b[0;34m=\u001b[0m \u001b[0mag__\u001b[0m\u001b[0;34m.\u001b[0m\u001b[0mconverted_call\u001b[0m\u001b[0;34m(\u001b[0m\u001b[0mag__\u001b[0m\u001b[0;34m.\u001b[0m\u001b[0mld\u001b[0m\u001b[0;34m(\u001b[0m\u001b[0mself\u001b[0m\u001b[0;34m)\u001b[0m\u001b[0;34m.\u001b[0m\u001b[0membed_post\u001b[0m\u001b[0;34m,\u001b[0m \u001b[0;34m(\u001b[0m\u001b[0mag__\u001b[0m\u001b[0;34m.\u001b[0m\u001b[0mld\u001b[0m\u001b[0;34m(\u001b[0m\u001b[0mx_pre\u001b[0m\u001b[0;34m)\u001b[0m\u001b[0;34m,\u001b[0m\u001b[0;34m)\u001b[0m\u001b[0;34m,\u001b[0m \u001b[0;32mNone\u001b[0m\u001b[0;34m,\u001b[0m \u001b[0mfscope\u001b[0m\u001b[0;34m)\u001b[0m\u001b[0;34m\u001b[0m\u001b[0;34m\u001b[0m\u001b[0m\n\u001b[1;32m     12\u001b[0m                 \u001b[0mlogits\u001b[0m \u001b[0;34m=\u001b[0m \u001b[0mag__\u001b[0m\u001b[0;34m.\u001b[0m\u001b[0mconverted_call\u001b[0m\u001b[0;34m(\u001b[0m\u001b[0mag__\u001b[0m\u001b[0;34m.\u001b[0m\u001b[0mld\u001b[0m\u001b[0;34m(\u001b[0m\u001b[0mself\u001b[0m\u001b[0;34m)\u001b[0m\u001b[0;34m.\u001b[0m\u001b[0mlogits_layer\u001b[0m\u001b[0;34m,\u001b[0m \u001b[0;34m(\u001b[0m\u001b[0mag__\u001b[0m\u001b[0;34m.\u001b[0m\u001b[0mld\u001b[0m\u001b[0;34m(\u001b[0m\u001b[0mx_post\u001b[0m\u001b[0;34m)\u001b[0m\u001b[0;34m,\u001b[0m\u001b[0;34m)\u001b[0m\u001b[0;34m,\u001b[0m \u001b[0;32mNone\u001b[0m\u001b[0;34m,\u001b[0m \u001b[0mfscope\u001b[0m\u001b[0;34m)\u001b[0m\u001b[0;34m\u001b[0m\u001b[0;34m\u001b[0m\u001b[0m\n",
            "\u001b[0;31mValueError\u001b[0m: in user code:\n\n    File \"/usr/local/lib/python3.7/dist-packages/keras/engine/training.py\", line 1845, in predict_function  *\n        return step_function(self, iterator)\n    File \"/usr/local/lib/python3.7/dist-packages/keras/engine/training.py\", line 1834, in step_function  **\n        outputs = model.distribute_strategy.run(run_step, args=(data,))\n    File \"/usr/local/lib/python3.7/dist-packages/keras/engine/training.py\", line 1823, in run_step  **\n        outputs = model.predict_step(data)\n    File \"/usr/local/lib/python3.7/dist-packages/keras/engine/training.py\", line 1791, in predict_step\n        return self(x, training=False)\n    File \"/usr/local/lib/python3.7/dist-packages/keras/utils/traceback_utils.py\", line 67, in error_handler\n        raise e.with_traceback(filtered_tb) from None\n    File \"/tmp/__autograph_generated_filecp1u16rv.py\", line 10, in tf__call\n        x_pre = ag__.converted_call(ag__.ld(self).embed_pre, (ag__.ld(inputs),), None, fscope)\n\n    ValueError: Exception encountered when calling layer \"standard_logistic_regression_model_17\" (type StandardLogisticRegressionModel).\n    \n    in user code:\n    \n        File \"<ipython-input-35-cde8ade278ae>\", line 12, in call  *\n            x_pre = self.embed_pre(inputs)\n        File \"/usr/local/lib/python3.7/dist-packages/keras/utils/traceback_utils.py\", line 67, in error_handler  **\n            raise e.with_traceback(filtered_tb) from None\n        File \"/usr/local/lib/python3.7/dist-packages/keras/engine/input_spec.py\", line 228, in assert_input_compatibility\n            raise ValueError(f'Input {input_index} of layer \"{layer_name}\" '\n    \n        ValueError: Input 0 of layer \"embed_pre\" is incompatible with the layer: expected min_ndim=2, found ndim=1. Full shape received: (None,)\n    \n    \n    Call arguments received by layer \"standard_logistic_regression_model_17\" (type StandardLogisticRegressionModel):\n      • inputs=tf.Tensor(shape=(None,), dtype=string)\n"
          ]
        }
      ],
      "source": [
        "threshold = tune_TSLR_threshold(model, X_val, y_val, open_set_class_labels)\n",
        "\n",
        "# Evaluate on test set\n",
        "\n",
        "# convert instances of class labels in the open set to -1\n",
        "y_test_open = modify_open_set_labels(y_test, open_set_class_labels)\n",
        "\n",
        "y_pred = threshold_predict(X_test, model, threshold)\n",
        "print('Results from test set using 95% threshold ({:.4f}):'.format(threshold))\n",
        "for metric in tuning_metrics:\n",
        "    metric_func = metrics[metric]\n",
        "    print('{}: {:.4f}'.format(metric, metric_func(y_test_open, y_pred)))"
      ]
    },
    {
      "cell_type": "code",
      "execution_count": 62,
      "metadata": {
        "id": "Ax3GxXjjbCkl"
      },
      "outputs": [],
      "source": [
        "\"\"\" Now that we have a baseline, we will implement the placeholders algorithm.\n",
        "\"\"\"\n",
        "\n",
        "class OpenSetPlaceholdersLRM(StandardLogisticRegressionModel):\n",
        "    def __init__(self, num_placeholders, *args, **kwargs):\n",
        "        super().__init__(*args, **kwargs)\n",
        "        self.num_placeholders = num_placeholders\n",
        "        self.dummy_logits_layer = tf.keras.layers.Dense(num_placeholders, activation=None, name='dummy_logits')\n",
        "        self.bias = 0 # used to calibrate dummy logit to have same magnitude as rest of logits\n",
        "\n",
        "    def _pre(self, inputs):\n",
        "        return self.embed_pre(inputs)\n",
        "    \n",
        "    def _rest(self, inputs):\n",
        "        x_post = self.embed_post(inputs)\n",
        "        closed_set_logits = self.logits_layer(x_post)\n",
        "        dummy_logits = self.dummy_logits_layer(x_post)\n",
        "        max_dummy_logit = tf.reduce_max(dummy_logits, axis=1)\n",
        "        all_logits = tf.concat([closed_set_logits, tf.expand_dims(max_dummy_logit, 1) + self.bias], axis=1)\n",
        "        return self.output_layer(all_logits)\n",
        "        \n",
        "    def call(self, inputs):\n",
        "        x_pre = self._pre(inputs)\n",
        "        return self._rest(x_pre)\n",
        "        \n",
        "    def predict(self, x):\n",
        "        \"\"\" Returns the predicted class label. If predicted class is dummy class, return -1\n",
        "        indicating prediction falls within the open set.\n",
        "        \"\"\"\n",
        "        y_pred = self.call(x)\n",
        "        y_pred_labels = tf.argmax(y_pred, axis=1)\n",
        "        return tf.where(y_pred_labels == self.num_classes, -1, y_pred_labels)    \n",
        "    \n",
        "def ce_loss_for_placeholders(y_true, y_pred, beta):\n",
        "    loss = ce_loss(y_true, y_pred)\n",
        "    # set each sample's predicted probability for the true class to zero\n",
        "    y_pred_without_true_prob = tf.where(y_true == 1, 0., y_pred)\n",
        "    # create a new y_true where the true label is the dummy class\n",
        "    rows, cols = y_true.shape\n",
        "    rows = rows or 1\n",
        "    y_true_dummy = tf.concat([tf.zeros([rows, cols - 1]), tf.ones([rows, 1])], axis=1)\n",
        "    loss += beta * ce_loss(y_true_dummy, y_pred_without_true_prob)\n",
        "    return loss\n",
        "\n",
        "def train_OSPLRM(X, y, num_classes, beta=.5, epochs=25, plot=True, **kwargs):\n",
        "    model = OpenSetPlaceholdersLRM(\n",
        "        num_classes=num_classes,\n",
        "        **kwargs\n",
        "    )\n",
        "    loss = lambda *x: ce_loss_for_placeholders(*x, beta)\n",
        "    model.compile(\n",
        "        optimizer='adam', \n",
        "        loss=loss, \n",
        "        metrics=[tfa.metrics.F1Score(name='f1', num_classes=num_classes+1, average='macro')]\n",
        "    )\n",
        "    # The \"+ 1\"s below add an additional column of zeros to the one-hot encodings for\n",
        "    # the dummy class\n",
        "    y_train_one_hot = tf.one_hot(tf.cast(y, tf.int64), depth=model.num_classes + 1)\n",
        "    checkpoint_filepath = './tmp/checkpoint'\n",
        "    model_checkpoint_callback = tf.keras.callbacks.ModelCheckpoint(\n",
        "        filepath=checkpoint_filepath,\n",
        "        save_weights_only=True,\n",
        "        monitor='val_f1',\n",
        "        mode='max',\n",
        "        save_best_only=True\n",
        "    )\n",
        "    history = model.fit(\n",
        "        X, y_train_one_hot, epochs=epochs, validation_split=.2, batch_size=32,\n",
        "        callbacks=[model_checkpoint_callback]\n",
        "    )\n",
        "    model.load_weights(checkpoint_filepath)\n",
        "    if plot:\n",
        "        history = history.history\n",
        "        plot_training_metric(history['loss'], history['val_loss'], 'Loss')\n",
        "        plot_training_metric(history['f1'], history['val_f1'], 'F1 Score')\n",
        "    return model"
      ]
    },
    {
      "cell_type": "code",
      "source": [
        "\n",
        "X_train, X_val, y_train, y_val = validation_split(X, y)\n",
        "X_train_closed, y_train_closed = remove_classes_from_dataset(X_train, y_train, open_set_class_labels)\n",
        "X_val_closed, y_val_closed = remove_classes_from_dataset(X_val, y_val, open_set_class_labels)\n",
        "\n",
        "\n",
        "# The \"+ 1\"s below add an additional column of zeros to the one-hot encodings for\n",
        "# the dummy class\n",
        "train_features = vectorizer.fit_transform(X_train_closed).toarray()\n",
        "dev_features = vectorizer.transform(X_val_closed).toarray()\n",
        "\n",
        "\n",
        "y_train_one_hot = tf.one_hot(y_train_closed, depth=model.num_classes + 1)\n",
        "y_val_one_hot = tf.one_hot(y_val_closed, depth=model.num_classes + 1)\n"
      ],
      "metadata": {
        "id": "CNkhoxst7uly"
      },
      "execution_count": null,
      "outputs": []
    },
    {
      "cell_type": "code",
      "execution_count": 68,
      "metadata": {
        "outputId": "cf51899c-aa0c-4bf2-b056-4852d7039488",
        "colab": {
          "base_uri": "https://localhost:8080/",
          "height": 1000
        },
        "id": "-G999QmMbCkl"
      },
      "outputs": [
        {
          "output_type": "stream",
          "name": "stdout",
          "text": [
            "Epoch 1/25\n",
            "552/552 [==============================] - 7s 10ms/step - loss: 5.7909 - f1: 0.0000e+00 - val_loss: 5.2226 - val_f1: 0.0000e+00\n",
            "Epoch 2/25\n",
            "552/552 [==============================] - 2s 4ms/step - loss: 4.7266 - f1: 0.0176 - val_loss: 4.3710 - val_f1: 0.0464\n",
            "Epoch 3/25\n",
            "552/552 [==============================] - 3s 5ms/step - loss: 4.1888 - f1: 0.0683 - val_loss: 4.0698 - val_f1: 0.0860\n",
            "Epoch 4/25\n",
            "552/552 [==============================] - 3s 5ms/step - loss: 3.9351 - f1: 0.1212 - val_loss: 3.8690 - val_f1: 0.1445\n",
            "Epoch 5/25\n",
            "552/552 [==============================] - 2s 4ms/step - loss: 3.7471 - f1: 0.1649 - val_loss: 3.7148 - val_f1: 0.1822\n",
            "Epoch 6/25\n",
            "552/552 [==============================] - 2s 4ms/step - loss: 3.6043 - f1: 0.2018 - val_loss: 3.6068 - val_f1: 0.2062\n",
            "Epoch 7/25\n",
            "552/552 [==============================] - 3s 5ms/step - loss: 3.4939 - f1: 0.2294 - val_loss: 3.5313 - val_f1: 0.2270\n",
            "Epoch 8/25\n",
            "552/552 [==============================] - 3s 5ms/step - loss: 3.4120 - f1: 0.2553 - val_loss: 3.4764 - val_f1: 0.2323\n",
            "Epoch 9/25\n",
            "552/552 [==============================] - 2s 4ms/step - loss: 3.3453 - f1: 0.2720 - val_loss: 3.4218 - val_f1: 0.2525\n",
            "Epoch 10/25\n",
            "552/552 [==============================] - 2s 4ms/step - loss: 3.2876 - f1: 0.2850 - val_loss: 3.3830 - val_f1: 0.2744\n",
            "Epoch 11/25\n",
            "552/552 [==============================] - 2s 4ms/step - loss: 3.2408 - f1: 0.2996 - val_loss: 3.3457 - val_f1: 0.2842\n",
            "Epoch 12/25\n",
            "552/552 [==============================] - 3s 5ms/step - loss: 3.1938 - f1: 0.3123 - val_loss: 3.3139 - val_f1: 0.2883\n",
            "Epoch 13/25\n",
            "552/552 [==============================] - 2s 4ms/step - loss: 3.1568 - f1: 0.3227 - val_loss: 3.2865 - val_f1: 0.3038\n",
            "Epoch 14/25\n",
            "552/552 [==============================] - 3s 5ms/step - loss: 3.1217 - f1: 0.3342 - val_loss: 3.2627 - val_f1: 0.3141\n",
            "Epoch 15/25\n",
            "552/552 [==============================] - 2s 4ms/step - loss: 3.0911 - f1: 0.3431 - val_loss: 3.2474 - val_f1: 0.3246\n",
            "Epoch 16/25\n",
            "552/552 [==============================] - 2s 4ms/step - loss: 3.0620 - f1: 0.3520 - val_loss: 3.2259 - val_f1: 0.3242\n",
            "Epoch 17/25\n",
            "552/552 [==============================] - 2s 4ms/step - loss: 3.0355 - f1: 0.3580 - val_loss: 3.2127 - val_f1: 0.3219\n",
            "Epoch 18/25\n",
            "552/552 [==============================] - 2s 4ms/step - loss: 3.0135 - f1: 0.3621 - val_loss: 3.1939 - val_f1: 0.3421\n",
            "Epoch 19/25\n",
            "552/552 [==============================] - 2s 4ms/step - loss: 2.9901 - f1: 0.3710 - val_loss: 3.1672 - val_f1: 0.3456\n",
            "Epoch 20/25\n",
            "552/552 [==============================] - 2s 4ms/step - loss: 2.9700 - f1: 0.3751 - val_loss: 3.1671 - val_f1: 0.3604\n",
            "Epoch 21/25\n",
            "552/552 [==============================] - 2s 4ms/step - loss: 2.9510 - f1: 0.3821 - val_loss: 3.1633 - val_f1: 0.3674\n",
            "Epoch 22/25\n",
            "552/552 [==============================] - 3s 5ms/step - loss: 2.9346 - f1: 0.3850 - val_loss: 3.1459 - val_f1: 0.3725\n",
            "Epoch 23/25\n",
            "552/552 [==============================] - 3s 5ms/step - loss: 2.9207 - f1: 0.3892 - val_loss: 3.1365 - val_f1: 0.3482\n",
            "Epoch 24/25\n",
            "552/552 [==============================] - 3s 5ms/step - loss: 2.9012 - f1: 0.3957 - val_loss: 3.1281 - val_f1: 0.3563\n",
            "Epoch 25/25\n",
            "552/552 [==============================] - 2s 4ms/step - loss: 2.8869 - f1: 0.3979 - val_loss: 3.1172 - val_f1: 0.3576\n"
          ]
        },
        {
          "output_type": "display_data",
          "data": {
            "text/plain": [
              "<Figure size 432x288 with 1 Axes>"
            ],
            "image/png": "[encoded data removed]"
          },
          "metadata": {
            "needs_background": "light"
          }
        },
        {
          "output_type": "display_data",
          "data": {
            "text/plain": [
              "<Figure size 432x288 with 1 Axes>"
            ],
            "image/png": "[encoded data removed]"
          },
          "metadata": {
            "needs_background": "light"
          }
        }
      ],
      "source": [
        "\n",
        "\n",
        "open_set_class_labels = [99] \n",
        "\n",
        "\n",
        "\n",
        "num_placeholders = 120\n",
        "pre_dim = post_dim = 200\n",
        "\n",
        "beta = .75\n",
        "model = OpenSetPlaceholdersLRM(\n",
        "        num_classes=NUM_CLASSES-1,\n",
        "        num_placeholders=20,\n",
        "        pre_dim=50,\n",
        "        post_dim=50\n",
        ")\n",
        "loss = lambda *x: ce_loss_for_placeholders(*x, beta)\n",
        "model.compile(\n",
        "        optimizer='adam', \n",
        "        loss=loss, \n",
        "        metrics=[tfa.metrics.F1Score(name='f1', num_classes=NUM_CLASSES-1+1, average='macro')]\n",
        ")\n",
        "\n",
        "\n",
        "\n",
        "es_callback = keras.callbacks.EarlyStopping(monitor='val_loss', patience=5)\n",
        "history=model.fit(train_features, y_train_one_hot, batch_size=batch_size,\n",
        "                  callbacks=[es_callback],\n",
        "          epochs=25, validation_data=(dev_features, y_val_one_hot))\n",
        "\n",
        "\n",
        "# y_train_one_hot = tf.one_hot(tf.cast(y_train_closed, tf.int64), depth=model.num_classes + 1)\n",
        "# history = model.fit(X_train_closed, y_train_one_hot, epochs=20, validation_split=.2, batch_size=32)\n",
        "\n",
        "history = history.history\n",
        "plot_training_metric(history['loss'], history['val_loss'], 'Loss')\n",
        "plot_training_metric(history['f1'], history['val_f1'], 'F1 Score')"
      ]
    },
    {
      "cell_type": "code",
      "execution_count": 69,
      "metadata": {
        "id": "337ea552"
      },
      "outputs": [],
      "source": [
        "# See how the bias value affects accuracy and find the bias\n",
        "# such that 95% of validation data is recognized as known\n",
        "\n",
        "def tune_OSPLRM_threshold(model, X_val, y_val, open_set_class_labels, plot=True):\n",
        "    \"\"\"Tunes a Open-Set-Placeholders-Logistic-Regression model's bias so\n",
        "    that 95% of a closed-set validation set's samples are predicted to be\n",
        "    from one of the known classes.\n",
        "    \"\"\"\n",
        "    def placeholders_predict(X, model, bias):\n",
        "        model.bias = bias\n",
        "        return model.predict(X)\n",
        "\n",
        "    target_known_fraction = .95\n",
        "    bias_values = np.linspace(-2, 2, 100)\n",
        "    # split validation set into an open validation set and a closed validation set\n",
        "    X_val_open, X_val_closed, y_val_open, y_val_closed = validation_split(X_val, y_val, val_size=.5)\n",
        "    # convert instances of class labels in the open set to -1\n",
        "    y_val_open = modify_open_set_labels(y_val_open, open_set_class_labels)\n",
        "    # remove open-set samples from the closed-set validation data\n",
        "    X_val_closed, y_val_closed = remove_classes_from_dataset(X_val_closed, y_val_closed, open_set_class_labels)\n",
        "    val_closed = {'X': X_val_closed, 'y': y_val_closed}\n",
        "    val_open = {'X': X_val_open, 'y': y_val_open}\n",
        "    param_name = 'Dummy Classifier Bias'\n",
        "    objective_name = 'Known Fraction'\n",
        "    bias = tune_model_param(\n",
        "        model, val_closed, val_open, bias_values, param_name, placeholders_predict,\n",
        "        known_fraction, target_known_fraction, objective_name, tuning_metrics, plot=plot\n",
        "    )\n",
        "    return bias"
      ]
    },
    {
      "cell_type": "code",
      "execution_count": 70,
      "metadata": {
        "id": "44a9e556",
        "outputId": "bf18405d-8b95-47df-db90-3d5e0cceb6f2",
        "colab": {
          "base_uri": "https://localhost:8080/",
          "height": 641
        }
      },
      "outputs": [
        {
          "output_type": "stream",
          "name": "stderr",
          "text": [
            "/usr/local/lib/python3.7/dist-packages/ipykernel_launcher.py:23: FutureWarning: Using a non-tuple sequence for multidimensional indexing is deprecated; use `arr[tuple(seq)]` instead of `arr[seq]`. In the future this will be interpreted as an array index, `arr[np.array(seq)]`, which will result either in an error or a different result.\n",
            "/usr/local/lib/python3.7/dist-packages/ipykernel_launcher.py:26: FutureWarning: Using a non-tuple sequence for multidimensional indexing is deprecated; use `arr[tuple(seq)]` instead of `arr[seq]`. In the future this will be interpreted as an array index, `arr[np.array(seq)]`, which will result either in an error or a different result.\n"
          ]
        },
        {
          "output_type": "error",
          "ename": "TypeError",
          "evalue": "ignored",
          "traceback": [
            "\u001b[0;31m---------------------------------------------------------------------------\u001b[0m",
            "\u001b[0;31mTypeError\u001b[0m                                 Traceback (most recent call last)",
            "\u001b[0;32m<ipython-input-70-f8dfbb80eddd>\u001b[0m in \u001b[0;36m<module>\u001b[0;34m\u001b[0m\n\u001b[0;32m----> 1\u001b[0;31m \u001b[0mbias\u001b[0m \u001b[0;34m=\u001b[0m \u001b[0mtune_OSPLRM_threshold\u001b[0m\u001b[0;34m(\u001b[0m\u001b[0mmodel\u001b[0m\u001b[0;34m,\u001b[0m \u001b[0mX_val\u001b[0m\u001b[0;34m,\u001b[0m \u001b[0my_val\u001b[0m\u001b[0;34m,\u001b[0m \u001b[0mopen_set_class_labels\u001b[0m\u001b[0;34m)\u001b[0m\u001b[0;34m\u001b[0m\u001b[0;34m\u001b[0m\u001b[0m\n\u001b[0m\u001b[1;32m      2\u001b[0m \u001b[0mmodel\u001b[0m\u001b[0;34m.\u001b[0m\u001b[0mbias\u001b[0m \u001b[0;34m=\u001b[0m \u001b[0mbias\u001b[0m\u001b[0;34m\u001b[0m\u001b[0;34m\u001b[0m\u001b[0m\n\u001b[1;32m      3\u001b[0m \u001b[0;34m\u001b[0m\u001b[0m\n\u001b[1;32m      4\u001b[0m \u001b[0;31m# Evaluate on test set\u001b[0m\u001b[0;34m\u001b[0m\u001b[0;34m\u001b[0m\u001b[0;34m\u001b[0m\u001b[0m\n\u001b[1;32m      5\u001b[0m \u001b[0;34m\u001b[0m\u001b[0m\n",
            "\u001b[0;32m<ipython-input-69-c7b21e323041>\u001b[0m in \u001b[0;36mtune_OSPLRM_threshold\u001b[0;34m(model, X_val, y_val, open_set_class_labels, plot)\u001b[0m\n\u001b[1;32m     25\u001b[0m     bias = tune_model_param(\n\u001b[1;32m     26\u001b[0m         \u001b[0mmodel\u001b[0m\u001b[0;34m,\u001b[0m \u001b[0mval_closed\u001b[0m\u001b[0;34m,\u001b[0m \u001b[0mval_open\u001b[0m\u001b[0;34m,\u001b[0m \u001b[0mbias_values\u001b[0m\u001b[0;34m,\u001b[0m \u001b[0mparam_name\u001b[0m\u001b[0;34m,\u001b[0m \u001b[0mplaceholders_predict\u001b[0m\u001b[0;34m,\u001b[0m\u001b[0;34m\u001b[0m\u001b[0;34m\u001b[0m\u001b[0m\n\u001b[0;32m---> 27\u001b[0;31m         \u001b[0mknown_fraction\u001b[0m\u001b[0;34m,\u001b[0m \u001b[0mtarget_known_fraction\u001b[0m\u001b[0;34m,\u001b[0m \u001b[0mobjective_name\u001b[0m\u001b[0;34m,\u001b[0m \u001b[0mtuning_metrics\u001b[0m\u001b[0;34m,\u001b[0m \u001b[0mplot\u001b[0m\u001b[0;34m=\u001b[0m\u001b[0mplot\u001b[0m\u001b[0;34m\u001b[0m\u001b[0;34m\u001b[0m\u001b[0m\n\u001b[0m\u001b[1;32m     28\u001b[0m     )\n\u001b[1;32m     29\u001b[0m     \u001b[0;32mreturn\u001b[0m \u001b[0mbias\u001b[0m\u001b[0;34m\u001b[0m\u001b[0;34m\u001b[0m\u001b[0m\n",
            "\u001b[0;32m<ipython-input-59-1351a2ea17ec>\u001b[0m in \u001b[0;36mtune_model_param\u001b[0;34m(model, val_closed, val_open, param_values, param_name, predict_func, objective_func, target_value, objective_name, metrics, plot)\u001b[0m\n\u001b[1;32m      8\u001b[0m     \u001b[0mmetric_values\u001b[0m \u001b[0;34m=\u001b[0m \u001b[0;34m{\u001b[0m\u001b[0mmetric\u001b[0m\u001b[0;34m:\u001b[0m \u001b[0;34m[\u001b[0m\u001b[0;34m]\u001b[0m \u001b[0;32mfor\u001b[0m \u001b[0mmetric\u001b[0m \u001b[0;32min\u001b[0m \u001b[0mmetrics\u001b[0m\u001b[0;34m}\u001b[0m\u001b[0;34m\u001b[0m\u001b[0;34m\u001b[0m\u001b[0m\n\u001b[1;32m      9\u001b[0m     \u001b[0;32mfor\u001b[0m \u001b[0mparam_value\u001b[0m \u001b[0;32min\u001b[0m \u001b[0mparam_values\u001b[0m\u001b[0;34m:\u001b[0m\u001b[0;34m\u001b[0m\u001b[0;34m\u001b[0m\u001b[0m\n\u001b[0;32m---> 10\u001b[0;31m         \u001b[0my_pred_closed\u001b[0m \u001b[0;34m=\u001b[0m \u001b[0mpredict_func\u001b[0m\u001b[0;34m(\u001b[0m\u001b[0mval_closed\u001b[0m\u001b[0;34m[\u001b[0m\u001b[0;34m'X'\u001b[0m\u001b[0;34m]\u001b[0m\u001b[0;34m,\u001b[0m \u001b[0mmodel\u001b[0m\u001b[0;34m,\u001b[0m \u001b[0mparam_value\u001b[0m\u001b[0;34m)\u001b[0m\u001b[0;34m\u001b[0m\u001b[0;34m\u001b[0m\u001b[0m\n\u001b[0m\u001b[1;32m     11\u001b[0m         \u001b[0my_pred_open\u001b[0m \u001b[0;34m=\u001b[0m \u001b[0mpredict_func\u001b[0m\u001b[0;34m(\u001b[0m\u001b[0mval_open\u001b[0m\u001b[0;34m[\u001b[0m\u001b[0;34m'X'\u001b[0m\u001b[0;34m]\u001b[0m\u001b[0;34m,\u001b[0m \u001b[0mmodel\u001b[0m\u001b[0;34m,\u001b[0m \u001b[0mparam_value\u001b[0m\u001b[0;34m)\u001b[0m\u001b[0;34m\u001b[0m\u001b[0;34m\u001b[0m\u001b[0m\n\u001b[1;32m     12\u001b[0m         \u001b[0mobjective_values\u001b[0m\u001b[0;34m.\u001b[0m\u001b[0mappend\u001b[0m\u001b[0;34m(\u001b[0m\u001b[0mobjective_func\u001b[0m\u001b[0;34m(\u001b[0m\u001b[0my_pred_closed\u001b[0m\u001b[0;34m)\u001b[0m\u001b[0;34m)\u001b[0m\u001b[0;34m\u001b[0m\u001b[0;34m\u001b[0m\u001b[0m\n",
            "\u001b[0;32m<ipython-input-69-c7b21e323041>\u001b[0m in \u001b[0;36mplaceholders_predict\u001b[0;34m(X, model, bias)\u001b[0m\n\u001b[1;32m      9\u001b[0m     \u001b[0;32mdef\u001b[0m \u001b[0mplaceholders_predict\u001b[0m\u001b[0;34m(\u001b[0m\u001b[0mX\u001b[0m\u001b[0;34m,\u001b[0m \u001b[0mmodel\u001b[0m\u001b[0;34m,\u001b[0m \u001b[0mbias\u001b[0m\u001b[0;34m)\u001b[0m\u001b[0;34m:\u001b[0m\u001b[0;34m\u001b[0m\u001b[0;34m\u001b[0m\u001b[0m\n\u001b[1;32m     10\u001b[0m         \u001b[0mmodel\u001b[0m\u001b[0;34m.\u001b[0m\u001b[0mbias\u001b[0m \u001b[0;34m=\u001b[0m \u001b[0mbias\u001b[0m\u001b[0;34m\u001b[0m\u001b[0;34m\u001b[0m\u001b[0m\n\u001b[0;32m---> 11\u001b[0;31m         \u001b[0;32mreturn\u001b[0m \u001b[0mmodel\u001b[0m\u001b[0;34m.\u001b[0m\u001b[0mpredict\u001b[0m\u001b[0;34m(\u001b[0m\u001b[0mX\u001b[0m\u001b[0;34m)\u001b[0m\u001b[0;34m\u001b[0m\u001b[0;34m\u001b[0m\u001b[0m\n\u001b[0m\u001b[1;32m     12\u001b[0m \u001b[0;34m\u001b[0m\u001b[0m\n\u001b[1;32m     13\u001b[0m     \u001b[0mtarget_known_fraction\u001b[0m \u001b[0;34m=\u001b[0m \u001b[0;36m.95\u001b[0m\u001b[0;34m\u001b[0m\u001b[0;34m\u001b[0m\u001b[0m\n",
            "\u001b[0;32m<ipython-input-62-2de9abeb0183>\u001b[0m in \u001b[0;36mpredict\u001b[0;34m(self, x)\u001b[0m\n\u001b[1;32m     28\u001b[0m         \u001b[0mindicating\u001b[0m \u001b[0mprediction\u001b[0m \u001b[0mfalls\u001b[0m \u001b[0mwithin\u001b[0m \u001b[0mthe\u001b[0m \u001b[0mopen\u001b[0m \u001b[0mset\u001b[0m\u001b[0;34m.\u001b[0m\u001b[0;34m\u001b[0m\u001b[0;34m\u001b[0m\u001b[0m\n\u001b[1;32m     29\u001b[0m         \"\"\"\n\u001b[0;32m---> 30\u001b[0;31m         \u001b[0my_pred\u001b[0m \u001b[0;34m=\u001b[0m \u001b[0mself\u001b[0m\u001b[0;34m.\u001b[0m\u001b[0mcall\u001b[0m\u001b[0;34m(\u001b[0m\u001b[0mx\u001b[0m\u001b[0;34m)\u001b[0m\u001b[0;34m\u001b[0m\u001b[0;34m\u001b[0m\u001b[0m\n\u001b[0m\u001b[1;32m     31\u001b[0m         \u001b[0my_pred_labels\u001b[0m \u001b[0;34m=\u001b[0m \u001b[0mtf\u001b[0m\u001b[0;34m.\u001b[0m\u001b[0margmax\u001b[0m\u001b[0;34m(\u001b[0m\u001b[0my_pred\u001b[0m\u001b[0;34m,\u001b[0m \u001b[0maxis\u001b[0m\u001b[0;34m=\u001b[0m\u001b[0;36m1\u001b[0m\u001b[0;34m)\u001b[0m\u001b[0;34m\u001b[0m\u001b[0;34m\u001b[0m\u001b[0m\n\u001b[1;32m     32\u001b[0m         \u001b[0;32mreturn\u001b[0m \u001b[0mtf\u001b[0m\u001b[0;34m.\u001b[0m\u001b[0mwhere\u001b[0m\u001b[0;34m(\u001b[0m\u001b[0my_pred_labels\u001b[0m \u001b[0;34m==\u001b[0m \u001b[0mself\u001b[0m\u001b[0;34m.\u001b[0m\u001b[0mnum_classes\u001b[0m\u001b[0;34m,\u001b[0m \u001b[0;34m-\u001b[0m\u001b[0;36m1\u001b[0m\u001b[0;34m,\u001b[0m \u001b[0my_pred_labels\u001b[0m\u001b[0;34m)\u001b[0m\u001b[0;34m\u001b[0m\u001b[0;34m\u001b[0m\u001b[0m\n",
            "\u001b[0;32m<ipython-input-62-2de9abeb0183>\u001b[0m in \u001b[0;36mcall\u001b[0;34m(self, inputs)\u001b[0m\n\u001b[1;32m     21\u001b[0m \u001b[0;34m\u001b[0m\u001b[0m\n\u001b[1;32m     22\u001b[0m     \u001b[0;32mdef\u001b[0m \u001b[0mcall\u001b[0m\u001b[0;34m(\u001b[0m\u001b[0mself\u001b[0m\u001b[0;34m,\u001b[0m \u001b[0minputs\u001b[0m\u001b[0;34m)\u001b[0m\u001b[0;34m:\u001b[0m\u001b[0;34m\u001b[0m\u001b[0;34m\u001b[0m\u001b[0m\n\u001b[0;32m---> 23\u001b[0;31m         \u001b[0mx_pre\u001b[0m \u001b[0;34m=\u001b[0m \u001b[0mself\u001b[0m\u001b[0;34m.\u001b[0m\u001b[0m_pre\u001b[0m\u001b[0;34m(\u001b[0m\u001b[0minputs\u001b[0m\u001b[0;34m)\u001b[0m\u001b[0;34m\u001b[0m\u001b[0;34m\u001b[0m\u001b[0m\n\u001b[0m\u001b[1;32m     24\u001b[0m         \u001b[0;32mreturn\u001b[0m \u001b[0mself\u001b[0m\u001b[0;34m.\u001b[0m\u001b[0m_rest\u001b[0m\u001b[0;34m(\u001b[0m\u001b[0mx_pre\u001b[0m\u001b[0;34m)\u001b[0m\u001b[0;34m\u001b[0m\u001b[0;34m\u001b[0m\u001b[0m\n\u001b[1;32m     25\u001b[0m \u001b[0;34m\u001b[0m\u001b[0m\n",
            "\u001b[0;32m<ipython-input-62-2de9abeb0183>\u001b[0m in \u001b[0;36m_pre\u001b[0;34m(self, inputs)\u001b[0m\n\u001b[1;32m     10\u001b[0m \u001b[0;34m\u001b[0m\u001b[0m\n\u001b[1;32m     11\u001b[0m     \u001b[0;32mdef\u001b[0m \u001b[0m_pre\u001b[0m\u001b[0;34m(\u001b[0m\u001b[0mself\u001b[0m\u001b[0;34m,\u001b[0m \u001b[0minputs\u001b[0m\u001b[0;34m)\u001b[0m\u001b[0;34m:\u001b[0m\u001b[0;34m\u001b[0m\u001b[0;34m\u001b[0m\u001b[0m\n\u001b[0;32m---> 12\u001b[0;31m         \u001b[0;32mreturn\u001b[0m \u001b[0mself\u001b[0m\u001b[0;34m.\u001b[0m\u001b[0membed_pre\u001b[0m\u001b[0;34m(\u001b[0m\u001b[0minputs\u001b[0m\u001b[0;34m)\u001b[0m\u001b[0;34m\u001b[0m\u001b[0;34m\u001b[0m\u001b[0m\n\u001b[0m\u001b[1;32m     13\u001b[0m \u001b[0;34m\u001b[0m\u001b[0m\n\u001b[1;32m     14\u001b[0m     \u001b[0;32mdef\u001b[0m \u001b[0m_rest\u001b[0m\u001b[0;34m(\u001b[0m\u001b[0mself\u001b[0m\u001b[0;34m,\u001b[0m \u001b[0minputs\u001b[0m\u001b[0;34m)\u001b[0m\u001b[0;34m:\u001b[0m\u001b[0;34m\u001b[0m\u001b[0;34m\u001b[0m\u001b[0m\n",
            "\u001b[0;32m/usr/local/lib/python3.7/dist-packages/keras/utils/traceback_utils.py\u001b[0m in \u001b[0;36merror_handler\u001b[0;34m(*args, **kwargs)\u001b[0m\n\u001b[1;32m     65\u001b[0m     \u001b[0;32mexcept\u001b[0m \u001b[0mException\u001b[0m \u001b[0;32mas\u001b[0m \u001b[0me\u001b[0m\u001b[0;34m:\u001b[0m  \u001b[0;31m# pylint: disable=broad-except\u001b[0m\u001b[0;34m\u001b[0m\u001b[0;34m\u001b[0m\u001b[0m\n\u001b[1;32m     66\u001b[0m       \u001b[0mfiltered_tb\u001b[0m \u001b[0;34m=\u001b[0m \u001b[0m_process_traceback_frames\u001b[0m\u001b[0;34m(\u001b[0m\u001b[0me\u001b[0m\u001b[0;34m.\u001b[0m\u001b[0m__traceback__\u001b[0m\u001b[0;34m)\u001b[0m\u001b[0;34m\u001b[0m\u001b[0;34m\u001b[0m\u001b[0m\n\u001b[0;32m---> 67\u001b[0;31m       \u001b[0;32mraise\u001b[0m \u001b[0me\u001b[0m\u001b[0;34m.\u001b[0m\u001b[0mwith_traceback\u001b[0m\u001b[0;34m(\u001b[0m\u001b[0mfiltered_tb\u001b[0m\u001b[0;34m)\u001b[0m \u001b[0;32mfrom\u001b[0m \u001b[0;32mNone\u001b[0m\u001b[0;34m\u001b[0m\u001b[0;34m\u001b[0m\u001b[0m\n\u001b[0m\u001b[1;32m     68\u001b[0m     \u001b[0;32mfinally\u001b[0m\u001b[0;34m:\u001b[0m\u001b[0;34m\u001b[0m\u001b[0;34m\u001b[0m\u001b[0m\n\u001b[1;32m     69\u001b[0m       \u001b[0;32mdel\u001b[0m \u001b[0mfiltered_tb\u001b[0m\u001b[0;34m\u001b[0m\u001b[0;34m\u001b[0m\u001b[0m\n",
            "\u001b[0;32m/usr/local/lib/python3.7/dist-packages/keras/engine/input_spec.py\u001b[0m in \u001b[0;36massert_input_compatibility\u001b[0;34m(input_spec, inputs, layer_name)\u001b[0m\n\u001b[1;32m    195\u001b[0m     \u001b[0;31m# have a `shape` attribute.\u001b[0m\u001b[0;34m\u001b[0m\u001b[0;34m\u001b[0m\u001b[0;34m\u001b[0m\u001b[0m\n\u001b[1;32m    196\u001b[0m     \u001b[0;32mif\u001b[0m \u001b[0;32mnot\u001b[0m \u001b[0mhasattr\u001b[0m\u001b[0;34m(\u001b[0m\u001b[0mx\u001b[0m\u001b[0;34m,\u001b[0m \u001b[0;34m'shape'\u001b[0m\u001b[0;34m)\u001b[0m\u001b[0;34m:\u001b[0m\u001b[0;34m\u001b[0m\u001b[0;34m\u001b[0m\u001b[0m\n\u001b[0;32m--> 197\u001b[0;31m       \u001b[0;32mraise\u001b[0m \u001b[0mTypeError\u001b[0m\u001b[0;34m(\u001b[0m\u001b[0;34mf'Inputs to a layer should be tensors. Got: {x}'\u001b[0m\u001b[0;34m)\u001b[0m\u001b[0;34m\u001b[0m\u001b[0;34m\u001b[0m\u001b[0m\n\u001b[0m\u001b[1;32m    198\u001b[0m \u001b[0;34m\u001b[0m\u001b[0m\n\u001b[1;32m    199\u001b[0m   \u001b[0;32mif\u001b[0m \u001b[0mlen\u001b[0m\u001b[0;34m(\u001b[0m\u001b[0minputs\u001b[0m\u001b[0;34m)\u001b[0m \u001b[0;34m!=\u001b[0m \u001b[0mlen\u001b[0m\u001b[0;34m(\u001b[0m\u001b[0minput_spec\u001b[0m\u001b[0;34m)\u001b[0m\u001b[0;34m:\u001b[0m\u001b[0;34m\u001b[0m\u001b[0;34m\u001b[0m\u001b[0m\n",
            "\u001b[0;31mTypeError\u001b[0m: Inputs to a layer should be tensors. Got: This is an extremely high quality, easy to use Carabiner that can be used for an astonishing number of purposes. I have a couple of these, but my primary use - and for this I use it daily for at least an hour each day - is to connect my belt to the handle of my dog's leash. I then take him hiking for an hour each day in the Chattahoochee National Recreational Area, the Island Ford district. If you encounter a beautiful German being walked hands'-free by a scruffing older guy, that is me and Lion. I love that I can have both hands free so that I can hold and make entries in my notebook. My dog is exceptionally well-behaved, so I can leave him to his own devices while we walk, though if for whatever reason  I need to grab the leash again, I can. I've never had a single problem with this carabiner and honestly can't imagine my life without one. I leave it on the handle of the leash until we are ready to go for our daily walk, and then just pop it onto my belt and off we go. I fulfill the park requirements of having my dog on a leash, while leaving my hands free to do as I wish. If you have any need for a carabiner, I can't think of a better one."
          ]
        }
      ],
      "source": [
        "bias = tune_OSPLRM_threshold(model, X_val, y_val, open_set_class_labels)\n",
        "model.bias = bias\n",
        "\n",
        "# Evaluate on test set\n",
        "\n",
        "# convert instances of class labels in the open set to -1\n",
        "y_test_open = modify_open_set_labels(y_test, open_set_class_labels)\n",
        "\n",
        "y_pred = model.predict(X_test)\n",
        "print('Results from test set using 95% bias ({:.4f}):'.format(bias))\n",
        "for metric in tuning_metrics:\n",
        "    metric_func = metrics[metric]\n",
        "    print('{}: {:.4f}'.format(metric, metric_func(y_test_open, y_pred)))"
      ]
    }
  ]
}
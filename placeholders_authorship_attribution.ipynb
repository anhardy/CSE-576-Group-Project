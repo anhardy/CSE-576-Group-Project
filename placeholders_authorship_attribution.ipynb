{
  "cells": [
    {
      "cell_type": "code",
      "source": [
        "from google.colab import drive\n",
        "drive.mount('/content/drive')"
      ],
      "metadata": {
        "colab": {
          "base_uri": "https://localhost:8080/"
        },
        "id": "1G-V7heiXQDE",
        "outputId": "a045e669-24f8-4895-f3b2-78d96bb6184f"
      },
      "id": "1G-V7heiXQDE",
      "execution_count": 1,
      "outputs": [
        {
          "output_type": "stream",
          "name": "stdout",
          "text": [
            "Mounted at /content/drive\n"
          ]
        }
      ]
    },
    {
      "cell_type": "code",
      "execution_count": 2,
      "id": "c5bbdd28",
      "metadata": {
        "colab": {
          "base_uri": "https://localhost:8080/",
          "height": 161
        },
        "id": "c5bbdd28",
        "outputId": "15f65bca-6025-4167-f557-0f63454dbdae"
      },
      "outputs": [
        {
          "output_type": "execute_result",
          "data": {
            "text/plain": [
              "'\\nPurpose: Implement Placeholders algorithm from \"Learning Placeholders for Open-Set Recognition\"\\n    and compare its performance to simple confidence thresholding on a logistic regression classifier.\\n\\nFollowing https://builtin.com/data-science/guide-logistic-regression-tensorflow-20\\n\\n\\nAsrita, please conduct some form of hyper parameter tuning by evaluating the effect of the following parmeters\\non the final all-class test F1 score after bias calibration is performed.\\n    - pre_dim (dimensionality of first hidden layer)\\n        - try [10, 25, 50, 100, 300]\\n    - post_dim (dimensionality of second hidden layer)\\n        - try [10, 25, 50, 100, 300]\\n    - C (number of dummy classifiers)\\n        - try [1, 5, 10, 25, 50 , 100, 250]\\n    - alpha (parameter to the beta distribution which determines how manifold mixup in conducted)\\n        - try values [.5,1,2,5]\\n    - beta (l1 loss coefficient determining impact of masked probability)\\n        - try values [.1, .25, .5, .75, .9, 1]\\n    - gamma (weighting of l2 loss, aka how much do we care about data placeholders)\\n        - try values [.1, .25, .5, .75, .9, 1]\\n'"
            ],
            "application/vnd.google.colaboratory.intrinsic+json": {
              "type": "string"
            }
          },
          "metadata": {},
          "execution_count": 2
        }
      ],
      "source": [
        "\"\"\"\n",
        "Purpose: Implement Placeholders algorithm from \"Learning Placeholders for Open-Set Recognition\"\n",
        "    and compare its performance to simple confidence thresholding on a logistic regression classifier.\n",
        "\n",
        "Following https://builtin.com/data-science/guide-logistic-regression-tensorflow-20\n",
        "\n",
        "\n",
        "Asrita, please conduct some form of hyper parameter tuning by evaluating the effect of the following parmeters\n",
        "on the final all-class test F1 score after bias calibration is performed.\n",
        "    - pre_dim (dimensionality of first hidden layer)\n",
        "        - try [10, 25, 50, 100, 300]\n",
        "    - post_dim (dimensionality of second hidden layer)\n",
        "        - try [10, 25, 50, 100, 300]\n",
        "    - C (number of dummy classifiers)\n",
        "        - try [1, 5, 10, 25, 50 , 100, 250]\n",
        "    - alpha (parameter to the beta distribution which determines how manifold mixup in conducted)\n",
        "        - try values [.5,1,2,5]\n",
        "    - beta (l1 loss coefficient determining impact of masked probability)\n",
        "        - try values [.1, .25, .5, .75, .9, 1]\n",
        "    - gamma (weighting of l2 loss, aka how much do we care about data placeholders)\n",
        "        - try values [.1, .25, .5, .75, .9, 1]\n",
        "\"\"\""
      ]
    },
    {
      "cell_type": "code",
      "source": [
        "!pip install tensorflow-addons"
      ],
      "metadata": {
        "colab": {
          "base_uri": "https://localhost:8080/"
        },
        "id": "4pext4EUYqpK",
        "outputId": "19ad2103-c3b8-4289-9d64-ccd75790f25f"
      },
      "id": "4pext4EUYqpK",
      "execution_count": 3,
      "outputs": [
        {
          "output_type": "stream",
          "name": "stdout",
          "text": [
            "Looking in indexes: https://pypi.org/simple, https://us-python.pkg.dev/colab-wheels/public/simple/\n",
            "Collecting tensorflow-addons\n",
            "  Downloading tensorflow_addons-0.18.0-cp37-cp37m-manylinux_2_17_x86_64.manylinux2014_x86_64.whl (1.1 MB)\n",
            "\u001b[K     |████████████████████████████████| 1.1 MB 26.6 MB/s \n",
            "\u001b[?25hRequirement already satisfied: typeguard>=2.7 in /usr/local/lib/python3.7/dist-packages (from tensorflow-addons) (2.7.1)\n",
            "Requirement already satisfied: packaging in /usr/local/lib/python3.7/dist-packages (from tensorflow-addons) (21.3)\n",
            "Requirement already satisfied: pyparsing!=3.0.5,>=2.0.2 in /usr/local/lib/python3.7/dist-packages (from packaging->tensorflow-addons) (3.0.9)\n",
            "Installing collected packages: tensorflow-addons\n",
            "Successfully installed tensorflow-addons-0.18.0\n"
          ]
        }
      ]
    },
    {
      "cell_type": "code",
      "execution_count": 4,
      "id": "1065999f",
      "metadata": {
        "id": "1065999f"
      },
      "outputs": [],
      "source": [
        "import numpy as np\n",
        "import matplotlib.pyplot as plt\n",
        "from sklearn.model_selection import train_test_split\n",
        "from sklearn.metrics import f1_score\n",
        "import tensorflow as tf\n",
        "import tensorflow_addons as tfa\n",
        "import tensorflow_probability as tfp\n",
        "from tqdm import tqdm"
      ]
    },
    {
      "cell_type": "code",
      "execution_count": 32,
      "id": "aeec368c",
      "metadata": {
        "id": "aeec368c"
      },
      "outputs": [],
      "source": [
        "NUM_CLASSES = 100\n",
        "NUM_FEATURES = 768\n",
        "OPEN_SET_LABELS = list(range(100, 200))\n",
        "\n",
        "def data_split(X, y, val_size=.2):\n",
        "    \"\"\"Input are expected to be tensors.\n",
        "    \"\"\"\n",
        "    tensor = lambda data: tf.convert_to_tensor(data, dtype=tf.float32)\n",
        "    X1, X2, y1, y2 = map(tensor, train_test_split(X.numpy(), y.numpy(), test_size=val_size, random_state=42))\n",
        "    return X1, X2, y1, y2\n",
        "\n",
        "def load_dataset():\n",
        "    X_train = tf.convert_to_tensor(\n",
        "        np.load('/content/drive/MyDrive/CSE-576-Group-Project/embeddings/train/train_embeddings.npy'), \n",
        "        #np.load('/Users/jmmar/github/CSE-576-Group-Project/data/embeddings_model_0.npy'),\n",
        "        dtype=tf.float32\n",
        "    )\n",
        "    X_test = tf.convert_to_tensor(\n",
        "        np.load('/content/drive/MyDrive/CSE-576-Group-Project/embeddings/test/test_embeddings.npy'), \n",
        "        dtype=tf.float32\n",
        "    )\n",
        "    y_train = tf.convert_to_tensor(\n",
        "        np.load('/content/drive/MyDrive/CSE-576-Group-Project/embeddings/train/labels.npy'), \n",
        "        #np.load('/Users/jmmar/github/CSE-576-Group-Project/data/labels.npy'),\n",
        "        dtype=tf.float32\n",
        "    )\n",
        "    y_test = tf.convert_to_tensor(\n",
        "        np.load('/content/drive/MyDrive/CSE-576-Group-Project/embeddings/test/labels.npy'), \n",
        "        dtype=tf.float32\n",
        "    )\n",
        "    return X_train, X_test, y_train, y_test\n",
        "\n",
        "def remove_classes_from_dataset(X, y, class_labels):\n",
        "    \"\"\"Removes samples from both X and y that correspond to classes given in class_labels\n",
        "    class_labels: list of class_labels e.g. [3,4,9]\n",
        "    y: tensor containing class labels (not yet one-hot encoded)\n",
        "    \"\"\"\n",
        "    to_remove_mask = tf.reduce_all([y != label for label in class_labels], axis=0)\n",
        "    y = tf.boolean_mask(y, to_remove_mask)\n",
        "    X = tf.boolean_mask(X, to_remove_mask)\n",
        "    return X, y"
      ]
    },
    {
      "cell_type": "code",
      "execution_count": 33,
      "id": "dd7757f4",
      "metadata": {
        "id": "dd7757f4"
      },
      "outputs": [],
      "source": [
        "X, X_test, y, y_test = load_dataset()\n",
        "X, X_val, y, y_val = data_split(X, y, .2) # split off 20% of train data as a validation set\n",
        "\n",
        "X_val_closed, y_val_closed = remove_classes_from_dataset(X_val, y_val, OPEN_SET_LABELS)\n",
        "y_val_closed_one_hot = tf.one_hot(tf.cast(y_val_closed, tf.int64), depth=NUM_CLASSES)\n",
        "y_val_closed_one_hot_extra = tf.one_hot(tf.cast(y_val_closed, tf.int64), depth=NUM_CLASSES + 1)"
      ]
    },
    {
      "cell_type": "code",
      "execution_count": 34,
      "id": "b7f94871",
      "metadata": {
        "colab": {
          "base_uri": "https://localhost:8080/"
        },
        "id": "b7f94871",
        "outputId": "3e505e16-b2a2-46e3-e9d5-5b6f96be0f05"
      },
      "outputs": [
        {
          "output_type": "stream",
          "name": "stdout",
          "text": [
            "X train:  (39999, 768)\n",
            "y train:  (39999,)\n",
            "X val:  (10000, 768)\n",
            "y val:  (10000,)\n",
            "X test:  (20000, 768)\n",
            "y test:  (20000,)\n",
            "X val closed:  (10000, 768)\n",
            "y val closed one-hot:  (10000, 100)\n"
          ]
        }
      ],
      "source": [
        "print('X train: ', X.shape)\n",
        "print('y train: ', y.shape)\n",
        "print('X val: ', X_val.shape)\n",
        "print('y val: ', y_val.shape)\n",
        "print('X test: ', X_test.shape)\n",
        "print('y test: ', y_test.shape)\n",
        "print('X val closed: ', X_val_closed.shape)\n",
        "print('y val closed one-hot: ', y_val_closed_one_hot.shape)"
      ]
    },
    {
      "cell_type": "code",
      "execution_count": 8,
      "id": "9f537d48",
      "metadata": {
        "id": "9f537d48"
      },
      "outputs": [],
      "source": [
        "def plot_training_metric(train_values, val_values, metric_name):\n",
        "    iterations = list(range(len(train_values)))\n",
        "    plt.plot(iterations, train_values, label='Train')\n",
        "    plt.plot(iterations, val_values, label='Validation')\n",
        "    plt.xlabel('Iterations')\n",
        "    plt.ylabel(metric_name)\n",
        "    plt.legend()\n",
        "    plt.title('{} While Training'.format(metric_name))\n",
        "    plt.show()"
      ]
    },
    {
      "cell_type": "code",
      "execution_count": 9,
      "id": "cf382329",
      "metadata": {
        "id": "cf382329"
      },
      "outputs": [],
      "source": [
        "class StandardLogisticRegressionModel(tf.keras.Model):\n",
        "    def __init__(self, num_classes, pre_dim=50, post_dim=50, *args, **kwargs):\n",
        "        super().__init__(*args, **kwargs)\n",
        "        lrelu = lambda x: tf.keras.activations.relu(x, alpha=0.1)\n",
        "        self.num_classes = num_classes\n",
        "        self.embed_pre = tf.keras.layers.Dense(pre_dim, activation=lrelu, name='embed_pre')\n",
        "        self.embed_post = tf.keras.layers.Dense(post_dim, activation=lrelu, name='embed_post')\n",
        "        self.logits_layer = tf.keras.layers.Dense(num_classes, activation=None, name='ligits')\n",
        "        self.output_layer = tf.keras.layers.Softmax(name='output')\n",
        "        \n",
        "    def call(self, inputs):\n",
        "        x_pre = self.embed_pre(inputs)\n",
        "        x_post = self.embed_post(x_pre)\n",
        "        logits = self.logits_layer(x_post)\n",
        "        return self.output_layer(logits)\n",
        "\n",
        "def ce_loss(y_true, y_pred):\n",
        "    \"\"\" Cross Entropy Loss.\n",
        "    y_true: one-hot encoded class labels\n",
        "    y_pred: class probabilities\n",
        "    \"\"\"\n",
        "    y_pred = tf.clip_by_value(y_pred, 1e-9, 1.)\n",
        "    return tf.reduce_mean(-tf.reduce_sum(y_true * tf.math.log(y_pred), axis=1))\n",
        "\n",
        "def accuracy(y_true, y_pred):\n",
        "    \"\"\"y_true is the true class labels (not one-hot encoded) and y_pred are the predicted\n",
        "    class labels (not class probabilities).\n",
        "    \"\"\"\n",
        "    correct_preds = tf.equal(tf.cast(y_true, tf.int64), y_pred)\n",
        "    return tf.reduce_mean(tf.cast(correct_preds, tf.float32))\n",
        "\n",
        "def train_SLRM(X, y, num_classes, epochs=25, plot=True, **kwargs):\n",
        "    model = StandardLogisticRegressionModel( \n",
        "        num_classes=num_classes,\n",
        "        **kwargs\n",
        "    )\n",
        "    model.compile(\n",
        "        optimizer='adam', \n",
        "        loss=ce_loss, \n",
        "        metrics=[tfa.metrics.F1Score(name='f1', num_classes=num_classes, average='macro')]\n",
        "    )\n",
        "    y_train_one_hot = tf.one_hot(tf.cast(y, tf.int64), depth=model.num_classes)\n",
        "    checkpoint_filepath = './tmp/checkpoint'\n",
        "    model_checkpoint_callback = tf.keras.callbacks.ModelCheckpoint(\n",
        "        filepath=checkpoint_filepath,\n",
        "        save_weights_only=True,\n",
        "        monitor='val_f1',\n",
        "        mode='max',\n",
        "        save_best_only=True\n",
        "    )\n",
        "    history = model.fit(\n",
        "        X, y_train_one_hot, epochs=epochs, validation_data=(X_val_closed, y_val_closed_one_hot),\n",
        "        callbacks=[model_checkpoint_callback]\n",
        "    )\n",
        "    model.load_weights(checkpoint_filepath)\n",
        "    if plot:\n",
        "        history = history.history\n",
        "        plot_training_metric(history['loss'], history['val_loss'], 'Loss')\n",
        "        plot_training_metric(history['f1'], history['val_f1'], 'F1 Score')\n",
        "    return model"
      ]
    },
    {
      "cell_type": "code",
      "execution_count": null,
      "id": "c4d6bf03",
      "metadata": {
        "colab": {
          "base_uri": "https://localhost:8080/",
          "height": 1000
        },
        "id": "c4d6bf03",
        "outputId": "e18f04b4-701a-4c42-e54d-c6372dabd67c"
      },
      "outputs": [
        {
          "output_type": "stream",
          "name": "stdout",
          "text": [
            "Epoch 1/15\n",
            "1563/1563 [==============================] - 8s 4ms/step - loss: 0.2253 - f1: 0.9649 - val_loss: 0.7171 - val_f1: 0.8662\n",
            "Epoch 2/15\n",
            "1563/1563 [==============================] - 8s 5ms/step - loss: 0.0542 - f1: 0.9889 - val_loss: 0.7405 - val_f1: 0.8657\n",
            "Epoch 3/15\n",
            "1563/1563 [==============================] - 9s 5ms/step - loss: 0.0377 - f1: 0.9915 - val_loss: 0.7503 - val_f1: 0.8709\n",
            "Epoch 4/15\n",
            "1563/1563 [==============================] - 5s 3ms/step - loss: 0.0280 - f1: 0.9930 - val_loss: 0.7956 - val_f1: 0.8665\n",
            "Epoch 5/15\n",
            "1563/1563 [==============================] - 5s 3ms/step - loss: 0.0211 - f1: 0.9946 - val_loss: 0.8696 - val_f1: 0.8687\n",
            "Epoch 6/15\n",
            "1563/1563 [==============================] - 5s 3ms/step - loss: 0.0156 - f1: 0.9957 - val_loss: 0.9838 - val_f1: 0.8701\n",
            "Epoch 7/15\n",
            "1563/1563 [==============================] - 5s 3ms/step - loss: 0.0139 - f1: 0.9966 - val_loss: 1.0351 - val_f1: 0.8671\n",
            "Epoch 8/15\n",
            "1563/1563 [==============================] - 5s 3ms/step - loss: 0.0108 - f1: 0.9969 - val_loss: 1.0705 - val_f1: 0.8701\n",
            "Epoch 9/15\n",
            "1563/1563 [==============================] - 5s 3ms/step - loss: 0.0094 - f1: 0.9973 - val_loss: 1.1177 - val_f1: 0.8736\n",
            "Epoch 10/15\n",
            "1563/1563 [==============================] - 5s 3ms/step - loss: 0.0082 - f1: 0.9978 - val_loss: 1.1430 - val_f1: 0.8721\n",
            "Epoch 11/15\n",
            "1563/1563 [==============================] - 5s 3ms/step - loss: 0.0064 - f1: 0.9980 - val_loss: 1.2575 - val_f1: 0.8641\n",
            "Epoch 12/15\n",
            "1563/1563 [==============================] - 5s 3ms/step - loss: 0.0080 - f1: 0.9977 - val_loss: 1.3203 - val_f1: 0.8586\n",
            "Epoch 13/15\n",
            "1563/1563 [==============================] - 5s 3ms/step - loss: 0.0068 - f1: 0.9981 - val_loss: 1.3396 - val_f1: 0.8649\n",
            "Epoch 14/15\n",
            "1563/1563 [==============================] - 5s 3ms/step - loss: 0.0067 - f1: 0.9982 - val_loss: 1.3043 - val_f1: 0.8708\n",
            "Epoch 15/15\n",
            "1563/1563 [==============================] - 5s 3ms/step - loss: 0.0045 - f1: 0.9988 - val_loss: 1.3706 - val_f1: 0.8706\n"
          ]
        },
        {
          "output_type": "display_data",
          "data": {
            "text/plain": [
              "<Figure size 432x288 with 1 Axes>"
            ],
            "image/png": "[encoded data removed]"
          },
          "metadata": {
            "needs_background": "light"
          }
        },
        {
          "output_type": "display_data",
          "data": {
            "text/plain": [
              "<Figure size 432x288 with 1 Axes>"
            ],
            "image/png": "[encoded data removed]"
          },
          "metadata": {
            "needs_background": "light"
          }
        }
      ],
      "source": [
        "model = train_SLRM(X, y, num_classes=NUM_CLASSES, epochs=15, plot=True, pre_dim=50, post_dim=50)"
      ]
    },
    {
      "cell_type": "code",
      "execution_count": 10,
      "id": "dc842420",
      "metadata": {
        "id": "dc842420"
      },
      "outputs": [],
      "source": [
        "\"\"\" \n",
        "Now we attempt open-set classicfication by training a logistic regression model on k \n",
        "classes (digits 0-8 for this dataset) and test on k+1. If all predicted class probabilities\n",
        "are below a threshold, predict the open set.\n",
        "\"\"\"\n",
        "    \n",
        "def threshold_predict(X, model, threshold):\n",
        "    y_pred = model.call(X)\n",
        "    highest_prob = tf.reduce_max(y_pred, axis=1)\n",
        "    return tf.where(highest_prob < threshold, -1, tf.argmax(y_pred, axis=1))\n",
        "\n",
        "def modify_open_set_labels(y, open_set_class_labels):\n",
        "    \"\"\"Replaces class labels from the open set in y with -1\n",
        "    \"\"\"\n",
        "    open_set_idx = tf.reduce_any([y == label for label in open_set_class_labels], axis=0)\n",
        "    return tf.where(open_set_idx, -1, y)\n",
        "\n",
        "def open_set_accuracy(y_true, y_pred):\n",
        "    \"\"\" fraction of samples in the open set that are classified correctly.\n",
        "    \"\"\"\n",
        "    y_true = tf.cast(y_true, tf.int64)\n",
        "    open_set_idx = y_true == -1\n",
        "    return accuracy(y_true[open_set_idx], y_pred[open_set_idx])\n",
        "\n",
        "def open_set_f1_score(y_true, y_pred):\n",
        "    y_true = tf.cast(y_true, tf.int64)\n",
        "    y_true = tf.where(y_true == -1, 1, 0)\n",
        "    y_pred = tf.where(y_pred == -1, 1, 0)\n",
        "    return f1_score(y_true, y_pred)\n",
        "    \n",
        "def known_fraction(y_pred):\n",
        "    \"\"\"Fraction of predicted class labels != -1\"\"\"\n",
        "    return tf.reduce_sum(tf.cast(y_pred != -1, tf.int64)) / y_pred.shape"
      ]
    },
    {
      "cell_type": "code",
      "execution_count": 11,
      "id": "85372826",
      "metadata": {
        "id": "85372826"
      },
      "outputs": [],
      "source": [
        "def tune_model_param(model, val_closed, val_open, param_values, param_name, predict_func,\n",
        "                     objective_func, target_value, objective_name, metrics, plot=True):\n",
        "    # convert instances of class labels in the open set to -1\n",
        "    y_val_open = modify_open_set_labels(y_val, OPEN_SET_LABELS)\n",
        "    best_objective_error = float('inf')\n",
        "    best_param_value = 0\n",
        "    objective_values = []\n",
        "    metric_values = {metric: [] for metric in metrics}\n",
        "    for param_value in param_values:\n",
        "        y_pred_closed = predict_func(val_closed['X'], model, param_value)\n",
        "        y_pred_open = predict_func(val_open['X'], model, param_value)\n",
        "        objective_values.append(objective_func(y_pred_closed))\n",
        "        objective_error = float(abs(objective_values[-1] - target_value))\n",
        "        if objective_error < best_objective_error:\n",
        "            best_objective_error = objective_error\n",
        "            best_param_value = param_value\n",
        "        for metric in metrics:\n",
        "            metric_values[metric].append(metrics[metric](val_open['y'], y_pred_open))\n",
        "    if plot:\n",
        "        for metric in metrics:\n",
        "            plt.plot(param_values, metric_values[metric], label=metric)\n",
        "        plt.plot(param_values, objective_values, label=objective_name)\n",
        "        plt.xlabel(param_name)\n",
        "        plt.legend()\n",
        "        plt.title('Calibrating {}'.format(param_name))\n",
        "        plt.show()\n",
        "    return best_param_value"
      ]
    },
    {
      "cell_type": "code",
      "execution_count": 12,
      "id": "bbaf5830",
      "metadata": {
        "id": "bbaf5830"
      },
      "outputs": [],
      "source": [
        "# See how the threshold value affects accuracy and find the threshold\n",
        "# such that 95% of validation data is recognized as known\n",
        "\n",
        "tuning_metrics = {\n",
        "    'All Class F1': lambda *x: f1_score(*x, average='macro'),\n",
        "    'Open-Set F1': open_set_f1_score,\n",
        "    'All Class Accuracy': accuracy,\n",
        "    'Open-Set Accuracy': open_set_accuracy,    \n",
        "}\n",
        "\n",
        "def tune_TSLR_threshold(model, X_val, y_val, plot=True):\n",
        "    \"\"\"Tunes a Thresholded-Standard-Logistic-Regression model's threshold so\n",
        "    that 95% of a closed-set validation set's samples are predicted to be\n",
        "    from one of the known classes.\n",
        "    \"\"\"\n",
        "    threshold_values = np.linspace(0, 1, 100)\n",
        "    target_known_fraction = .95\n",
        "    # split validation set into an open validation set and a closed validation set\n",
        "    X_val_open, X_val_closed, y_val_open, y_val_closed = data_split(X_val, y_val, val_size=.5)\n",
        "    # convert instances of class labels in the open set to -1\n",
        "    y_val_open = modify_open_set_labels(y_val_open, OPEN_SET_LABELS)\n",
        "    # remove open-set samples from the closed-set validation data\n",
        "    X_val_closed, y_val_closed = remove_classes_from_dataset(X_val_closed, y_val_closed, OPEN_SET_LABELS)\n",
        "    val_closed = {'X': X_val_closed, 'y': y_val_closed}\n",
        "    val_open = {'X': X_val_open, 'y': y_val_open}\n",
        "    param_name = 'Classification Probability Threshold'\n",
        "    objective_name = 'Known Fraction'\n",
        "    threshold = tune_model_param(\n",
        "        model, val_closed, val_open, threshold_values, param_name, threshold_predict,\n",
        "        known_fraction, target_known_fraction, objective_name, tuning_metrics, plot=plot\n",
        "    )\n",
        "    return threshold"
      ]
    },
    {
      "cell_type": "code",
      "execution_count": null,
      "id": "bff634a2",
      "metadata": {
        "colab": {
          "base_uri": "https://localhost:8080/",
          "height": 384
        },
        "id": "bff634a2",
        "outputId": "e34f337a-5e6f-4a70-d583-7bab1e08cfa3"
      },
      "outputs": [
        {
          "output_type": "display_data",
          "data": {
            "text/plain": [
              "<Figure size 432x288 with 1 Axes>"
            ],
            "image/png": "[encoded data removed]"
          },
          "metadata": {
            "needs_background": "light"
          }
        },
        {
          "output_type": "stream",
          "name": "stdout",
          "text": [
            "Results from test set using 95% threshold (0.6465):\n",
            "All Class F1: 0.6564\n",
            "Open-Set F1: 0.3756\n",
            "All Class Accuracy: 0.5474\n",
            "Open-Set Accuracy: 0.2437\n"
          ]
        }
      ],
      "source": [
        "threshold = tune_TSLR_threshold(model, X_val, y_val)\n",
        "\n",
        "# Evaluate on test set\n",
        "\n",
        "# convert instances of class labels in the open set to -1\n",
        "y_test_open = modify_open_set_labels(y_test, OPEN_SET_LABELS)\n",
        "\n",
        "y_pred = threshold_predict(X_test, model, threshold)\n",
        "print('Results from test set using 95% threshold ({:.4f}):'.format(threshold))\n",
        "for metric in tuning_metrics:\n",
        "    metric_func = tuning_metrics[metric]\n",
        "    print('{}: {:.4f}'.format(metric, metric_func(y_test_open, y_pred)))"
      ]
    },
    {
      "cell_type": "code",
      "execution_count": 13,
      "id": "4a335ef6",
      "metadata": {
        "id": "4a335ef6"
      },
      "outputs": [],
      "source": [
        "\"\"\" Now that we have a baseline, we will implement the placeholders algorithm.\n",
        "\"\"\"\n",
        "\n",
        "class OpenSetPlaceholdersLRM(StandardLogisticRegressionModel):\n",
        "    def __init__(self, num_placeholders, *args, **kwargs):\n",
        "        super().__init__(*args, **kwargs)\n",
        "        self.num_placeholders = num_placeholders\n",
        "        self.dummy_logits_layer = tf.keras.layers.Dense(num_placeholders, activation=None, name='dummy_logits')\n",
        "        self.bias = 0 # used to calibrate dummy logit to have same magnitude as rest of logits\n",
        "\n",
        "    def _pre(self, inputs):\n",
        "        return self.embed_pre(inputs)\n",
        "    \n",
        "    def _rest(self, inputs):\n",
        "        x_post = self.embed_post(inputs)\n",
        "        closed_set_logits = self.logits_layer(x_post)\n",
        "        dummy_logits = self.dummy_logits_layer(x_post)\n",
        "        max_dummy_logit = tf.reduce_max(dummy_logits, axis=1)\n",
        "        all_logits = tf.concat([closed_set_logits, tf.expand_dims(max_dummy_logit, 1) + self.bias], axis=1)\n",
        "        return self.output_layer(all_logits)\n",
        "        \n",
        "    def call(self, inputs):\n",
        "        x_pre = self._pre(inputs)\n",
        "        return self._rest(x_pre)\n",
        "        \n",
        "    def predict(self, x):\n",
        "        \"\"\" Returns the predicted class label. If predicted class is dummy class, return -1\n",
        "        indicating prediction falls within the open set.\n",
        "        \"\"\"\n",
        "        y_pred = self.call(x)\n",
        "        y_pred_labels = tf.argmax(y_pred, axis=1)\n",
        "        return tf.where(y_pred_labels == self.num_classes, -1, y_pred_labels)    \n",
        "    \n",
        "def ce_loss_for_placeholders(y_true, y_pred, beta):\n",
        "    loss = ce_loss(y_true, y_pred)\n",
        "    # set each sample's predicted probability for the true class to zero\n",
        "    y_pred_without_true_prob = tf.where(y_true == 1, 0., y_pred)\n",
        "    # create a new y_true where the true label is the dummy class\n",
        "    rows, cols = y_true.shape\n",
        "    rows = rows or 1\n",
        "    y_true_dummy = tf.concat([tf.zeros([rows, cols - 1]), tf.ones([rows, 1])], axis=1)\n",
        "    loss += beta * ce_loss(y_true_dummy, y_pred_without_true_prob)\n",
        "    return loss\n",
        "\n",
        "def train_OSPLRM(X, y, num_classes, beta=.5, epochs=25, plot=True, **kwargs):\n",
        "    model = OpenSetPlaceholdersLRM(\n",
        "        num_classes=num_classes,\n",
        "        **kwargs\n",
        "    )\n",
        "    loss = lambda *x: ce_loss_for_placeholders(*x, beta)\n",
        "    model.compile(\n",
        "        optimizer='adam', \n",
        "        loss=loss, \n",
        "        metrics=[tfa.metrics.F1Score(name='f1', num_classes=num_classes+1, average='macro')]\n",
        "    )\n",
        "    # The \"+ 1\"s below add an additional column of zeros to the one-hot encodings for\n",
        "    # the dummy class\n",
        "    y_train_one_hot = tf.one_hot(tf.cast(y, tf.int64), depth=model.num_classes + 1)\n",
        "    checkpoint_filepath = './tmp/checkpoint'\n",
        "    model_checkpoint_callback = tf.keras.callbacks.ModelCheckpoint(\n",
        "        filepath=checkpoint_filepath,\n",
        "        save_weights_only=True,\n",
        "        monitor='val_f1',\n",
        "        mode='max',\n",
        "        save_best_only=True\n",
        "    )\n",
        "    history = model.fit(\n",
        "        X, y_train_one_hot, epochs=epochs, validation_data=(X_val_closed, y_val_closed_one_hot_extra), \n",
        "        batch_size=32,callbacks=[model_checkpoint_callback]\n",
        "    )\n",
        "    model.load_weights(checkpoint_filepath)\n",
        "    if plot:\n",
        "        history = history.history\n",
        "        plot_training_metric(history['loss'], history['val_loss'], 'Loss')\n",
        "        plot_training_metric(history['f1'], history['val_f1'], 'F1 Score')\n",
        "    return model"
      ]
    },
    {
      "cell_type": "code",
      "execution_count": null,
      "id": "a915e23f",
      "metadata": {
        "colab": {
          "base_uri": "https://localhost:8080/",
          "height": 1000
        },
        "id": "a915e23f",
        "outputId": "9613a9cd-f288-47ee-8363-641c6cd94f59"
      },
      "outputs": [
        {
          "output_type": "stream",
          "name": "stdout",
          "text": [
            "Epoch 1/15\n",
            "1563/1563 [==============================] - 11s 7ms/step - loss: 1.4573 - f1: 0.8601 - val_loss: 1.8403 - val_f1: 0.7895\n",
            "Epoch 2/15\n",
            "1563/1563 [==============================] - 11s 7ms/step - loss: 1.2315 - f1: 0.9254 - val_loss: 1.8504 - val_f1: 0.7588\n",
            "Epoch 3/15\n",
            "1563/1563 [==============================] - 6s 4ms/step - loss: 1.2129 - f1: 0.9369 - val_loss: 1.8383 - val_f1: 0.8271\n",
            "Epoch 4/15\n",
            "1563/1563 [==============================] - 6s 4ms/step - loss: 1.2015 - f1: 0.9443 - val_loss: 1.8542 - val_f1: 0.8199\n",
            "Epoch 5/15\n",
            "1563/1563 [==============================] - 6s 4ms/step - loss: 1.1931 - f1: 0.9495 - val_loss: 1.8859 - val_f1: 0.8142\n",
            "Epoch 6/15\n",
            "1563/1563 [==============================] - 8s 5ms/step - loss: 1.1851 - f1: 0.9557 - val_loss: 1.9023 - val_f1: 0.8174\n",
            "Epoch 7/15\n",
            "1563/1563 [==============================] - 6s 4ms/step - loss: 1.1799 - f1: 0.9588 - val_loss: 1.9360 - val_f1: 0.8175\n",
            "Epoch 8/15\n",
            "1563/1563 [==============================] - 6s 4ms/step - loss: 1.1767 - f1: 0.9609 - val_loss: 1.9780 - val_f1: 0.8261\n",
            "Epoch 9/15\n",
            "1563/1563 [==============================] - 6s 4ms/step - loss: 1.1732 - f1: 0.9635 - val_loss: 1.9556 - val_f1: 0.8281\n",
            "Epoch 10/15\n",
            "1563/1563 [==============================] - 6s 4ms/step - loss: 1.1705 - f1: 0.9676 - val_loss: 1.9893 - val_f1: 0.8308\n",
            "Epoch 11/15\n",
            "1563/1563 [==============================] - 6s 4ms/step - loss: 1.1689 - f1: 0.9681 - val_loss: 2.0027 - val_f1: 0.8287\n",
            "Epoch 12/15\n",
            "1563/1563 [==============================] - 6s 4ms/step - loss: 1.1675 - f1: 0.9698 - val_loss: 2.0141 - val_f1: 0.8337\n",
            "Epoch 13/15\n",
            "1563/1563 [==============================] - 7s 5ms/step - loss: 1.1655 - f1: 0.9716 - val_loss: 2.0274 - val_f1: 0.8334\n",
            "Epoch 14/15\n",
            "1563/1563 [==============================] - 8s 5ms/step - loss: 1.1659 - f1: 0.9732 - val_loss: 2.0553 - val_f1: 0.8441\n",
            "Epoch 15/15\n",
            "1563/1563 [==============================] - 8s 5ms/step - loss: 1.1643 - f1: 0.9731 - val_loss: 2.0703 - val_f1: 0.8352\n"
          ]
        },
        {
          "output_type": "display_data",
          "data": {
            "text/plain": [
              "<Figure size 432x288 with 1 Axes>"
            ],
            "image/png": "[encoded data removed]"
          },
          "metadata": {
            "needs_background": "light"
          }
        },
        {
          "output_type": "display_data",
          "data": {
            "text/plain": [
              "<Figure size 432x288 with 1 Axes>"
            ],
            "image/png": "[encoded data removed]"
          },
          "metadata": {
            "needs_background": "light"
          }
        }
      ],
      "source": [
        "# train for closed set classification on 0-8, 9 is removed before training\n",
        "# from the train set, but is left in the valdation set\n",
        "\n",
        "model = train_OSPLRM(\n",
        "    X, y,\n",
        "    num_classes=NUM_CLASSES,\n",
        "    epochs=15,\n",
        "    num_placeholders=20,\n",
        "    pre_dim=50,\n",
        "    post_dim=50,\n",
        "    beta=.7,\n",
        "    plot=True,\n",
        ")"
      ]
    },
    {
      "cell_type": "code",
      "execution_count": 14,
      "id": "337ea552",
      "metadata": {
        "id": "337ea552"
      },
      "outputs": [],
      "source": [
        "# See how the bias value affects accuracy and find the bias\n",
        "# such that 95% of validation data is recognized as known\n",
        "\n",
        "def tune_OSPLRM_threshold(model, X_val, y_val, plot=True):\n",
        "    \"\"\"Tunes a Open-Set-Placeholders-Logistic-Regression model's bias so\n",
        "    that 95% of a closed-set validation set's samples are predicted to be\n",
        "    from one of the known classes.\n",
        "    \"\"\"\n",
        "    def placeholders_predict(X, model, bias):\n",
        "        model.bias = bias\n",
        "        return model.predict(X)\n",
        "\n",
        "    target_known_fraction = .95\n",
        "    bias_values = np.linspace(-2, 2, 100)\n",
        "    # split validation set into an open validation set and a closed validation set\n",
        "    X_val_open, X_val_closed, y_val_open, y_val_closed = data_split(X_val, y_val, val_size=.5)\n",
        "    # convert instances of class labels in the open set to -1\n",
        "    y_val_open = modify_open_set_labels(y_val_open, OPEN_SET_LABELS)\n",
        "    # remove open-set samples from the closed-set validation data\n",
        "    X_val_closed, y_val_closed = remove_classes_from_dataset(X_val_closed, y_val_closed, OPEN_SET_LABELS)\n",
        "    val_closed = {'X': X_val_closed, 'y': y_val_closed}\n",
        "    val_open = {'X': X_val_open, 'y': y_val_open}\n",
        "    param_name = 'Dummy Classifier Bias'\n",
        "    objective_name = 'Known Fraction'\n",
        "    bias = tune_model_param(\n",
        "        model, val_closed, val_open, bias_values, param_name, placeholders_predict,\n",
        "        known_fraction, target_known_fraction, objective_name, tuning_metrics, plot=plot\n",
        "    )\n",
        "    return bias"
      ]
    },
    {
      "cell_type": "code",
      "execution_count": null,
      "id": "44a9e556",
      "metadata": {
        "colab": {
          "base_uri": "https://localhost:8080/",
          "height": 384
        },
        "id": "44a9e556",
        "outputId": "96bff7ba-7975-45ce-c0da-53c1cfe87176"
      },
      "outputs": [
        {
          "output_type": "display_data",
          "data": {
            "text/plain": [
              "<Figure size 432x288 with 1 Axes>"
            ],
            "image/png": "[encoded data removed]"
          },
          "metadata": {
            "needs_background": "light"
          }
        },
        {
          "output_type": "stream",
          "name": "stdout",
          "text": [
            "Results from test set using 95% bias (-1.3131):\n",
            "All Class F1: 0.6813\n",
            "Open-Set F1: 0.5040\n",
            "All Class Accuracy: 0.6035\n",
            "Open-Set Accuracy: 0.3583\n"
          ]
        }
      ],
      "source": [
        "bias = tune_OSPLRM_threshold(model, X_val, y_val)\n",
        "model.bias = bias\n",
        "\n",
        "# Evaluate on test set\n",
        "\n",
        "# convert instances of class labels in the open set to -1\n",
        "y_test_open = modify_open_set_labels(y_test, OPEN_SET_LABELS)\n",
        "\n",
        "y_pred = model.predict(X_test)\n",
        "print('Results from test set using 95% bias ({:.4f}):'.format(bias))\n",
        "for metric in tuning_metrics:\n",
        "    metric_func = tuning_metrics[metric]\n",
        "    print('{}: {:.4f}'.format(metric, metric_func(y_test_open, y_pred)))"
      ]
    },
    {
      "cell_type": "code",
      "execution_count": 15,
      "id": "7df42388",
      "metadata": {
        "id": "7df42388"
      },
      "outputs": [],
      "source": [
        "### THE CODE BELOW IS A WORK IN PROGRESS AND DOES NOT CURRENTLY RUN ###\n",
        "\n",
        "\n",
        "\"\"\"We will now introduce data placeholders. In essence, we will be synthesizing open-set training\n",
        "data via a process called \"manifold mixup\". We will also introduce a new loss function which makes\n",
        "use of the new synthetic data.\n",
        "\"\"\"\n",
        "\n",
        "# Open set placeholder\n",
        "class OSPWithDataPlaceholdersLRM(OpenSetPlaceholdersLRM):\n",
        "    def __init__(self, alpha, beta, gamma, *args, **kwargs):\n",
        "        super().__init__(*args, **kwargs)\n",
        "        self.alpha = alpha\n",
        "        self.beta = beta\n",
        "        self.gamma = gamma\n",
        "        \n",
        "    def train_step(self, data):\n",
        "        X, y = data\n",
        "        X_part1, X_part2 = tf.split(X, 2)\n",
        "        y_part1, y_part2 = tf.split(y, 2)\n",
        "        # create a new y_true where the true label is the open-set class\n",
        "        rows, cols = y_part2.shape\n",
        "        rows = rows or 1\n",
        "        y_part2_new = tf.concat([tf.zeros([rows, cols - 1]), tf.ones([rows, 1])], axis=1)\n",
        "        \n",
        "        with tf.GradientTape() as tape:\n",
        "            # caldulate the first portion of the loss on the first half of the batch\n",
        "            y_part1_pred = self.call(X_part1)\n",
        "            loss1 = ce_loss_for_placeholders(y_part1, y_part1_pred, self.beta)\n",
        "            # perform manifold mixup and calculate the second part of the loss\n",
        "            X_part2_pre = self._pre(X_part2)\n",
        "            X_part2_pre_hat = self.manifold_mixup(X_part2_pre)\n",
        "            y_part2_pred = self._rest(X_part2_pre_hat)\n",
        "            loss2 = ce_loss(y_part2_new, y_part2_pred)\n",
        "            # calculated weighted sum of losses\n",
        "            loss = loss1 + self.gamma * loss2\n",
        "            \n",
        "        # compute gradients\n",
        "        trainable_vars = self.trainable_variables\n",
        "        gradients = tape.gradient(loss, trainable_vars)\n",
        "        # update weights\n",
        "        self.optimizer.apply_gradients(zip(gradients, trainable_vars))\n",
        "        # Update metrics using the predictions from batch part 1\n",
        "        self.compiled_metrics.update_state(y_part1, y_part1_pred)\n",
        "        results = {m.name: m.result() for m in self.metrics}\n",
        "        results['loss'] = loss\n",
        "        return results\n",
        "    \n",
        "    def manifold_mixup(self, X_pre):\n",
        "        \"\"\"\n",
        "        \"\"\"\n",
        "        alpha = tf.constant(self.alpha)\n",
        "        dist = tfp.distributions.Beta(alpha, alpha)\n",
        "        lam = dist.sample(1)\n",
        "        if not X_pre.shape[0]:\n",
        "            return X_pre\n",
        "        indices = tf.random.shuffle(tf.range(X_pre.shape[0]))\n",
        "        X_pre_hat = lam * X_pre + (1 - lam) * tf.gather(X_pre, indices)\n",
        "        return X_pre_hat\n",
        "\n",
        "def train_OSPWDPLSM(X, y, num_classes, batch_size=64, epochs=25, plot=True, **kwargs):\n",
        "    model = OSPWithDataPlaceholdersLRM(\n",
        "        num_classes=num_classes,\n",
        "        **kwargs\n",
        "    )\n",
        "    model.compile(\n",
        "        optimizer='adam', \n",
        "        metrics=[tfa.metrics.F1Score(name='f1', num_classes=num_classes+1, average='macro')]\n",
        "    )\n",
        "    # The \"+ 1\"s below add an additional column of zeros to the one-hot encodings for\n",
        "    # the dummy class\n",
        "    y_train_one_hot = tf.one_hot(tf.cast(y, tf.int64), depth=model.num_classes + 1)\n",
        "    checkpoint_filepath = './tmp/checkpoint'\n",
        "    model_checkpoint_callback = tf.keras.callbacks.ModelCheckpoint(\n",
        "        filepath=checkpoint_filepath,\n",
        "        save_weights_only=True,\n",
        "        monitor='val_f1',\n",
        "        mode='max',\n",
        "        save_best_only=True\n",
        "    )\n",
        "    # ensure the length of the training dataset is a multiple of the batch_size\n",
        "    num_train_samples = (X.shape[0] // batch_size) * batch_size\n",
        "    X = X[:num_train_samples]\n",
        "    y_train_one_hot = y_train_one_hot[:num_train_samples]\n",
        "    history = model.fit(\n",
        "        X, y_train_one_hot, epochs=epochs, validation_data=(X_val_closed, y_val_closed_one_hot_extra), \n",
        "        batch_size=batch_size, callbacks=[model_checkpoint_callback]\n",
        "    )\n",
        "    model.load_weights(checkpoint_filepath)\n",
        "    if plot:\n",
        "        history = history.history\n",
        "        plot_training_metric(history['f1'], history['val_f1'], 'F1 Score')\n",
        "        plt.plot(history['loss'])\n",
        "        plt.title('Training Loss')\n",
        "        plt.xlabel('epoch')\n",
        "        plt.show()\n",
        "    return model"
      ]
    },
    {
      "cell_type": "code",
      "execution_count": null,
      "id": "059b0494",
      "metadata": {
        "colab": {
          "base_uri": "https://localhost:8080/",
          "height": 1000
        },
        "id": "059b0494",
        "outputId": "95f17478-ec0e-4131-e3e3-e7fe4493ef53"
      },
      "outputs": [
        {
          "output_type": "stream",
          "name": "stdout",
          "text": [
            "Epoch 1/35\n",
            "781/781 [==============================] - 6s 6ms/step - f1: 0.7673 - loss: 1.7440 - val_loss: 0.0000e+00 - val_f1: 0.6014\n",
            "Epoch 2/35\n",
            "781/781 [==============================] - 5s 6ms/step - f1: 0.8606 - loss: 1.3707 - val_loss: 0.0000e+00 - val_f1: 0.7510\n",
            "Epoch 3/35\n",
            "781/781 [==============================] - 5s 6ms/step - f1: 0.8706 - loss: 1.1961 - val_loss: 0.0000e+00 - val_f1: 0.7487\n",
            "Epoch 4/35\n",
            "781/781 [==============================] - 5s 6ms/step - f1: 0.8802 - loss: 1.2576 - val_loss: 0.0000e+00 - val_f1: 0.6655\n",
            "Epoch 5/35\n",
            "781/781 [==============================] - 5s 6ms/step - f1: 0.8803 - loss: 1.2140 - val_loss: 0.0000e+00 - val_f1: 0.7111\n",
            "Epoch 6/35\n",
            "781/781 [==============================] - 5s 7ms/step - f1: 0.8845 - loss: 1.2344 - val_loss: 0.0000e+00 - val_f1: 0.7622\n",
            "Epoch 7/35\n",
            "781/781 [==============================] - 5s 6ms/step - f1: 0.8918 - loss: 1.3467 - val_loss: 0.0000e+00 - val_f1: 0.7657\n",
            "Epoch 8/35\n",
            "781/781 [==============================] - 5s 6ms/step - f1: 0.8939 - loss: 1.2258 - val_loss: 0.0000e+00 - val_f1: 0.7509\n",
            "Epoch 9/35\n",
            "781/781 [==============================] - 5s 6ms/step - f1: 0.8948 - loss: 1.5386 - val_loss: 0.0000e+00 - val_f1: 0.6870\n",
            "Epoch 10/35\n",
            "781/781 [==============================] - 5s 6ms/step - f1: 0.8988 - loss: 1.1931 - val_loss: 0.0000e+00 - val_f1: 0.7265\n",
            "Epoch 11/35\n",
            "781/781 [==============================] - 5s 6ms/step - f1: 0.9014 - loss: 1.1927 - val_loss: 0.0000e+00 - val_f1: 0.7735\n",
            "Epoch 12/35\n",
            "781/781 [==============================] - 5s 6ms/step - f1: 0.9004 - loss: 1.1855 - val_loss: 0.0000e+00 - val_f1: 0.7760\n",
            "Epoch 13/35\n",
            "781/781 [==============================] - 5s 7ms/step - f1: 0.9034 - loss: 1.1892 - val_loss: 0.0000e+00 - val_f1: 0.6729\n",
            "Epoch 14/35\n",
            "781/781 [==============================] - 5s 7ms/step - f1: 0.9024 - loss: 1.3314 - val_loss: 0.0000e+00 - val_f1: 0.7821\n",
            "Epoch 15/35\n",
            "781/781 [==============================] - 5s 7ms/step - f1: 0.9047 - loss: 1.2309 - val_loss: 0.0000e+00 - val_f1: 0.7843\n",
            "Epoch 16/35\n",
            "781/781 [==============================] - 5s 6ms/step - f1: 0.9074 - loss: 1.2318 - val_loss: 0.0000e+00 - val_f1: 0.7284\n",
            "Epoch 17/35\n",
            "781/781 [==============================] - 5s 6ms/step - f1: 0.9089 - loss: 1.2918 - val_loss: 0.0000e+00 - val_f1: 0.7326\n",
            "Epoch 18/35\n",
            "781/781 [==============================] - 6s 8ms/step - f1: 0.9114 - loss: 1.2057 - val_loss: 0.0000e+00 - val_f1: 0.7865\n",
            "Epoch 19/35\n",
            "781/781 [==============================] - 5s 6ms/step - f1: 0.9129 - loss: 1.1849 - val_loss: 0.0000e+00 - val_f1: 0.7349\n",
            "Epoch 20/35\n",
            "781/781 [==============================] - 5s 6ms/step - f1: 0.9108 - loss: 1.2403 - val_loss: 0.0000e+00 - val_f1: 0.7695\n",
            "Epoch 21/35\n",
            "781/781 [==============================] - 5s 6ms/step - f1: 0.9140 - loss: 1.1776 - val_loss: 0.0000e+00 - val_f1: 0.8178\n",
            "Epoch 22/35\n",
            "781/781 [==============================] - 5s 6ms/step - f1: 0.9109 - loss: 1.2024 - val_loss: 0.0000e+00 - val_f1: 0.8068\n",
            "Epoch 23/35\n",
            "781/781 [==============================] - 5s 6ms/step - f1: 0.9129 - loss: 1.2393 - val_loss: 0.0000e+00 - val_f1: 0.7690\n",
            "Epoch 24/35\n",
            "781/781 [==============================] - 5s 6ms/step - f1: 0.9174 - loss: 1.1947 - val_loss: 0.0000e+00 - val_f1: 0.6994\n",
            "Epoch 25/35\n",
            "781/781 [==============================] - 5s 6ms/step - f1: 0.9165 - loss: 1.2561 - val_loss: 0.0000e+00 - val_f1: 0.7699\n",
            "Epoch 26/35\n",
            "781/781 [==============================] - 5s 6ms/step - f1: 0.9159 - loss: 1.2259 - val_loss: 0.0000e+00 - val_f1: 0.7997\n",
            "Epoch 27/35\n",
            "781/781 [==============================] - 5s 6ms/step - f1: 0.9186 - loss: 1.1875 - val_loss: 0.0000e+00 - val_f1: 0.7203\n",
            "Epoch 28/35\n",
            "781/781 [==============================] - 5s 6ms/step - f1: 0.9196 - loss: 1.1786 - val_loss: 0.0000e+00 - val_f1: 0.7420\n",
            "Epoch 29/35\n",
            "781/781 [==============================] - 5s 6ms/step - f1: 0.9226 - loss: 1.1666 - val_loss: 0.0000e+00 - val_f1: 0.8009\n",
            "Epoch 30/35\n",
            "781/781 [==============================] - 5s 6ms/step - f1: 0.9228 - loss: 1.1777 - val_loss: 0.0000e+00 - val_f1: 0.7772\n",
            "Epoch 31/35\n",
            "781/781 [==============================] - 5s 6ms/step - f1: 0.9206 - loss: 1.2121 - val_loss: 0.0000e+00 - val_f1: 0.7587\n",
            "Epoch 32/35\n",
            "781/781 [==============================] - 5s 6ms/step - f1: 0.9259 - loss: 1.1805 - val_loss: 0.0000e+00 - val_f1: 0.7647\n",
            "Epoch 33/35\n",
            "781/781 [==============================] - 5s 6ms/step - f1: 0.9213 - loss: 1.1749 - val_loss: 0.0000e+00 - val_f1: 0.7947\n",
            "Epoch 34/35\n",
            "781/781 [==============================] - 5s 6ms/step - f1: 0.9253 - loss: 1.1826 - val_loss: 0.0000e+00 - val_f1: 0.7590\n",
            "Epoch 35/35\n",
            "781/781 [==============================] - 5s 6ms/step - f1: 0.9252 - loss: 1.1979 - val_loss: 0.0000e+00 - val_f1: 0.7853\n"
          ]
        },
        {
          "output_type": "display_data",
          "data": {
            "text/plain": [
              "<Figure size 432x288 with 1 Axes>"
            ],
            "image/png": "[encoded data removed]"
          },
          "metadata": {
            "needs_background": "light"
          }
        },
        {
          "output_type": "display_data",
          "data": {
            "text/plain": [
              "<Figure size 432x288 with 1 Axes>"
            ],
            "image/png": "[encoded data removed]"
          },
          "metadata": {
            "needs_background": "light"
          }
        }
      ],
      "source": [
        "# train for closed set classification on 0-8, 9 is removed before training\n",
        "# from the train set, but is left in the valdation set\n",
        "\n",
        "model = train_OSPWDPLSM(\n",
        "    X, y,\n",
        "    num_classes=NUM_CLASSES,\n",
        "    epochs=35,\n",
        "    num_placeholders=20,\n",
        "    pre_dim=50,\n",
        "    post_dim=50,\n",
        "    alpha=2.0,\n",
        "    beta=.7,\n",
        "    gamma=.2,\n",
        "    plot=True,\n",
        ")"
      ]
    },
    {
      "cell_type": "code",
      "execution_count": null,
      "id": "09d0893f",
      "metadata": {
        "colab": {
          "base_uri": "https://localhost:8080/",
          "height": 384
        },
        "id": "09d0893f",
        "outputId": "4ae2c306-ba57-443a-d0ea-3e2c841e9108"
      },
      "outputs": [
        {
          "output_type": "display_data",
          "data": {
            "text/plain": [
              "<Figure size 432x288 with 1 Axes>"
            ],
            "image/png": "[encoded data removed]"
          },
          "metadata": {
            "needs_background": "light"
          }
        },
        {
          "output_type": "stream",
          "name": "stdout",
          "text": [
            "Results from test set using 95% bias (-1.7576):\n",
            "All Class F1: 0.6762\n",
            "Open-Set F1: 0.4681\n",
            "All Class Accuracy: 0.5867\n",
            "Open-Set Accuracy: 0.3253\n"
          ]
        }
      ],
      "source": [
        "bias = tune_OSPLRM_threshold(model, X_val, y_val, OPEN_SET_LABELS)\n",
        "model.bias = bias\n",
        "\n",
        "# Evaluate on test set\n",
        "\n",
        "# convert instances of class labels in the open set to -1\n",
        "y_test_open = modify_open_set_labels(y_test, OPEN_SET_LABELS)\n",
        "\n",
        "y_pred = model.predict(X_test)\n",
        "print('Results from test set using 95% bias ({:.4f}):'.format(bias))\n",
        "for metric in tuning_metrics:\n",
        "    metric_func = tuning_metrics[metric]\n",
        "    print('{}: {:.4f}'.format(metric, metric_func(y_test_open, y_pred)))"
      ]
    },
    {
      "cell_type": "code",
      "execution_count": null,
      "id": "325cbf50",
      "metadata": {
        "id": "325cbf50"
      },
      "outputs": [],
      "source": [
        "\"\"\"We will now look at how well the various methods separate the image embeddings by learning a \n",
        "R^d -> R^2 embedding module and plotting the various class embedding clusters.\n",
        "\"\"\"\n",
        "\n",
        "# Standard Logistic Regression trained on closed set 0-8 (9 held out)\n",
        "\n",
        "model = train_SLRM(\n",
        "    X, y, \n",
        "    num_classes=NUM_CLASSES, \n",
        "    epochs=75, \n",
        "    plot=True, \n",
        "    pre_dim=50, \n",
        "    post_dim=2\n",
        ")"
      ]
    },
    {
      "cell_type": "code",
      "execution_count": null,
      "id": "3f1b3e91",
      "metadata": {
        "id": "3f1b3e91"
      },
      "outputs": [],
      "source": [
        "def plot_post_embeddings(model, X, y):\n",
        "    X_pre = model.embed_pre(X)\n",
        "    X_post = model.embed_post(X_pre)\n",
        "    scatter = plt.scatter(X_post[:,0], X_post[:,1], c=y)\n",
        "    plt.legend(*scatter.legend_elements(), loc='lower left', bbox_to_anchor=(1,0))\n",
        "    plt.xlabel('x1')\n",
        "    plt.ylabel('x2')\n",
        "    plt.title('Feature Embedding Space')\n",
        "    plt.show()\n",
        "\n",
        "plot_post_embeddings(model, X, y)\n",
        "y_val_open = modify_open_set_labels(y_val, OPEN_SET_LABELS)\n",
        "plot_post_embeddings(model, X_val, y_val_open)"
      ]
    },
    {
      "cell_type": "code",
      "execution_count": null,
      "id": "511b8f29",
      "metadata": {
        "id": "511b8f29"
      },
      "outputs": [],
      "source": [
        "model = train_OSPLRM(\n",
        "    X, y,\n",
        "    num_classes=NUM_CLASSES,\n",
        "    epochs=150,\n",
        "    num_placeholders=20,\n",
        "    pre_dim=50,\n",
        "    post_dim=2,\n",
        "    beta=.7,\n",
        "    plot=True,\n",
        ")"
      ]
    },
    {
      "cell_type": "code",
      "execution_count": null,
      "id": "381f62d7",
      "metadata": {
        "id": "381f62d7"
      },
      "outputs": [],
      "source": [
        "plot_post_embeddings(model, X, y)\n",
        "y_val_open = modify_open_set_labels(y_val, OPEN_SET_LABELS)\n",
        "plot_post_embeddings(model, X_val, y_val_open)"
      ]
    },
    {
      "cell_type": "code",
      "execution_count": null,
      "id": "4d6d2bf8",
      "metadata": {
        "id": "4d6d2bf8"
      },
      "outputs": [],
      "source": [
        "# train for closed set classification on 0-8, 9 is removed before training\n",
        "# from the train set, but is left in the valdation set \n",
        "\n",
        "model = train_OSPWDPLSM(\n",
        "    X, y,\n",
        "    num_classes=NUM_CLASSES,\n",
        "    epochs=150,\n",
        "    num_placeholders=20,\n",
        "    pre_dim=50,\n",
        "    post_dim=2,\n",
        "    alpha=2.0,\n",
        "    beta=.7,\n",
        "    gamma=.2,\n",
        "    plot=True,\n",
        ")"
      ]
    },
    {
      "cell_type": "code",
      "execution_count": null,
      "id": "5164b2cc",
      "metadata": {
        "id": "5164b2cc"
      },
      "outputs": [],
      "source": [
        "plot_post_embeddings(model, X, y)\n",
        "y_val_open = modify_open_set_labels(y_val, OPEN_SET_LABELS)\n",
        "plot_post_embeddings(model, X_val, y_val_open)"
      ]
    },
    {
      "cell_type": "markdown",
      "source": [
        "#FIRST ATTEMPT AT FINE TUNING THE MODEL"
      ],
      "metadata": {
        "id": "Gf682Js14D9O"
      },
      "id": "Gf682Js14D9O"
    },
    {
      "cell_type": "code",
      "source": [
        "def metric_defined_by_us(y_test_value, y_pred_value):\n",
        "  from statistics import mean\n",
        "  import numpy as np\n",
        "  y_test_open_np = np.asarray(y_test_value)\n",
        "  y_pred_np = np.asarray(y_pred_value)\n",
        "\n",
        "  precisions = []\n",
        "  recalls = []\n",
        "  for label_chosen in set(y_test_value.numpy().astype(int).tolist()):\n",
        "      TP = np.sum(np.logical_and(y_test_open_np == label_chosen , y_pred_np == label_chosen))\n",
        "      TN = np.sum(np.logical_and(y_test_open_np != label_chosen , y_pred_np != label_chosen))\n",
        "      FP = np.sum(np.logical_and(y_test_open_np != label_chosen , y_pred_np == label_chosen))\n",
        "      FN = np.sum(np.logical_and(y_test_open_np == label_chosen , y_pred_np != label_chosen))\n",
        "      # print (\"TP: \"+str(TP)+\", FP: \"+str(FP)+\", TN: \"+str(TN)+\", FN: \"+str(FN))\n",
        "      if(TP == 0):\n",
        "            P = 0\n",
        "            R = 0\n",
        "      else:\n",
        "          P = round(100*TP/(TP + FP), 2)\n",
        "          R = round(100*TP/(TP + FN),2)\n",
        "      precisions.append(P)\n",
        "      recalls.append(R)\n",
        "\n",
        "\n",
        "  precision_known, recall_known = round(mean(precisions),2), round(mean(recalls),2)\n",
        "  f1_known = round(2*precision_known*recall_known/(precision_known + recall_known),2)\n",
        "\n",
        "  print(\"------------- KNOWN -------------\")\n",
        "  print(\"Precision: \",precision_known)\n",
        "  print(\"Recall: \",recall_known)\n",
        "  print(\"F1-Score: \",f1_known)\n",
        "\n",
        "    \n",
        "  precisionsOpen = []\n",
        "  recallsOpen = []\n",
        "  for label_chosen in [-1]:\n",
        "      TP = np.sum(np.logical_and(y_test_open_np == label_chosen , y_pred_np == -1))\n",
        "      TN = np.sum(np.logical_and(y_test_open_np != label_chosen , y_pred_np != -1))\n",
        "      FP = np.sum(np.logical_and(y_test_open_np != label_chosen , y_pred_np == -1))\n",
        "      FN = np.sum(np.logical_and(y_test_open_np == label_chosen , y_pred_np != -1))\n",
        "      # print (\"TP: \"+str(TP)+\", FP: \"+str(FP)+\", TN: \"+str(TN)+\", FN: \"+str(FN))\n",
        "      if(TP == 0):\n",
        "            P = 0\n",
        "            R = 0\n",
        "      else:\n",
        "          P = round(100*TP/(TP + FP), 2)\n",
        "          R = round(100*TP/(TP + FN),2)\n",
        "      precisionsOpen.append(P)\n",
        "      recallsOpen.append(R)\n",
        "\n",
        "  precision_ood, recall_ood = round(mean(precisionsOpen),2), round(mean(recallsOpen),2)\n",
        "  f1_ood = round(2*precision_ood*recall_ood/(precision_ood + recall_ood),2)\n",
        "\n",
        "  print(\"------------- OPEN -------------\")\n",
        "  print(\"Precision: \",precision_ood)\n",
        "  print(\"Recall: \",recall_ood)\n",
        "  print(\"F1-Score: \",f1_ood)\n",
        "\n",
        "\n",
        "\n",
        "  precisions.append(precision_ood)\n",
        "  recalls.append(recall_ood)\n",
        "\n",
        "\n",
        "\n",
        "  precision, recall = round(mean(precisions),2), round(mean(recalls),2)\n",
        "  f1 = round(2*precision*recall/(precision + recall),2)\n",
        "\n",
        "  print(\"------------- OVERALL -------------\")\n",
        "  print(\"Precision: \",precision)\n",
        "  print(\"Recall: \",recall)\n",
        "  print(\"F1-Score: \",f1)"
      ],
      "metadata": {
        "id": "R6kNiwNmq7Jf"
      },
      "id": "R6kNiwNmq7Jf",
      "execution_count": 35,
      "outputs": []
    },
    {
      "cell_type": "code",
      "source": [
        "y_pred_logits = []\n",
        "y_pred_logits2 = []"
      ],
      "metadata": {
        "id": "JPmcYU0f0l1i"
      },
      "id": "JPmcYU0f0l1i",
      "execution_count": 36,
      "outputs": []
    },
    {
      "cell_type": "code",
      "execution_count": 83,
      "metadata": {
        "id": "xKqjNgvsynJb"
      },
      "outputs": [],
      "source": [
        "\"\"\" Now that we have a baseline, we will implement the placeholders algorithm.\n",
        "\"\"\"\n",
        "\n",
        "class OpenSetPlaceholdersLRM(StandardLogisticRegressionModel):\n",
        "    def __init__(self, num_placeholders, *args, **kwargs):\n",
        "        super().__init__(*args, **kwargs)\n",
        "        self.num_placeholders = num_placeholders\n",
        "        self.dummy_logits_layer = tf.keras.layers.Dense(num_placeholders, activation=None, name='dummy_logits')\n",
        "        self.bias = 0 # used to calibrate dummy logit to have same magnitude as rest of logits\n",
        "\n",
        "    def _pre(self, inputs):\n",
        "        return self.embed_pre(inputs)\n",
        "    \n",
        "    def _rest(self, inputs):\n",
        "        global y_pred_logits\n",
        "        x_post = self.embed_post(inputs)\n",
        "        closed_set_logits = self.logits_layer(x_post)\n",
        "        dummy_logits = self.dummy_logits_layer(x_post)\n",
        "        max_dummy_logit = tf.reduce_max(dummy_logits, axis=1)\n",
        "        all_logits = tf.concat([closed_set_logits, tf.expand_dims(max_dummy_logit, 1) + self.bias], axis=1)\n",
        "        y_pred_logits = all_logits\n",
        "        return self.output_layer(all_logits)\n",
        "        \n",
        "    def call(self, inputs):\n",
        "        x_pre = self._pre(inputs)\n",
        "        return self._rest(x_pre)\n",
        "        \n",
        "    def predict(self, x):\n",
        "        \"\"\" Returns the predicted class label. If predicted class is dummy class, return -1\n",
        "        indicating prediction falls within the open set.\n",
        "        \"\"\"\n",
        "        global y_pred_logits2\n",
        "        y_pred = self.call(x)\n",
        "        y_pred_logits2 = y_pred\n",
        "        y_pred_labels = tf.argmax(y_pred, axis=1)\n",
        "        return tf.where(y_pred_labels == self.num_classes, -1, y_pred_labels)\n",
        "    \n",
        "def ce_loss_for_placeholders(y_true, y_pred, beta):\n",
        "    loss = ce_loss(y_true, y_pred)\n",
        "    # set each sample's predicted probability for the true class to zero\n",
        "    y_pred_without_true_prob = tf.where(y_true == 1, 0., y_pred)\n",
        "    # create a new y_true where the true label is the dummy class\n",
        "    rows, cols = y_true.shape\n",
        "    rows = rows or 1\n",
        "    y_true_dummy = tf.concat([tf.zeros([rows, cols - 1]), tf.ones([rows, 1])], axis=1)\n",
        "    loss += beta * ce_loss(y_true_dummy, y_pred_without_true_prob)\n",
        "    return loss\n",
        "\n",
        "def train_OSPLRM(X, y, num_classes, beta=.5, epochs=25, plot=True, **kwargs):\n",
        "    model = OpenSetPlaceholdersLRM(\n",
        "        num_classes=num_classes,\n",
        "        **kwargs\n",
        "    )\n",
        "    loss = lambda *x: ce_loss_for_placeholders(*x, beta)\n",
        "    model.compile(\n",
        "        optimizer='adam', \n",
        "        loss=loss, \n",
        "        metrics=[tfa.metrics.F1Score(name='f1', num_classes=num_classes+1, average='macro')]\n",
        "    )\n",
        "    # The \"+ 1\"s below add an additional column of zeros to the one-hot encodings for\n",
        "    # the dummy class\n",
        "    y_train_one_hot = tf.one_hot(tf.cast(y, tf.int64), depth=model.num_classes + 1)\n",
        "    checkpoint_filepath = './tmp/checkpoint'\n",
        "    model_checkpoint_callback = tf.keras.callbacks.ModelCheckpoint(\n",
        "        filepath=checkpoint_filepath,\n",
        "        save_weights_only=True,\n",
        "        monitor='val_f1',\n",
        "        mode='max',\n",
        "        save_best_only=True\n",
        "    )\n",
        "    history = model.fit(\n",
        "        X, y_train_one_hot, epochs=epochs, validation_data=(X_val_closed, y_val_closed_one_hot_extra), \n",
        "        batch_size=32,callbacks=[model_checkpoint_callback]\n",
        "    )\n",
        "    model.load_weights(checkpoint_filepath)\n",
        "    if plot:\n",
        "        history = history.history\n",
        "        plot_training_metric(history['loss'], history['val_loss'], 'Loss')\n",
        "        plot_training_metric(history['f1'], history['val_f1'], 'F1 Score')\n",
        "    return model"
      ],
      "id": "xKqjNgvsynJb"
    },
    {
      "cell_type": "code",
      "execution_count": 84,
      "metadata": {
        "id": "0XLy_gHsynJf"
      },
      "outputs": [],
      "source": [
        "### THE CODE BELOW IS A WORK IN PROGRESS AND DOES NOT CURRENTLY RUN ###\n",
        "\n",
        "\n",
        "\"\"\"We will now introduce data placeholders. In essence, we will be synthesizing open-set training\n",
        "data via a process called \"manifold mixup\". We will also introduce a new loss function which makes\n",
        "use of the new synthetic data.\n",
        "\"\"\"\n",
        "\n",
        "# Open set placeholder\n",
        "class OSPWithDataPlaceholdersLRM(OpenSetPlaceholdersLRM):\n",
        "    def __init__(self, alpha, beta, gamma, *args, **kwargs):\n",
        "        super().__init__(*args, **kwargs)\n",
        "        self.alpha = alpha\n",
        "        self.beta = beta\n",
        "        self.gamma = gamma\n",
        "        \n",
        "    def train_step(self, data):\n",
        "        X, y = data\n",
        "        X_part1, X_part2 = tf.split(X, 2)\n",
        "        y_part1, y_part2 = tf.split(y, 2)\n",
        "        # create a new y_true where the true label is the open-set class\n",
        "        rows, cols = y_part2.shape\n",
        "        rows = rows or 1\n",
        "        y_part2_new = tf.concat([tf.zeros([rows, cols - 1]), tf.ones([rows, 1])], axis=1)\n",
        "        \n",
        "        with tf.GradientTape() as tape:\n",
        "            # caldulate the first portion of the loss on the first half of the batch\n",
        "            y_part1_pred = self.call(X_part1)\n",
        "            loss1 = ce_loss_for_placeholders(y_part1, y_part1_pred, self.beta)\n",
        "            # perform manifold mixup and calculate the second part of the loss\n",
        "            X_part2_pre = self._pre(X_part2)\n",
        "            X_part2_pre_hat = self.manifold_mixup(X_part2_pre)\n",
        "            y_part2_pred = self._rest(X_part2_pre_hat)\n",
        "            loss2 = ce_loss(y_part2_new, y_part2_pred)\n",
        "            # calculated weighted sum of losses\n",
        "            loss = loss1 + self.gamma * loss2\n",
        "            \n",
        "        # compute gradients\n",
        "        trainable_vars = self.trainable_variables\n",
        "        gradients = tape.gradient(loss, trainable_vars)\n",
        "        # update weights\n",
        "        self.optimizer.apply_gradients(zip(gradients, trainable_vars))\n",
        "        # Update metrics using the predictions from batch part 1\n",
        "        self.compiled_metrics.update_state(y_part1, y_part1_pred)\n",
        "        results = {m.name: m.result() for m in self.metrics}\n",
        "        results['loss'] = loss\n",
        "        return results\n",
        "    \n",
        "    def manifold_mixup(self, X_pre):\n",
        "        \"\"\"\n",
        "        \"\"\"\n",
        "        alpha = tf.constant(self.alpha)\n",
        "        dist = tfp.distributions.Beta(alpha, alpha)\n",
        "        lam = dist.sample(1)\n",
        "        if not X_pre.shape[0]:\n",
        "            return X_pre\n",
        "        indices = tf.random.shuffle(tf.range(X_pre.shape[0]))\n",
        "        X_pre_hat = lam * X_pre + (1 - lam) * tf.gather(X_pre, indices)\n",
        "        return X_pre_hat\n",
        "\n",
        "def train_OSPWDPLSM(X, y, num_classes, batch_size=64, epochs=25, plot=True, **kwargs):\n",
        "    model = OSPWithDataPlaceholdersLRM(\n",
        "        num_classes=num_classes,\n",
        "        **kwargs\n",
        "    )\n",
        "    model.compile(\n",
        "        optimizer='adam', \n",
        "        metrics=[tfa.metrics.F1Score(name='f1', num_classes=num_classes+1, average='macro')]\n",
        "    )\n",
        "    # The \"+ 1\"s below add an additional column of zeros to the one-hot encodings for\n",
        "    # the dummy class\n",
        "    y_train_one_hot = tf.one_hot(tf.cast(y, tf.int64), depth=model.num_classes + 1)\n",
        "    checkpoint_filepath = './tmp/checkpoint'\n",
        "    model_checkpoint_callback = tf.keras.callbacks.ModelCheckpoint(\n",
        "        filepath=checkpoint_filepath,\n",
        "        save_weights_only=True,\n",
        "        monitor='val_f1',\n",
        "        mode='max',\n",
        "        save_best_only=True\n",
        "    )\n",
        "    # ensure the length of the training dataset is a multiple of the batch_size\n",
        "    num_train_samples = (X.shape[0] // batch_size) * batch_size\n",
        "    X = X[:num_train_samples]\n",
        "    y_train_one_hot = y_train_one_hot[:num_train_samples]\n",
        "    history = model.fit(\n",
        "        X, y_train_one_hot, epochs=epochs, validation_data=(X_val_closed, y_val_closed_one_hot_extra), \n",
        "        batch_size=batch_size, callbacks=[model_checkpoint_callback]\n",
        "    )\n",
        "    model.load_weights(checkpoint_filepath)\n",
        "    if plot:\n",
        "        history = history.history\n",
        "        plot_training_metric(history['f1'], history['val_f1'], 'F1 Score')\n",
        "        plt.plot(history['loss'])\n",
        "        plt.title('Training Loss')\n",
        "        plt.xlabel('epoch')\n",
        "        plt.show()\n",
        "    return model"
      ],
      "id": "0XLy_gHsynJf"
    },
    {
      "cell_type": "code",
      "source": [
        "metric_train_OSPLRM_abgg = {\"All Class F1\":[], \"Open-Set F1\":[], \"All Class Accuracy\":[], \"Open-Set Accuracy\":[]}\n",
        "metric_train_OSPWDPLSM_abgg = {\"All Class F1\":[], \"Open-Set F1\":[], \"All Class Accuracy\":[], \"Open-Set Accuracy\":[]}\n",
        "\n",
        "\n",
        "model = train_OSPLRM(\n",
        "    X, y,\n",
        "    num_classes=NUM_CLASSES,\n",
        "    epochs=1,\n",
        "    num_placeholders=50,\n",
        "    pre_dim=400,\n",
        "    post_dim=400,\n",
        "    beta=0.75,\n",
        "    plot=False,\n",
        ")\n",
        "\n",
        "bias = tune_OSPLRM_threshold(model, X_val, y_val)\n",
        "model.bias = bias\n",
        "\n",
        "y_test_open = modify_open_set_labels(y_test, OPEN_SET_LABELS)\n",
        "\n",
        "y_pred = model.predict(X_test)\n",
        "print('Results from test set using 95% bias ({:.4f}):'.format(bias))\n",
        "for metric in tuning_metrics:\n",
        "    metric_func = tuning_metrics[metric]\n",
        "    valueOfMetric = metric_func(y_test_open, y_pred)\n",
        "    metric_train_OSPLRM_abgg[metric].append(valueOfMetric)\n",
        "    print('{}: {:.4f}'.format(metric, valueOfMetric))\n",
        "\n",
        "print(\"\\n\\n##### METRICS DEFINED BY US #####\")\n",
        "metric_defined_by_us(y_test_open, y_pred)\n",
        "print(\"#################################\\n\\n\")\n",
        "\n",
        "\n",
        "\n",
        "\n"
      ],
      "metadata": {
        "colab": {
          "base_uri": "https://localhost:8080/",
          "height": 724
        },
        "id": "xIBVke0AxoLJ",
        "outputId": "8cf3d37b-05b7-474f-e7e0-ca06bf78f0bf"
      },
      "id": "xIBVke0AxoLJ",
      "execution_count": 90,
      "outputs": [
        {
          "output_type": "stream",
          "name": "stdout",
          "text": [
            "1250/1250 [==============================] - 7s 5ms/step - loss: 1.3942 - f1: 0.8393 - val_loss: 1.3024 - val_f1: 0.8479\n"
          ]
        },
        {
          "output_type": "display_data",
          "data": {
            "text/plain": [
              "<Figure size 432x288 with 1 Axes>"
            ],
            "image/png": "[encoded data removed]"
          },
          "metadata": {
            "needs_background": "light"
          }
        },
        {
          "output_type": "stream",
          "name": "stdout",
          "text": [
            "Results from test set using 95% bias (-0.5051):\n",
            "All Class F1: 0.7329\n",
            "Open-Set F1: 0.7378\n",
            "All Class Accuracy: 0.7343\n",
            "Open-Set Accuracy: 0.6874\n",
            "\n",
            "\n",
            "##### METRICS DEFINED BY US #####\n",
            "------------- KNOWN -------------\n",
            "Precision:  72.09\n",
            "Recall:  78.03\n",
            "F1-Score:  74.94\n",
            "------------- OPEN -------------\n",
            "Precision:  79.62\n",
            "Recall:  68.74\n",
            "F1-Score:  73.78\n",
            "------------- OVERALL -------------\n",
            "Precision:  72.17\n",
            "Recall:  77.94\n",
            "F1-Score:  74.94\n",
            "#################################\n",
            "\n",
            "\n"
          ]
        }
      ]
    },
    {
      "cell_type": "code",
      "source": [
        "import pandas as pd\n",
        "import time\n",
        "df = pd.DataFrame({'Actual':np.asarray(y_test).astype(int).tolist(),'Predicted':np.asarray(y_pred).astype(int).tolist(),'Logits':np.asarray(y_pred_logits).tolist()})\n",
        "# df.to_csv('results_OSPWDPLSM_all_logits_20k.csv', sep=',')\n",
        "df = df.values.tolist()\n",
        "headers = ['Actual', 'Predicted']\n",
        "flat_list = []\n",
        "count=0\n",
        "for row in df:\n",
        "  if count <= 100:\n",
        "    headers.append(count)\n",
        "    count+=1\n",
        "  curr = []\n",
        "  curr.append(row[0])\n",
        "  curr.append(row[1])\n",
        "  curr.extend(row[2])\n",
        "  flat_list.append(curr)\n",
        "\n",
        "import csv\n",
        "\n",
        "timeDate = str(time.strftime(\"%Y%m%d-%H%M%S\"))\n",
        "with open(\"results_OSPLRM_All_Logits_20k_\"+timeDate+\".csv\", \"w\", newline=\"\") as f:\n",
        "    writer = csv.writer(f)\n",
        "    writer.writerows([headers])\n",
        "    writer.writerows(flat_list)\n"
      ],
      "metadata": {
        "id": "rcX61L-5aZDU"
      },
      "execution_count": 40,
      "outputs": [],
      "id": "rcX61L-5aZDU"
    },
    {
      "cell_type": "code",
      "source": [
        "# from google.colab import files\n",
        "# files.download('results_OSPLRM_All_Logits_20k_'+timeDate+'.csv') "
      ],
      "metadata": {
        "colab": {
          "base_uri": "https://localhost:8080/",
          "height": 17
        },
        "outputId": "2405e8db-6ecc-4939-8231-4be3ee18a37c",
        "id": "ThGEHy0aaZDh"
      },
      "execution_count": 41,
      "outputs": [
        {
          "output_type": "display_data",
          "data": {
            "text/plain": [
              "<IPython.core.display.Javascript object>"
            ],
            "application/javascript": [
              "\n",
              "    async function download(id, filename, size) {\n",
              "      if (!google.colab.kernel.accessAllowed) {\n",
              "        return;\n",
              "      }\n",
              "      const div = document.createElement('div');\n",
              "      const label = document.createElement('label');\n",
              "      label.textContent = `Downloading \"${filename}\": `;\n",
              "      div.appendChild(label);\n",
              "      const progress = document.createElement('progress');\n",
              "      progress.max = size;\n",
              "      div.appendChild(progress);\n",
              "      document.body.appendChild(div);\n",
              "\n",
              "      const buffers = [];\n",
              "      let downloaded = 0;\n",
              "\n",
              "      const channel = await google.colab.kernel.comms.open(id);\n",
              "      // Send a message to notify the kernel that we're ready.\n",
              "      channel.send({})\n",
              "\n",
              "      for await (const message of channel.messages) {\n",
              "        // Send a message to notify the kernel that we're ready.\n",
              "        channel.send({})\n",
              "        if (message.buffers) {\n",
              "          for (const buffer of message.buffers) {\n",
              "            buffers.push(buffer);\n",
              "            downloaded += buffer.byteLength;\n",
              "            progress.value = downloaded;\n",
              "          }\n",
              "        }\n",
              "      }\n",
              "      const blob = new Blob(buffers, {type: 'application/binary'});\n",
              "      const a = document.createElement('a');\n",
              "      a.href = window.URL.createObjectURL(blob);\n",
              "      a.download = filename;\n",
              "      div.appendChild(a);\n",
              "      a.click();\n",
              "      div.remove();\n",
              "    }\n",
              "  "
            ]
          },
          "metadata": {}
        },
        {
          "output_type": "display_data",
          "data": {
            "text/plain": [
              "<IPython.core.display.Javascript object>"
            ],
            "application/javascript": [
              "download(\"download_98c72e27-653a-4720-af6a-cea52924a3b6\", \"results_OSPLRM_All_Logits_20k_20221118-015321.csv\", 39529510)"
            ]
          },
          "metadata": {}
        }
      ],
      "id": "ThGEHy0aaZDh"
    },
    {
      "cell_type": "code",
      "source": [
        "model = train_OSPWDPLSM(\n",
        "    X, y,\n",
        "    num_classes=NUM_CLASSES,\n",
        "    epochs=15,\n",
        "    num_placeholders=5,\n",
        "    pre_dim=75,\n",
        "    post_dim=75,\n",
        "    alpha=1.4,\n",
        "    beta=0.8,\n",
        "    gamma=0.05,\n",
        "    plot=False,\n",
        ")\n",
        "\n",
        "\n",
        "bias = tune_OSPLRM_threshold(model, X_val, y_val, OPEN_SET_LABELS)\n",
        "model.bias = bias\n",
        "y_test_open = modify_open_set_labels(y_test, OPEN_SET_LABELS)\n",
        "\n",
        "y_pred = model.predict(X_test)\n",
        "print('Results from test set using 95% bias ({:.4f}):'.format(bias))\n",
        "for metric in tuning_metrics:\n",
        "    metric_func = tuning_metrics[metric]\n",
        "    valueOfMetric = metric_func(y_test_open, y_pred)\n",
        "    # metric_train_OSPWDPLSM_abgg[metric].append(valueOfMetric)\n",
        "    print('{}: {:.4f}'.format(metric, valueOfMetric))\n",
        "\n",
        "\n",
        "\n",
        "print(\"\\n\\n##### METRICS DEFINED BY US #####\")\n",
        "metric_defined_by_us(y_test_open, y_pred)\n",
        "print(\"#################################\")"
      ],
      "metadata": {
        "colab": {
          "base_uri": "https://localhost:8080/",
          "height": 1000
        },
        "id": "3w4jVJm8RE6c",
        "outputId": "afee9512-04c5-46c0-8de4-5e94ab64d1ac"
      },
      "id": "3w4jVJm8RE6c",
      "execution_count": 122,
      "outputs": [
        {
          "output_type": "stream",
          "name": "stdout",
          "text": [
            "Epoch 1/15\n",
            "624/624 [==============================] - 6s 9ms/step - f1: 0.7410 - loss: 1.7409 - val_loss: 0.0000e+00 - val_f1: 0.7462\n",
            "Epoch 2/15\n",
            "624/624 [==============================] - 7s 11ms/step - f1: 0.8266 - loss: 1.3805 - val_loss: 0.0000e+00 - val_f1: 0.8701\n",
            "Epoch 3/15\n",
            "624/624 [==============================] - 5s 9ms/step - f1: 0.8344 - loss: 1.5427 - val_loss: 0.0000e+00 - val_f1: 0.7824\n",
            "Epoch 4/15\n",
            "624/624 [==============================] - 4s 7ms/step - f1: 0.8458 - loss: 1.2620 - val_loss: 0.0000e+00 - val_f1: 0.8412\n",
            "Epoch 5/15\n",
            "624/624 [==============================] - 4s 7ms/step - f1: 0.8534 - loss: 1.4017 - val_loss: 0.0000e+00 - val_f1: 0.7923\n",
            "Epoch 6/15\n",
            "624/624 [==============================] - 4s 7ms/step - f1: 0.8522 - loss: 1.2766 - val_loss: 0.0000e+00 - val_f1: 0.7676\n",
            "Epoch 7/15\n",
            "624/624 [==============================] - 4s 7ms/step - f1: 0.8570 - loss: 1.2807 - val_loss: 0.0000e+00 - val_f1: 0.7897\n",
            "Epoch 8/15\n",
            "624/624 [==============================] - 4s 7ms/step - f1: 0.8634 - loss: 1.3008 - val_loss: 0.0000e+00 - val_f1: 0.8616\n",
            "Epoch 9/15\n",
            "624/624 [==============================] - 5s 8ms/step - f1: 0.8656 - loss: 1.3110 - val_loss: 0.0000e+00 - val_f1: 0.7650\n",
            "Epoch 10/15\n",
            "624/624 [==============================] - 5s 8ms/step - f1: 0.8750 - loss: 1.2635 - val_loss: 0.0000e+00 - val_f1: 0.7797\n",
            "Epoch 11/15\n",
            "624/624 [==============================] - 4s 7ms/step - f1: 0.8735 - loss: 1.3224 - val_loss: 0.0000e+00 - val_f1: 0.8791\n",
            "Epoch 12/15\n",
            "624/624 [==============================] - 4s 7ms/step - f1: 0.8720 - loss: 1.2611 - val_loss: 0.0000e+00 - val_f1: 0.7527\n",
            "Epoch 13/15\n",
            "624/624 [==============================] - 4s 7ms/step - f1: 0.8780 - loss: 1.2619 - val_loss: 0.0000e+00 - val_f1: 0.8667\n",
            "Epoch 14/15\n",
            "624/624 [==============================] - 4s 7ms/step - f1: 0.8741 - loss: 1.2640 - val_loss: 0.0000e+00 - val_f1: 0.8765\n",
            "Epoch 15/15\n",
            "624/624 [==============================] - 4s 7ms/step - f1: 0.8797 - loss: 1.2848 - val_loss: 0.0000e+00 - val_f1: 0.8849\n"
          ]
        },
        {
          "output_type": "display_data",
          "data": {
            "text/plain": [
              "<Figure size 432x288 with 1 Axes>"
            ],
            "image/png": "[encoded data removed]"
          },
          "metadata": {
            "needs_background": "light"
          }
        },
        {
          "output_type": "stream",
          "name": "stdout",
          "text": [
            "Results from test set using 95% bias (-0.2626):\n",
            "All Class F1: 0.7607\n",
            "Open-Set F1: 0.7849\n",
            "All Class Accuracy: 0.7717\n",
            "Open-Set Accuracy: 0.7824\n",
            "\n",
            "\n",
            "##### METRICS DEFINED BY US #####\n",
            "------------- KNOWN -------------\n",
            "Precision:  77.98\n",
            "Recall:  76.12\n",
            "F1-Score:  77.04\n",
            "------------- OPEN -------------\n",
            "Precision:  78.74\n",
            "Recall:  78.24\n",
            "F1-Score:  78.49\n",
            "------------- OVERALL -------------\n",
            "Precision:  77.98\n",
            "Recall:  76.14\n",
            "F1-Score:  77.05\n",
            "#################################\n"
          ]
        }
      ]
    },
    {
      "cell_type": "code",
      "source": [
        "import pandas as pd\n",
        "df = pd.DataFrame({'Actual':np.asarray(y_test).astype(int).tolist(),'Predicted':np.asarray(y_pred).astype(int).tolist(),'Logits':np.asarray(y_pred_logits).tolist()})\n",
        "# df.to_csv('results_OSPWDPLSM_all_logits_20k.csv', sep=',')\n",
        "df = df.values.tolist()\n",
        "headers = ['Actual', 'Predicted']\n",
        "flat_list = []\n",
        "count=0\n",
        "for row in df:\n",
        "  if count <= 100:\n",
        "    headers.append(count)\n",
        "    count+=1\n",
        "  curr = []\n",
        "  curr.append(row[0])\n",
        "  curr.append(row[1])\n",
        "  curr.extend(row[2])\n",
        "  flat_list.append(curr)\n",
        "\n",
        "import csv\n",
        "timeDate = str(time.strftime(\"%Y%m%d-%H%M%S\"))\n",
        "with open(\"results_77_05_OSPWDPLSM_All_Logits_20k_\"+timeDate+\".csv\", \"w\", newline=\"\") as f:\n",
        "    writer = csv.writer(f)\n",
        "    writer.writerows([headers])\n",
        "    writer.writerows(flat_list)\n"
      ],
      "metadata": {
        "id": "DrxC5FuPTVd3"
      },
      "id": "DrxC5FuPTVd3",
      "execution_count": 123,
      "outputs": []
    },
    {
      "cell_type": "code",
      "source": [
        "from google.colab import files\n",
        "files.download('results_77_05_OSPWDPLSM_All_Logits_20k_'+timeDate+'.csv') "
      ],
      "metadata": {
        "id": "BgusYZjySJau",
        "colab": {
          "base_uri": "https://localhost:8080/",
          "height": 34
        },
        "outputId": "7377704e-be7d-475c-ae51-1dde34a69b58"
      },
      "id": "BgusYZjySJau",
      "execution_count": 124,
      "outputs": [
        {
          "output_type": "display_data",
          "data": {
            "text/plain": [
              "<IPython.core.display.Javascript object>"
            ],
            "application/javascript": [
              "\n",
              "    async function download(id, filename, size) {\n",
              "      if (!google.colab.kernel.accessAllowed) {\n",
              "        return;\n",
              "      }\n",
              "      const div = document.createElement('div');\n",
              "      const label = document.createElement('label');\n",
              "      label.textContent = `Downloading \"${filename}\": `;\n",
              "      div.appendChild(label);\n",
              "      const progress = document.createElement('progress');\n",
              "      progress.max = size;\n",
              "      div.appendChild(progress);\n",
              "      document.body.appendChild(div);\n",
              "\n",
              "      const buffers = [];\n",
              "      let downloaded = 0;\n",
              "\n",
              "      const channel = await google.colab.kernel.comms.open(id);\n",
              "      // Send a message to notify the kernel that we're ready.\n",
              "      channel.send({})\n",
              "\n",
              "      for await (const message of channel.messages) {\n",
              "        // Send a message to notify the kernel that we're ready.\n",
              "        channel.send({})\n",
              "        if (message.buffers) {\n",
              "          for (const buffer of message.buffers) {\n",
              "            buffers.push(buffer);\n",
              "            downloaded += buffer.byteLength;\n",
              "            progress.value = downloaded;\n",
              "          }\n",
              "        }\n",
              "      }\n",
              "      const blob = new Blob(buffers, {type: 'application/binary'});\n",
              "      const a = document.createElement('a');\n",
              "      a.href = window.URL.createObjectURL(blob);\n",
              "      a.download = filename;\n",
              "      div.appendChild(a);\n",
              "      a.click();\n",
              "      div.remove();\n",
              "    }\n",
              "  "
            ]
          },
          "metadata": {}
        },
        {
          "output_type": "display_data",
          "data": {
            "text/plain": [
              "<IPython.core.display.Javascript object>"
            ],
            "application/javascript": [
              "download(\"download_5e91144f-b90f-4825-ac53-89e12dc8d8c5\", \"results_77_05_OSPWDPLSM_All_Logits_20k_20221118-025846.csv\", 38983407)"
            ]
          },
          "metadata": {}
        }
      ]
    }
  ],
  "metadata": {
    "kernelspec": {
      "display_name": "Python 3 (ipykernel)",
      "language": "python",
      "name": "python3"
    },
    "language_info": {
      "codemirror_mode": {
        "name": "ipython",
        "version": 3
      },
      "file_extension": ".py",
      "mimetype": "text/x-python",
      "name": "python",
      "nbconvert_exporter": "python",
      "pygments_lexer": "ipython3",
      "version": "3.8.13"
    },
    "colab": {
      "provenance": []
    },
    "accelerator": "GPU",
    "gpuClass": "standard"
  },
  "nbformat": 4,
  "nbformat_minor": 5
}